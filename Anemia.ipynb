{
  "nbformat": 4,
  "nbformat_minor": 0,
  "metadata": {
    "colab": {
      "provenance": []
    },
    "kernelspec": {
      "name": "python3",
      "display_name": "Python 3"
    },
    "language_info": {
      "name": "python"
    }
  },
  "cells": [
    {
      "cell_type": "code",
      "source": [
        "from google.colab import drive\n",
        "drive.mount('/content/drive')"
      ],
      "metadata": {
        "colab": {
          "base_uri": "https://localhost:8080/"
        },
        "id": "Zdb1bQZOtl38",
        "outputId": "42171d1f-7cb5-4fd7-e73c-50c818769bcd"
      },
      "execution_count": null,
      "outputs": [
        {
          "output_type": "stream",
          "name": "stdout",
          "text": [
            "Mounted at /content/drive\n"
          ]
        }
      ]
    },
    {
      "cell_type": "code",
      "execution_count": null,
      "metadata": {
        "id": "zJCmmmhUkRT4"
      },
      "outputs": [],
      "source": [
        "import pandas as pd\n",
        "import numpy as np\n",
        "import matplotlib.pyplot as plt\n",
        "pd.options.display.max_columns = None\n",
        "pd.options.display.max_rows = None\n",
        "df_a = pd.read_csv('/content/drive/MyDrive/Data Mining - Algoritmos/Niños MOQUEGUA.csv');\n",
        "\n",
        "#########\n",
        "df_b = pd.read_csv('/content/drive/MyDrive/Data Mining - Algoritmos/Niños AMAZONAS.csv');\n",
        "df_c = pd.read_csv('/content/drive/MyDrive/Data Mining - Algoritmos/Niños ANCASH.csv');\n",
        "df_d = pd.read_csv('/content/drive/MyDrive/Data Mining - Algoritmos/Niños AREQUIPA.csv');\n",
        "df_e = pd.read_csv('/content/drive/MyDrive/Data Mining - Algoritmos/Niños AYACUCHO.csv');\n",
        "df_f = pd.read_csv('/content/drive/MyDrive/Data Mining - Algoritmos/Niños CAJAMARCA.csv');\n",
        "df_g = pd.read_csv('/content/drive/MyDrive/Data Mining - Algoritmos/Niños CALLAO.csv');\n",
        "df_h = pd.read_csv('/content/drive/MyDrive/Data Mining - Algoritmos/Niños CUSCO.csv');\n",
        "df_i = pd.read_csv('/content/drive/MyDrive/Data Mining - Algoritmos/Niños HUANCAVELICA.csv');\n",
        "df_j = pd.read_csv('/content/drive/MyDrive/Data Mining - Algoritmos/Niños HUANUCO.csv');\n",
        "df_k = pd.read_csv('/content/drive/MyDrive/Data Mining - Algoritmos/Niños ICA.csv');\n",
        "df_l = pd.read_csv('/content/drive/MyDrive/Data Mining - Algoritmos/Niños JUNIN.csv');\n",
        "df_m = pd.read_csv('/content/drive/MyDrive/Data Mining - Algoritmos/Niños LA LIBERTAD.csv');\n",
        "df_n = pd.read_csv('/content/drive/MyDrive/Data Mining - Algoritmos/Niños LAMBAYEQUE.csv');\n",
        "df_o = pd.read_csv('/content/drive/MyDrive/Data Mining - Algoritmos/Niños LORETO.csv');\n",
        "df_p = pd.read_csv('/content/drive/MyDrive/Data Mining - Algoritmos/Niños MADRE DE DIOS.csv');\n",
        "df_q = pd.read_csv('/content/drive/MyDrive/Data Mining - Algoritmos/Niños PASCO.csv');\n",
        "df_r = pd.read_csv('/content/drive/MyDrive/Data Mining - Algoritmos/Niños PIURA.csv');\n",
        "df_s = pd.read_csv('/content/drive/MyDrive/Data Mining - Algoritmos/Niños PUNO.csv');\n",
        "df_t = pd.read_csv('/content/drive/MyDrive/Data Mining - Algoritmos/Niños SAN MARTIN.csv');\n",
        "df_u = pd.read_csv('/content/drive/MyDrive/Data Mining - Algoritmos/Niños TACNA.csv');\n",
        "df_v = pd.read_csv('/content/drive/MyDrive/Data Mining - Algoritmos/Niños UCAYALI.csv');\n",
        "\n",
        "df_w = pd.read_csv('/content/drive/MyDrive/Data Mining - Algoritmos/Niños LIMA DIRIS CENTRO.csv');\n",
        "df_x = pd.read_csv('/content/drive/MyDrive/Data Mining - Algoritmos/Niños LIMA DIRIS NORTE.csv');\n",
        "df_y = pd.read_csv('/content/drive/MyDrive/Data Mining - Algoritmos/Niños LIMA DIRIS SUR.csv');\n",
        "df_z = pd.read_csv('/content/drive/MyDrive/Data Mining - Algoritmos/Niños LIMA ESTE.csv');\n",
        "df_zz = pd.read_csv('/content/drive/MyDrive/Data Mining - Algoritmos/Niños LIMA PROVINCIAS.csv');\n",
        "#########\n",
        "df_aa = pd.read_csv('/content/drive/MyDrive/Data Mining - Algoritmos/HB_2020/Niños AMAZONAS.csv');\n",
        "df_bb = pd.read_csv('/content/drive/MyDrive/Data Mining - Algoritmos/HB_2020/Niños ANCASH.csv');\n",
        "df_cc = pd.read_csv('/content/drive/MyDrive/Data Mining - Algoritmos/HB_2020/Niños APURIMAC.csv');\n",
        "df_dd = pd.read_csv('/content/drive/MyDrive/Data Mining - Algoritmos/HB_2020/Niños AREQUIPA.csv');\n",
        "df_ee = pd.read_csv('/content/drive/MyDrive/Data Mining - Algoritmos/HB_2020/Niños AYACUCHO.csv');\n",
        "df_ff = pd.read_csv('/content/drive/MyDrive/Data Mining - Algoritmos/HB_2020/Niños CAJAMARCA.csv');\n",
        "df_gg = pd.read_csv('/content/drive/MyDrive/Data Mining - Algoritmos/HB_2020/Niños CALLAO.csv');\n",
        "df_hh = pd.read_csv('/content/drive/MyDrive/Data Mining - Algoritmos/HB_2020/Niños CUSCO.csv');\n",
        "df_ii = pd.read_csv('/content/drive/MyDrive/Data Mining - Algoritmos/HB_2020/Niños HUANCAVELICA.csv');\n",
        "df_jj = pd.read_csv('/content/drive/MyDrive/Data Mining - Algoritmos/HB_2020/Niños HUANUCO.csv', encoding='latin-1');\n",
        "df_jj = df_jj.rename(columns={'ï»¿Diresa': 'Diresa'})\n",
        "df_kk = pd.read_csv('/content/drive/MyDrive/Data Mining - Algoritmos/HB_2020/Niños ICA.csv');\n",
        "df_ll = pd.read_csv('/content/drive/MyDrive/Data Mining - Algoritmos/HB_2020/Niños JUNIN.csv');\n",
        "df_mm = pd.read_csv('/content/drive/MyDrive/Data Mining - Algoritmos/HB_2020/Niños LA LIBERTAD.csv');\n",
        "df_nn = pd.read_csv('/content/drive/MyDrive/Data Mining - Algoritmos/HB_2020/Niños LAMBAYEQUE.csv');\n",
        "df_oo = pd.read_csv('/content/drive/MyDrive/Data Mining - Algoritmos/HB_2020/Niños LORETO.csv');\n",
        "df_pp = pd.read_csv('/content/drive/MyDrive/Data Mining - Algoritmos/HB_2020/Niños MADRE DE DIOS.csv')\n",
        "df_qq = pd.read_csv('/content/drive/MyDrive/Data Mining - Algoritmos/HB_2020/Niños PASCO.csv');\n",
        "\n",
        "df_rr = pd.read_csv('/content/drive/MyDrive/Data Mining - Algoritmos/HB_2020/Niños PIURA.csv');\n",
        "df_ss = pd.read_csv('/content/drive/MyDrive/Data Mining - Algoritmos/HB_2020/Niños PUNO.csv');\n",
        "df_tt = pd.read_csv('/content/drive/MyDrive/Data Mining - Algoritmos/HB_2020/Niños SAN MARTIN.csv')\n",
        "df_uu = pd.read_csv('/content/drive/MyDrive/Data Mining - Algoritmos/HB_2020/Niños TACNA.csv');\n",
        "df_vv = pd.read_csv('/content/drive/MyDrive/Data Mining - Algoritmos/HB_2020/Niños UCAYALI.csv');\n",
        "\n",
        "df_ww = pd.read_csv('/content/drive/MyDrive/Data Mining - Algoritmos/HB_2020/Niños LIMA DIRIS CENTRO.csv');\n",
        "df_xx = pd.read_csv('/content/drive/MyDrive/Data Mining - Algoritmos/HB_2020/Niños LIMA DIRIS NORTE.csv');\n",
        "df_yy = pd.read_csv('/content/drive/MyDrive/Data Mining - Algoritmos/HB_2020/Niños LIMA DIRIS SUR.csv');\n",
        "df_z_z = pd.read_csv('/content/drive/MyDrive/Data Mining - Algoritmos/HB_2020/Niños LIMA DIRIS ESTE.csv');\n",
        "df_z_z_z = pd.read_csv('/content/drive/MyDrive/Data Mining - Algoritmos/HB_2020/Niños LIMA.csv');\n",
        "#########\n",
        "df_2021 = pd.concat([\n",
        "    df_a,\n",
        "    df_b,\n",
        "    df_c,\n",
        "    df_d,\n",
        "    df_e,\n",
        "    df_f,\n",
        "    df_g,\n",
        "    df_h,\n",
        "    df_i,\n",
        "    df_j,\n",
        "    df_k,\n",
        "    df_l,\n",
        "    df_m,\n",
        "    df_n,\n",
        "    df_o,\n",
        "    df_p,\n",
        "    df_q,\n",
        "    df_r,\n",
        "    df_s,\n",
        "    df_t,\n",
        "    df_u,\n",
        "    df_v,\n",
        "    df_w,\n",
        "    df_x,\n",
        "    df_y,\n",
        "    df_z,\n",
        "    df_zz\n",
        "    ], ignore_index=True)\n",
        "\n",
        "df_2020 = pd.concat([\n",
        "    df_aa,\n",
        "    df_bb,\n",
        "    df_cc,\n",
        "    df_dd,\n",
        "    df_ee,\n",
        "    df_ff,\n",
        "    df_gg,\n",
        "    df_hh,\n",
        "    df_ii,\n",
        "    df_jj,\n",
        "    df_kk,\n",
        "    df_ll,\n",
        "    df_mm,\n",
        "    df_nn,\n",
        "    df_oo,\n",
        "    df_pp,\n",
        "    df_qq,\n",
        "    df_rr,\n",
        "    df_ss,\n",
        "    df_tt,\n",
        "    df_uu,\n",
        "    df_vv,\n",
        "    df_ww,\n",
        "    df_xx,\n",
        "    df_yy,\n",
        "    df_z_z,\n",
        "    df_z_z_z\n",
        "], ignore_index=True)\n",
        "df_2020 = df_2020.drop(['Renipress','Diresa','Red','Microred','EESS','Dpto_EESS','Prov_EESS','Dist_EESS','UbigeoPN','DepartamentoPN','ProvinciaPN','DistritoPN','CentroPobladoPN','UbigeoREN','DepartamentoREN','ProvinciaREN','DistritoREN','AlturaREN',\n",
        "              'Juntos','SIS','Pin','Qaliwarma','Cred','Suplementacion','Consejeria','Sesion','FechaAtencion','FechaNacimiento','FechaHemoglobina','HBC'], axis=1)\n",
        "df_2021 = df_2021.drop(['Renipress','Diresa','Red','Microred','EESS','Dpto_EESS','Prov_EESS','Dist_EESS','Pais','UbigeoPN','DepartamentoPN','ProvinciaPN','DistritoPN','CentroPobladoPN','UbigeoREN','DepartamentoREN','ProvinciaREN','DistritoREN','AlturaREN','MES',\n",
        "              'Juntos','SIS','Pin','Qaliwarma','Cred','Suplementacion','Consejeria','Sesion','FechaAtencion','FechaNacimiento','FechaHemoglobina','HBC'], axis=1)\n"
      ]
    },
    {
      "cell_type": "code",
      "source": [
        "df = pd.concat([df_2021,df_2020])"
      ],
      "metadata": {
        "id": "WpW0aIgjkr5I"
      },
      "execution_count": null,
      "outputs": []
    },
    {
      "cell_type": "code",
      "source": [
        "print(pd.value_counts(df['Dx_Anemia'], sort = True))"
      ],
      "metadata": {
        "colab": {
          "base_uri": "https://localhost:8080/"
        },
        "id": "bT4OPLyPkXst",
        "outputId": "58a4a6fe-992c-4701-eb00-1f95817acaed"
      },
      "execution_count": null,
      "outputs": [
        {
          "output_type": "stream",
          "name": "stdout",
          "text": [
            "Normal             826923\n",
            "Anemia Leve        190012\n",
            "Anemia Moderada     97616\n",
            "Anemia Severa        2308\n",
            "Name: Dx_Anemia, dtype: int64\n"
          ]
        }
      ]
    },
    {
      "cell_type": "code",
      "source": [
        "df.replace(r'^\\s*$', np.nan, regex=True, inplace=True)"
      ],
      "metadata": {
        "id": "aFwv0prnkt7r"
      },
      "execution_count": null,
      "outputs": []
    },
    {
      "cell_type": "code",
      "source": [
        "df['Peso'] = pd.to_numeric(df['Peso'], errors='coerce')\n",
        "df['Talla'] = pd.to_numeric(df['Talla'], errors='coerce')\n",
        "df['Peso'] = df['Peso'].round(decimals=2)\n",
        "df['Talla'] = df['Talla'].round(decimals=2)\n",
        "\n",
        "df['Peso'].fillna((df['Peso'].mean()), inplace=True)\n",
        "df['Talla'].fillna((df['Talla'].mean()), inplace=True)\n",
        "\n",
        "df.reset_index()"
      ],
      "metadata": {
        "id": "R3TAh7yRk1UY"
      },
      "execution_count": null,
      "outputs": []
    },
    {
      "cell_type": "code",
      "source": [
        "print(df.dtypes)"
      ],
      "metadata": {
        "id": "XbpYiBpNk6HU",
        "colab": {
          "base_uri": "https://localhost:8080/"
        },
        "outputId": "8c88b612-a51f-4c52-c4c4-32d55343ab7b"
      },
      "execution_count": null,
      "outputs": [
        {
          "output_type": "stream",
          "name": "stdout",
          "text": [
            "Sexo            object\n",
            "EdadMeses        int64\n",
            "Peso           float64\n",
            "Talla          float64\n",
            "Hemoglobina    float64\n",
            "Dx_Anemia       object\n",
            "dtype: object\n"
          ]
        }
      ]
    },
    {
      "cell_type": "code",
      "source": [
        "object_columns = df.select_dtypes(include=['object']).columns\n",
        "df[object_columns] = df[object_columns].astype('category')\n",
        "\n",
        "numeric_columns = df.select_dtypes(include=['int64', 'float64']).columns\n",
        "categorical_data = df.drop(columns=numeric_columns)\n",
        "\n",
        "category_mapping = dict(enumerate(categorical_data['Dx_Anemia'].cat.categories))\n",
        "print(category_mapping)\n",
        "\n",
        "for column in categorical_data.columns:\n",
        "    categorical_data[column] = categorical_data[column].cat.codes\n",
        "categorical_data.head()\n"
      ],
      "metadata": {
        "id": "v2TEOSNAk9V6",
        "colab": {
          "base_uri": "https://localhost:8080/",
          "height": 224
        },
        "outputId": "daf8cbd3-ee72-4d75-eee9-3232902b3dba"
      },
      "execution_count": null,
      "outputs": [
        {
          "output_type": "stream",
          "name": "stdout",
          "text": [
            "{0: 'Anemia Leve', 1: 'Anemia Moderada', 2: 'Anemia Severa', 3: 'Normal'}\n"
          ]
        },
        {
          "output_type": "execute_result",
          "data": {
            "text/plain": [
              "   Sexo  Dx_Anemia\n",
              "0     1          3\n",
              "1     1          3\n",
              "2     1          3\n",
              "3     0          0\n",
              "4     1          3"
            ],
            "text/html": [
              "\n",
              "  <div id=\"df-6384e9cf-3bfc-490d-a5f9-1412c40d01b8\" class=\"colab-df-container\">\n",
              "    <div>\n",
              "<style scoped>\n",
              "    .dataframe tbody tr th:only-of-type {\n",
              "        vertical-align: middle;\n",
              "    }\n",
              "\n",
              "    .dataframe tbody tr th {\n",
              "        vertical-align: top;\n",
              "    }\n",
              "\n",
              "    .dataframe thead th {\n",
              "        text-align: right;\n",
              "    }\n",
              "</style>\n",
              "<table border=\"1\" class=\"dataframe\">\n",
              "  <thead>\n",
              "    <tr style=\"text-align: right;\">\n",
              "      <th></th>\n",
              "      <th>Sexo</th>\n",
              "      <th>Dx_Anemia</th>\n",
              "    </tr>\n",
              "  </thead>\n",
              "  <tbody>\n",
              "    <tr>\n",
              "      <th>0</th>\n",
              "      <td>1</td>\n",
              "      <td>3</td>\n",
              "    </tr>\n",
              "    <tr>\n",
              "      <th>1</th>\n",
              "      <td>1</td>\n",
              "      <td>3</td>\n",
              "    </tr>\n",
              "    <tr>\n",
              "      <th>2</th>\n",
              "      <td>1</td>\n",
              "      <td>3</td>\n",
              "    </tr>\n",
              "    <tr>\n",
              "      <th>3</th>\n",
              "      <td>0</td>\n",
              "      <td>0</td>\n",
              "    </tr>\n",
              "    <tr>\n",
              "      <th>4</th>\n",
              "      <td>1</td>\n",
              "      <td>3</td>\n",
              "    </tr>\n",
              "  </tbody>\n",
              "</table>\n",
              "</div>\n",
              "    <div class=\"colab-df-buttons\">\n",
              "\n",
              "  <div class=\"colab-df-container\">\n",
              "    <button class=\"colab-df-convert\" onclick=\"convertToInteractive('df-6384e9cf-3bfc-490d-a5f9-1412c40d01b8')\"\n",
              "            title=\"Convert this dataframe to an interactive table.\"\n",
              "            style=\"display:none;\">\n",
              "\n",
              "  <svg xmlns=\"http://www.w3.org/2000/svg\" height=\"24px\" viewBox=\"0 -960 960 960\">\n",
              "    <path d=\"M120-120v-720h720v720H120Zm60-500h600v-160H180v160Zm220 220h160v-160H400v160Zm0 220h160v-160H400v160ZM180-400h160v-160H180v160Zm440 0h160v-160H620v160ZM180-180h160v-160H180v160Zm440 0h160v-160H620v160Z\"/>\n",
              "  </svg>\n",
              "    </button>\n",
              "\n",
              "  <style>\n",
              "    .colab-df-container {\n",
              "      display:flex;\n",
              "      gap: 12px;\n",
              "    }\n",
              "\n",
              "    .colab-df-convert {\n",
              "      background-color: #E8F0FE;\n",
              "      border: none;\n",
              "      border-radius: 50%;\n",
              "      cursor: pointer;\n",
              "      display: none;\n",
              "      fill: #1967D2;\n",
              "      height: 32px;\n",
              "      padding: 0 0 0 0;\n",
              "      width: 32px;\n",
              "    }\n",
              "\n",
              "    .colab-df-convert:hover {\n",
              "      background-color: #E2EBFA;\n",
              "      box-shadow: 0px 1px 2px rgba(60, 64, 67, 0.3), 0px 1px 3px 1px rgba(60, 64, 67, 0.15);\n",
              "      fill: #174EA6;\n",
              "    }\n",
              "\n",
              "    .colab-df-buttons div {\n",
              "      margin-bottom: 4px;\n",
              "    }\n",
              "\n",
              "    [theme=dark] .colab-df-convert {\n",
              "      background-color: #3B4455;\n",
              "      fill: #D2E3FC;\n",
              "    }\n",
              "\n",
              "    [theme=dark] .colab-df-convert:hover {\n",
              "      background-color: #434B5C;\n",
              "      box-shadow: 0px 1px 3px 1px rgba(0, 0, 0, 0.15);\n",
              "      filter: drop-shadow(0px 1px 2px rgba(0, 0, 0, 0.3));\n",
              "      fill: #FFFFFF;\n",
              "    }\n",
              "  </style>\n",
              "\n",
              "    <script>\n",
              "      const buttonEl =\n",
              "        document.querySelector('#df-6384e9cf-3bfc-490d-a5f9-1412c40d01b8 button.colab-df-convert');\n",
              "      buttonEl.style.display =\n",
              "        google.colab.kernel.accessAllowed ? 'block' : 'none';\n",
              "\n",
              "      async function convertToInteractive(key) {\n",
              "        const element = document.querySelector('#df-6384e9cf-3bfc-490d-a5f9-1412c40d01b8');\n",
              "        const dataTable =\n",
              "          await google.colab.kernel.invokeFunction('convertToInteractive',\n",
              "                                                    [key], {});\n",
              "        if (!dataTable) return;\n",
              "\n",
              "        const docLinkHtml = 'Like what you see? Visit the ' +\n",
              "          '<a target=\"_blank\" href=https://colab.research.google.com/notebooks/data_table.ipynb>data table notebook</a>'\n",
              "          + ' to learn more about interactive tables.';\n",
              "        element.innerHTML = '';\n",
              "        dataTable['output_type'] = 'display_data';\n",
              "        await google.colab.output.renderOutput(dataTable, element);\n",
              "        const docLink = document.createElement('div');\n",
              "        docLink.innerHTML = docLinkHtml;\n",
              "        element.appendChild(docLink);\n",
              "      }\n",
              "    </script>\n",
              "  </div>\n",
              "\n",
              "\n",
              "<div id=\"df-749a2b4d-6df7-4e5e-82b0-6e586d49054b\">\n",
              "  <button class=\"colab-df-quickchart\" onclick=\"quickchart('df-749a2b4d-6df7-4e5e-82b0-6e586d49054b')\"\n",
              "            title=\"Suggest charts\"\n",
              "            style=\"display:none;\">\n",
              "\n",
              "<svg xmlns=\"http://www.w3.org/2000/svg\" height=\"24px\"viewBox=\"0 0 24 24\"\n",
              "     width=\"24px\">\n",
              "    <g>\n",
              "        <path d=\"M19 3H5c-1.1 0-2 .9-2 2v14c0 1.1.9 2 2 2h14c1.1 0 2-.9 2-2V5c0-1.1-.9-2-2-2zM9 17H7v-7h2v7zm4 0h-2V7h2v10zm4 0h-2v-4h2v4z\"/>\n",
              "    </g>\n",
              "</svg>\n",
              "  </button>\n",
              "\n",
              "<style>\n",
              "  .colab-df-quickchart {\n",
              "      --bg-color: #E8F0FE;\n",
              "      --fill-color: #1967D2;\n",
              "      --hover-bg-color: #E2EBFA;\n",
              "      --hover-fill-color: #174EA6;\n",
              "      --disabled-fill-color: #AAA;\n",
              "      --disabled-bg-color: #DDD;\n",
              "  }\n",
              "\n",
              "  [theme=dark] .colab-df-quickchart {\n",
              "      --bg-color: #3B4455;\n",
              "      --fill-color: #D2E3FC;\n",
              "      --hover-bg-color: #434B5C;\n",
              "      --hover-fill-color: #FFFFFF;\n",
              "      --disabled-bg-color: #3B4455;\n",
              "      --disabled-fill-color: #666;\n",
              "  }\n",
              "\n",
              "  .colab-df-quickchart {\n",
              "    background-color: var(--bg-color);\n",
              "    border: none;\n",
              "    border-radius: 50%;\n",
              "    cursor: pointer;\n",
              "    display: none;\n",
              "    fill: var(--fill-color);\n",
              "    height: 32px;\n",
              "    padding: 0;\n",
              "    width: 32px;\n",
              "  }\n",
              "\n",
              "  .colab-df-quickchart:hover {\n",
              "    background-color: var(--hover-bg-color);\n",
              "    box-shadow: 0 1px 2px rgba(60, 64, 67, 0.3), 0 1px 3px 1px rgba(60, 64, 67, 0.15);\n",
              "    fill: var(--button-hover-fill-color);\n",
              "  }\n",
              "\n",
              "  .colab-df-quickchart-complete:disabled,\n",
              "  .colab-df-quickchart-complete:disabled:hover {\n",
              "    background-color: var(--disabled-bg-color);\n",
              "    fill: var(--disabled-fill-color);\n",
              "    box-shadow: none;\n",
              "  }\n",
              "\n",
              "  .colab-df-spinner {\n",
              "    border: 2px solid var(--fill-color);\n",
              "    border-color: transparent;\n",
              "    border-bottom-color: var(--fill-color);\n",
              "    animation:\n",
              "      spin 1s steps(1) infinite;\n",
              "  }\n",
              "\n",
              "  @keyframes spin {\n",
              "    0% {\n",
              "      border-color: transparent;\n",
              "      border-bottom-color: var(--fill-color);\n",
              "      border-left-color: var(--fill-color);\n",
              "    }\n",
              "    20% {\n",
              "      border-color: transparent;\n",
              "      border-left-color: var(--fill-color);\n",
              "      border-top-color: var(--fill-color);\n",
              "    }\n",
              "    30% {\n",
              "      border-color: transparent;\n",
              "      border-left-color: var(--fill-color);\n",
              "      border-top-color: var(--fill-color);\n",
              "      border-right-color: var(--fill-color);\n",
              "    }\n",
              "    40% {\n",
              "      border-color: transparent;\n",
              "      border-right-color: var(--fill-color);\n",
              "      border-top-color: var(--fill-color);\n",
              "    }\n",
              "    60% {\n",
              "      border-color: transparent;\n",
              "      border-right-color: var(--fill-color);\n",
              "    }\n",
              "    80% {\n",
              "      border-color: transparent;\n",
              "      border-right-color: var(--fill-color);\n",
              "      border-bottom-color: var(--fill-color);\n",
              "    }\n",
              "    90% {\n",
              "      border-color: transparent;\n",
              "      border-bottom-color: var(--fill-color);\n",
              "    }\n",
              "  }\n",
              "</style>\n",
              "\n",
              "  <script>\n",
              "    async function quickchart(key) {\n",
              "      const quickchartButtonEl =\n",
              "        document.querySelector('#' + key + ' button');\n",
              "      quickchartButtonEl.disabled = true;  // To prevent multiple clicks.\n",
              "      quickchartButtonEl.classList.add('colab-df-spinner');\n",
              "      try {\n",
              "        const charts = await google.colab.kernel.invokeFunction(\n",
              "            'suggestCharts', [key], {});\n",
              "      } catch (error) {\n",
              "        console.error('Error during call to suggestCharts:', error);\n",
              "      }\n",
              "      quickchartButtonEl.classList.remove('colab-df-spinner');\n",
              "      quickchartButtonEl.classList.add('colab-df-quickchart-complete');\n",
              "    }\n",
              "    (() => {\n",
              "      let quickchartButtonEl =\n",
              "        document.querySelector('#df-749a2b4d-6df7-4e5e-82b0-6e586d49054b button');\n",
              "      quickchartButtonEl.style.display =\n",
              "        google.colab.kernel.accessAllowed ? 'block' : 'none';\n",
              "    })();\n",
              "  </script>\n",
              "</div>\n",
              "    </div>\n",
              "  </div>\n"
            ]
          },
          "metadata": {},
          "execution_count": 9
        }
      ]
    },
    {
      "cell_type": "code",
      "source": [
        "from collections import Counter\n",
        "from matplotlib import pyplot\n",
        "\n",
        "y =categorical_data.iloc[:, -1]\n",
        "counter = Counter(y)\n",
        "for k,v in counter.items():\n",
        "\tper = v / len(y) * 100\n",
        "\tprint('Class=%d, n=%d (%.3f%%)' % (k, v, per))"
      ],
      "metadata": {
        "id": "ZV7ex7ChlHAg",
        "colab": {
          "base_uri": "https://localhost:8080/"
        },
        "outputId": "28ebbdc4-bd81-412f-cab5-c1454b12c305"
      },
      "execution_count": null,
      "outputs": [
        {
          "output_type": "stream",
          "name": "stdout",
          "text": [
            "Class=3, n=826923 (74.040%)\n",
            "Class=0, n=190012 (17.013%)\n",
            "Class=1, n=97616 (8.740%)\n",
            "Class=2, n=2308 (0.207%)\n"
          ]
        }
      ]
    },
    {
      "cell_type": "code",
      "source": [
        "category_columns = df.select_dtypes(include=['category']).columns\n",
        "numerical_data = df.drop(columns=category_columns)\n",
        "df_new = numerical_data.join(categorical_data)\n",
        "df_new.head()"
      ],
      "metadata": {
        "id": "SJfyJMtPlITv",
        "colab": {
          "base_uri": "https://localhost:8080/",
          "height": 206
        },
        "outputId": "919b5a87-ee72-4452-f8f0-e632b58a8737"
      },
      "execution_count": null,
      "outputs": [
        {
          "output_type": "execute_result",
          "data": {
            "text/plain": [
              "   EdadMeses  Peso  Talla  Hemoglobina  Sexo  Dx_Anemia\n",
              "0         44  19.5  102.0         12.2     1          3\n",
              "0         44  19.5  102.0         12.2     1          3\n",
              "0         50  13.0   90.5         12.8     1          3\n",
              "0         50  13.0   90.5         12.8     1          3\n",
              "1         31  13.7   94.6         13.0     1          3"
            ],
            "text/html": [
              "\n",
              "  <div id=\"df-b7edd86b-9fa6-4cf1-b305-78879123da21\" class=\"colab-df-container\">\n",
              "    <div>\n",
              "<style scoped>\n",
              "    .dataframe tbody tr th:only-of-type {\n",
              "        vertical-align: middle;\n",
              "    }\n",
              "\n",
              "    .dataframe tbody tr th {\n",
              "        vertical-align: top;\n",
              "    }\n",
              "\n",
              "    .dataframe thead th {\n",
              "        text-align: right;\n",
              "    }\n",
              "</style>\n",
              "<table border=\"1\" class=\"dataframe\">\n",
              "  <thead>\n",
              "    <tr style=\"text-align: right;\">\n",
              "      <th></th>\n",
              "      <th>EdadMeses</th>\n",
              "      <th>Peso</th>\n",
              "      <th>Talla</th>\n",
              "      <th>Hemoglobina</th>\n",
              "      <th>Sexo</th>\n",
              "      <th>Dx_Anemia</th>\n",
              "    </tr>\n",
              "  </thead>\n",
              "  <tbody>\n",
              "    <tr>\n",
              "      <th>0</th>\n",
              "      <td>44</td>\n",
              "      <td>19.5</td>\n",
              "      <td>102.0</td>\n",
              "      <td>12.2</td>\n",
              "      <td>1</td>\n",
              "      <td>3</td>\n",
              "    </tr>\n",
              "    <tr>\n",
              "      <th>0</th>\n",
              "      <td>44</td>\n",
              "      <td>19.5</td>\n",
              "      <td>102.0</td>\n",
              "      <td>12.2</td>\n",
              "      <td>1</td>\n",
              "      <td>3</td>\n",
              "    </tr>\n",
              "    <tr>\n",
              "      <th>0</th>\n",
              "      <td>50</td>\n",
              "      <td>13.0</td>\n",
              "      <td>90.5</td>\n",
              "      <td>12.8</td>\n",
              "      <td>1</td>\n",
              "      <td>3</td>\n",
              "    </tr>\n",
              "    <tr>\n",
              "      <th>0</th>\n",
              "      <td>50</td>\n",
              "      <td>13.0</td>\n",
              "      <td>90.5</td>\n",
              "      <td>12.8</td>\n",
              "      <td>1</td>\n",
              "      <td>3</td>\n",
              "    </tr>\n",
              "    <tr>\n",
              "      <th>1</th>\n",
              "      <td>31</td>\n",
              "      <td>13.7</td>\n",
              "      <td>94.6</td>\n",
              "      <td>13.0</td>\n",
              "      <td>1</td>\n",
              "      <td>3</td>\n",
              "    </tr>\n",
              "  </tbody>\n",
              "</table>\n",
              "</div>\n",
              "    <div class=\"colab-df-buttons\">\n",
              "\n",
              "  <div class=\"colab-df-container\">\n",
              "    <button class=\"colab-df-convert\" onclick=\"convertToInteractive('df-b7edd86b-9fa6-4cf1-b305-78879123da21')\"\n",
              "            title=\"Convert this dataframe to an interactive table.\"\n",
              "            style=\"display:none;\">\n",
              "\n",
              "  <svg xmlns=\"http://www.w3.org/2000/svg\" height=\"24px\" viewBox=\"0 -960 960 960\">\n",
              "    <path d=\"M120-120v-720h720v720H120Zm60-500h600v-160H180v160Zm220 220h160v-160H400v160Zm0 220h160v-160H400v160ZM180-400h160v-160H180v160Zm440 0h160v-160H620v160ZM180-180h160v-160H180v160Zm440 0h160v-160H620v160Z\"/>\n",
              "  </svg>\n",
              "    </button>\n",
              "\n",
              "  <style>\n",
              "    .colab-df-container {\n",
              "      display:flex;\n",
              "      gap: 12px;\n",
              "    }\n",
              "\n",
              "    .colab-df-convert {\n",
              "      background-color: #E8F0FE;\n",
              "      border: none;\n",
              "      border-radius: 50%;\n",
              "      cursor: pointer;\n",
              "      display: none;\n",
              "      fill: #1967D2;\n",
              "      height: 32px;\n",
              "      padding: 0 0 0 0;\n",
              "      width: 32px;\n",
              "    }\n",
              "\n",
              "    .colab-df-convert:hover {\n",
              "      background-color: #E2EBFA;\n",
              "      box-shadow: 0px 1px 2px rgba(60, 64, 67, 0.3), 0px 1px 3px 1px rgba(60, 64, 67, 0.15);\n",
              "      fill: #174EA6;\n",
              "    }\n",
              "\n",
              "    .colab-df-buttons div {\n",
              "      margin-bottom: 4px;\n",
              "    }\n",
              "\n",
              "    [theme=dark] .colab-df-convert {\n",
              "      background-color: #3B4455;\n",
              "      fill: #D2E3FC;\n",
              "    }\n",
              "\n",
              "    [theme=dark] .colab-df-convert:hover {\n",
              "      background-color: #434B5C;\n",
              "      box-shadow: 0px 1px 3px 1px rgba(0, 0, 0, 0.15);\n",
              "      filter: drop-shadow(0px 1px 2px rgba(0, 0, 0, 0.3));\n",
              "      fill: #FFFFFF;\n",
              "    }\n",
              "  </style>\n",
              "\n",
              "    <script>\n",
              "      const buttonEl =\n",
              "        document.querySelector('#df-b7edd86b-9fa6-4cf1-b305-78879123da21 button.colab-df-convert');\n",
              "      buttonEl.style.display =\n",
              "        google.colab.kernel.accessAllowed ? 'block' : 'none';\n",
              "\n",
              "      async function convertToInteractive(key) {\n",
              "        const element = document.querySelector('#df-b7edd86b-9fa6-4cf1-b305-78879123da21');\n",
              "        const dataTable =\n",
              "          await google.colab.kernel.invokeFunction('convertToInteractive',\n",
              "                                                    [key], {});\n",
              "        if (!dataTable) return;\n",
              "\n",
              "        const docLinkHtml = 'Like what you see? Visit the ' +\n",
              "          '<a target=\"_blank\" href=https://colab.research.google.com/notebooks/data_table.ipynb>data table notebook</a>'\n",
              "          + ' to learn more about interactive tables.';\n",
              "        element.innerHTML = '';\n",
              "        dataTable['output_type'] = 'display_data';\n",
              "        await google.colab.output.renderOutput(dataTable, element);\n",
              "        const docLink = document.createElement('div');\n",
              "        docLink.innerHTML = docLinkHtml;\n",
              "        element.appendChild(docLink);\n",
              "      }\n",
              "    </script>\n",
              "  </div>\n",
              "\n",
              "\n",
              "<div id=\"df-7aaf4295-5f2f-4a75-ad9c-d7a73a760abe\">\n",
              "  <button class=\"colab-df-quickchart\" onclick=\"quickchart('df-7aaf4295-5f2f-4a75-ad9c-d7a73a760abe')\"\n",
              "            title=\"Suggest charts\"\n",
              "            style=\"display:none;\">\n",
              "\n",
              "<svg xmlns=\"http://www.w3.org/2000/svg\" height=\"24px\"viewBox=\"0 0 24 24\"\n",
              "     width=\"24px\">\n",
              "    <g>\n",
              "        <path d=\"M19 3H5c-1.1 0-2 .9-2 2v14c0 1.1.9 2 2 2h14c1.1 0 2-.9 2-2V5c0-1.1-.9-2-2-2zM9 17H7v-7h2v7zm4 0h-2V7h2v10zm4 0h-2v-4h2v4z\"/>\n",
              "    </g>\n",
              "</svg>\n",
              "  </button>\n",
              "\n",
              "<style>\n",
              "  .colab-df-quickchart {\n",
              "      --bg-color: #E8F0FE;\n",
              "      --fill-color: #1967D2;\n",
              "      --hover-bg-color: #E2EBFA;\n",
              "      --hover-fill-color: #174EA6;\n",
              "      --disabled-fill-color: #AAA;\n",
              "      --disabled-bg-color: #DDD;\n",
              "  }\n",
              "\n",
              "  [theme=dark] .colab-df-quickchart {\n",
              "      --bg-color: #3B4455;\n",
              "      --fill-color: #D2E3FC;\n",
              "      --hover-bg-color: #434B5C;\n",
              "      --hover-fill-color: #FFFFFF;\n",
              "      --disabled-bg-color: #3B4455;\n",
              "      --disabled-fill-color: #666;\n",
              "  }\n",
              "\n",
              "  .colab-df-quickchart {\n",
              "    background-color: var(--bg-color);\n",
              "    border: none;\n",
              "    border-radius: 50%;\n",
              "    cursor: pointer;\n",
              "    display: none;\n",
              "    fill: var(--fill-color);\n",
              "    height: 32px;\n",
              "    padding: 0;\n",
              "    width: 32px;\n",
              "  }\n",
              "\n",
              "  .colab-df-quickchart:hover {\n",
              "    background-color: var(--hover-bg-color);\n",
              "    box-shadow: 0 1px 2px rgba(60, 64, 67, 0.3), 0 1px 3px 1px rgba(60, 64, 67, 0.15);\n",
              "    fill: var(--button-hover-fill-color);\n",
              "  }\n",
              "\n",
              "  .colab-df-quickchart-complete:disabled,\n",
              "  .colab-df-quickchart-complete:disabled:hover {\n",
              "    background-color: var(--disabled-bg-color);\n",
              "    fill: var(--disabled-fill-color);\n",
              "    box-shadow: none;\n",
              "  }\n",
              "\n",
              "  .colab-df-spinner {\n",
              "    border: 2px solid var(--fill-color);\n",
              "    border-color: transparent;\n",
              "    border-bottom-color: var(--fill-color);\n",
              "    animation:\n",
              "      spin 1s steps(1) infinite;\n",
              "  }\n",
              "\n",
              "  @keyframes spin {\n",
              "    0% {\n",
              "      border-color: transparent;\n",
              "      border-bottom-color: var(--fill-color);\n",
              "      border-left-color: var(--fill-color);\n",
              "    }\n",
              "    20% {\n",
              "      border-color: transparent;\n",
              "      border-left-color: var(--fill-color);\n",
              "      border-top-color: var(--fill-color);\n",
              "    }\n",
              "    30% {\n",
              "      border-color: transparent;\n",
              "      border-left-color: var(--fill-color);\n",
              "      border-top-color: var(--fill-color);\n",
              "      border-right-color: var(--fill-color);\n",
              "    }\n",
              "    40% {\n",
              "      border-color: transparent;\n",
              "      border-right-color: var(--fill-color);\n",
              "      border-top-color: var(--fill-color);\n",
              "    }\n",
              "    60% {\n",
              "      border-color: transparent;\n",
              "      border-right-color: var(--fill-color);\n",
              "    }\n",
              "    80% {\n",
              "      border-color: transparent;\n",
              "      border-right-color: var(--fill-color);\n",
              "      border-bottom-color: var(--fill-color);\n",
              "    }\n",
              "    90% {\n",
              "      border-color: transparent;\n",
              "      border-bottom-color: var(--fill-color);\n",
              "    }\n",
              "  }\n",
              "</style>\n",
              "\n",
              "  <script>\n",
              "    async function quickchart(key) {\n",
              "      const quickchartButtonEl =\n",
              "        document.querySelector('#' + key + ' button');\n",
              "      quickchartButtonEl.disabled = true;  // To prevent multiple clicks.\n",
              "      quickchartButtonEl.classList.add('colab-df-spinner');\n",
              "      try {\n",
              "        const charts = await google.colab.kernel.invokeFunction(\n",
              "            'suggestCharts', [key], {});\n",
              "      } catch (error) {\n",
              "        console.error('Error during call to suggestCharts:', error);\n",
              "      }\n",
              "      quickchartButtonEl.classList.remove('colab-df-spinner');\n",
              "      quickchartButtonEl.classList.add('colab-df-quickchart-complete');\n",
              "    }\n",
              "    (() => {\n",
              "      let quickchartButtonEl =\n",
              "        document.querySelector('#df-7aaf4295-5f2f-4a75-ad9c-d7a73a760abe button');\n",
              "      quickchartButtonEl.style.display =\n",
              "        google.colab.kernel.accessAllowed ? 'block' : 'none';\n",
              "    })();\n",
              "  </script>\n",
              "</div>\n",
              "    </div>\n",
              "  </div>\n"
            ]
          },
          "metadata": {},
          "execution_count": 11
        }
      ]
    },
    {
      "cell_type": "code",
      "source": [
        "dataset_final = df_new"
      ],
      "metadata": {
        "id": "2JpWsebJlORM"
      },
      "execution_count": null,
      "outputs": []
    },
    {
      "cell_type": "code",
      "source": [
        "dataset_final.head(1)"
      ],
      "metadata": {
        "id": "KoYjMsY9lPpu",
        "colab": {
          "base_uri": "https://localhost:8080/",
          "height": 81
        },
        "outputId": "294e4940-50f5-4121-d0f6-e906f25f1d7c"
      },
      "execution_count": null,
      "outputs": [
        {
          "output_type": "execute_result",
          "data": {
            "text/plain": [
              "   EdadMeses  Peso  Talla  Hemoglobina  Sexo  Dx_Anemia\n",
              "0         44  19.5  102.0         12.2     1          3"
            ],
            "text/html": [
              "\n",
              "  <div id=\"df-559debb0-7167-4376-8fac-338b9a22a2e2\" class=\"colab-df-container\">\n",
              "    <div>\n",
              "<style scoped>\n",
              "    .dataframe tbody tr th:only-of-type {\n",
              "        vertical-align: middle;\n",
              "    }\n",
              "\n",
              "    .dataframe tbody tr th {\n",
              "        vertical-align: top;\n",
              "    }\n",
              "\n",
              "    .dataframe thead th {\n",
              "        text-align: right;\n",
              "    }\n",
              "</style>\n",
              "<table border=\"1\" class=\"dataframe\">\n",
              "  <thead>\n",
              "    <tr style=\"text-align: right;\">\n",
              "      <th></th>\n",
              "      <th>EdadMeses</th>\n",
              "      <th>Peso</th>\n",
              "      <th>Talla</th>\n",
              "      <th>Hemoglobina</th>\n",
              "      <th>Sexo</th>\n",
              "      <th>Dx_Anemia</th>\n",
              "    </tr>\n",
              "  </thead>\n",
              "  <tbody>\n",
              "    <tr>\n",
              "      <th>0</th>\n",
              "      <td>44</td>\n",
              "      <td>19.5</td>\n",
              "      <td>102.0</td>\n",
              "      <td>12.2</td>\n",
              "      <td>1</td>\n",
              "      <td>3</td>\n",
              "    </tr>\n",
              "  </tbody>\n",
              "</table>\n",
              "</div>\n",
              "    <div class=\"colab-df-buttons\">\n",
              "\n",
              "  <div class=\"colab-df-container\">\n",
              "    <button class=\"colab-df-convert\" onclick=\"convertToInteractive('df-559debb0-7167-4376-8fac-338b9a22a2e2')\"\n",
              "            title=\"Convert this dataframe to an interactive table.\"\n",
              "            style=\"display:none;\">\n",
              "\n",
              "  <svg xmlns=\"http://www.w3.org/2000/svg\" height=\"24px\" viewBox=\"0 -960 960 960\">\n",
              "    <path d=\"M120-120v-720h720v720H120Zm60-500h600v-160H180v160Zm220 220h160v-160H400v160Zm0 220h160v-160H400v160ZM180-400h160v-160H180v160Zm440 0h160v-160H620v160ZM180-180h160v-160H180v160Zm440 0h160v-160H620v160Z\"/>\n",
              "  </svg>\n",
              "    </button>\n",
              "\n",
              "  <style>\n",
              "    .colab-df-container {\n",
              "      display:flex;\n",
              "      gap: 12px;\n",
              "    }\n",
              "\n",
              "    .colab-df-convert {\n",
              "      background-color: #E8F0FE;\n",
              "      border: none;\n",
              "      border-radius: 50%;\n",
              "      cursor: pointer;\n",
              "      display: none;\n",
              "      fill: #1967D2;\n",
              "      height: 32px;\n",
              "      padding: 0 0 0 0;\n",
              "      width: 32px;\n",
              "    }\n",
              "\n",
              "    .colab-df-convert:hover {\n",
              "      background-color: #E2EBFA;\n",
              "      box-shadow: 0px 1px 2px rgba(60, 64, 67, 0.3), 0px 1px 3px 1px rgba(60, 64, 67, 0.15);\n",
              "      fill: #174EA6;\n",
              "    }\n",
              "\n",
              "    .colab-df-buttons div {\n",
              "      margin-bottom: 4px;\n",
              "    }\n",
              "\n",
              "    [theme=dark] .colab-df-convert {\n",
              "      background-color: #3B4455;\n",
              "      fill: #D2E3FC;\n",
              "    }\n",
              "\n",
              "    [theme=dark] .colab-df-convert:hover {\n",
              "      background-color: #434B5C;\n",
              "      box-shadow: 0px 1px 3px 1px rgba(0, 0, 0, 0.15);\n",
              "      filter: drop-shadow(0px 1px 2px rgba(0, 0, 0, 0.3));\n",
              "      fill: #FFFFFF;\n",
              "    }\n",
              "  </style>\n",
              "\n",
              "    <script>\n",
              "      const buttonEl =\n",
              "        document.querySelector('#df-559debb0-7167-4376-8fac-338b9a22a2e2 button.colab-df-convert');\n",
              "      buttonEl.style.display =\n",
              "        google.colab.kernel.accessAllowed ? 'block' : 'none';\n",
              "\n",
              "      async function convertToInteractive(key) {\n",
              "        const element = document.querySelector('#df-559debb0-7167-4376-8fac-338b9a22a2e2');\n",
              "        const dataTable =\n",
              "          await google.colab.kernel.invokeFunction('convertToInteractive',\n",
              "                                                    [key], {});\n",
              "        if (!dataTable) return;\n",
              "\n",
              "        const docLinkHtml = 'Like what you see? Visit the ' +\n",
              "          '<a target=\"_blank\" href=https://colab.research.google.com/notebooks/data_table.ipynb>data table notebook</a>'\n",
              "          + ' to learn more about interactive tables.';\n",
              "        element.innerHTML = '';\n",
              "        dataTable['output_type'] = 'display_data';\n",
              "        await google.colab.output.renderOutput(dataTable, element);\n",
              "        const docLink = document.createElement('div');\n",
              "        docLink.innerHTML = docLinkHtml;\n",
              "        element.appendChild(docLink);\n",
              "      }\n",
              "    </script>\n",
              "  </div>\n",
              "\n",
              "    </div>\n",
              "  </div>\n"
            ]
          },
          "metadata": {},
          "execution_count": 13
        }
      ]
    },
    {
      "cell_type": "markdown",
      "source": [
        "###Fin del Preprocesamiento"
      ],
      "metadata": {
        "id": "iyaMKfyklQnC"
      }
    },
    {
      "cell_type": "code",
      "source": [
        "columns_to_check = ['EdadMeses','Peso','Talla','Hemoglobina','Sexo']\n",
        "Q1 = dataset_final[columns_to_check].quantile(0.25)\n",
        "Q3 = dataset_final[columns_to_check].quantile(0.75)\n",
        "IQR = Q3 - Q1\n",
        "IQR"
      ],
      "metadata": {
        "id": "dkavDCZzxPiY",
        "colab": {
          "base_uri": "https://localhost:8080/"
        },
        "outputId": "60abb8ca-6fe0-4a64-9d89-9c2af484c3c3"
      },
      "execution_count": null,
      "outputs": [
        {
          "output_type": "execute_result",
          "data": {
            "text/plain": [
              "EdadMeses      23.000000\n",
              "Peso            1.929503\n",
              "Talla           3.800000\n",
              "Hemoglobina     1.800000\n",
              "Sexo            1.000000\n",
              "dtype: float64"
            ]
          },
          "metadata": {},
          "execution_count": 14
        }
      ]
    },
    {
      "cell_type": "code",
      "source": [
        "data_no_outliers = dataset_final[~((dataset_final[columns_to_check] < (Q1 - 1.5 * IQR)) | (dataset_final[columns_to_check] > (Q3 + 1.5 * IQR))).any(axis=1)]\n",
        "\n",
        "data_no_outliers.info()"
      ],
      "metadata": {
        "id": "1RcB9Jl6yRVV",
        "colab": {
          "base_uri": "https://localhost:8080/"
        },
        "outputId": "db8dc959-5771-4539-d299-d9d0bd7a28fc"
      },
      "execution_count": null,
      "outputs": [
        {
          "output_type": "stream",
          "name": "stdout",
          "text": [
            "<class 'pandas.core.frame.DataFrame'>\n",
            "Int64Index: 1463369 entries, 0 to 569262\n",
            "Data columns (total 6 columns):\n",
            " #   Column       Non-Null Count    Dtype  \n",
            "---  ------       --------------    -----  \n",
            " 0   EdadMeses    1463369 non-null  int64  \n",
            " 1   Peso         1463369 non-null  float64\n",
            " 2   Talla        1463369 non-null  float64\n",
            " 3   Hemoglobina  1463369 non-null  float64\n",
            " 4   Sexo         1463369 non-null  int8   \n",
            " 5   Dx_Anemia    1463369 non-null  int8   \n",
            "dtypes: float64(3), int64(1), int8(2)\n",
            "memory usage: 58.6 MB\n"
          ]
        }
      ]
    },
    {
      "cell_type": "markdown",
      "source": [
        "##Balanceamiento"
      ],
      "metadata": {
        "id": "f-XlU0NpoQPg"
      }
    },
    {
      "cell_type": "code",
      "source": [
        "X, y = data_no_outliers.iloc[:, :-1], data_no_outliers.iloc[:, -1]\n"
      ],
      "metadata": {
        "id": "dQh4Cj7PoMT6"
      },
      "execution_count": null,
      "outputs": []
    },
    {
      "cell_type": "code",
      "source": [
        "#from imblearn import under_sampling, over_sampling\n",
        "#from imblearn.under_sampling import RandomUnderSampler\n",
        "#from imblearn.over_sampling import SMOTE\n",
        "#\n",
        "#undersampling_strategy = {0: int(170020), 3: int(170020)}\n",
        "#undersampler = RandomUnderSampler(sampling_strategy=undersampling_strategy, random_state=21)\n",
        "#X_undersampled, y_undersampled = undersampler.fit_resample(X, y)\n",
        "#\n",
        "#oversampling_strategy = {1: int(170020),  2: int(170020)}\n",
        "#oversampler = SMOTE(sampling_strategy=oversampling_strategy, random_state=21)\n",
        "#X, y = oversampler.fit_resample(X_undersampled, y_undersampled)"
      ],
      "metadata": {
        "id": "GvdnsHE0oaiR"
      },
      "execution_count": null,
      "outputs": []
    },
    {
      "cell_type": "code",
      "source": [
        "counter = Counter(y)\n",
        "for k,v in counter.items():\n",
        "\tper = v / len(y) * 100\n",
        "\tprint('Class=%d, n=%d (%.3f%%)' % (k, v, per))"
      ],
      "metadata": {
        "colab": {
          "base_uri": "https://localhost:8080/"
        },
        "id": "0m2l1C_qsRrE",
        "outputId": "5d87e9a2-1968-4dab-bab2-784ddbb1bfbe"
      },
      "execution_count": null,
      "outputs": [
        {
          "output_type": "stream",
          "name": "stdout",
          "text": [
            "Class=3, n=1080073 (73.807%)\n",
            "Class=0, n=253759 (17.341%)\n",
            "Class=1, n=127032 (8.681%)\n",
            "Class=2, n=2505 (0.171%)\n"
          ]
        }
      ]
    },
    {
      "cell_type": "code",
      "source": [
        "from imblearn.over_sampling import SMOTE\n",
        "oversample = SMOTE()\n",
        "X, y = oversample.fit_resample(X,y)"
      ],
      "metadata": {
        "id": "x1eB61ve1EUj"
      },
      "execution_count": null,
      "outputs": []
    },
    {
      "cell_type": "code",
      "source": [
        "counter = Counter(y)\n",
        "for k,v in counter.items():\n",
        "\tper = v / len(y) * 100\n",
        "\tprint('Class=%d, n=%d (%.3f%%)' % (k, v, per))"
      ],
      "metadata": {
        "colab": {
          "base_uri": "https://localhost:8080/"
        },
        "id": "tSdd0hFE1ahj",
        "outputId": "10d9cfdf-e811-4592-c259-d7b1858791dd"
      },
      "execution_count": null,
      "outputs": [
        {
          "output_type": "stream",
          "name": "stdout",
          "text": [
            "Class=3, n=1080073 (25.000%)\n",
            "Class=0, n=1080073 (25.000%)\n",
            "Class=1, n=1080073 (25.000%)\n",
            "Class=2, n=1080073 (25.000%)\n"
          ]
        }
      ]
    },
    {
      "cell_type": "markdown",
      "source": [
        "#Random Forest"
      ],
      "metadata": {
        "id": "zP9ALso6lcyi"
      }
    },
    {
      "cell_type": "code",
      "source": [
        "from sklearn.model_selection import train_test_split\n",
        "from sklearn.preprocessing import StandardScaler\n",
        "from sklearn.ensemble import RandomForestClassifier\n",
        "from sklearn.metrics import confusion_matrix\n",
        "from sklearn.metrics import accuracy_score\n",
        "from sklearn.metrics import precision_score, recall_score\n",
        "from sklearn.metrics import f1_score, roc_auc_score, roc_curve\n",
        "\n",
        "X_train, X_test, y_train, y_test = train_test_split(X, y, test_size = 0.2, random_state = 42)"
      ],
      "metadata": {
        "id": "UW38XTVEliYo"
      },
      "execution_count": null,
      "outputs": []
    },
    {
      "cell_type": "code",
      "source": [
        "from sklearn.metrics import precision_score, recall_score\n",
        "from sklearn.metrics import f1_score, roc_auc_score\n",
        "from sklearn.preprocessing import label_binarize\n",
        "from sklearn.metrics import roc_curve, auc\n",
        "import matplotlib.pyplot as plt\n",
        "def general_model_report(y_actual, y_predicted):\n",
        "  print(\"Accuracy = \", accuracy_score(y_actual, y_predicted))\n",
        "  print(\"Precision = \", precision_score(y_actual, y_predicted, average='weighted'))\n",
        "  print(\"Recall = \", recall_score(y_actual, y_predicted, average='weighted'))\n",
        "  print(\"F1-score = \", f1_score(y_actual, y_predicted, average='weighted'))\n",
        "  pass\n",
        "\n",
        "def generate_roc_curve(clf, X_test, y_test):\n",
        "    y_test_bin = label_binarize(y_test, classes=clf.classes_)\n",
        "\n",
        "    y_pred_proba = clf.predict_proba(X_test)\n",
        "\n",
        "    plt.figure(figsize=(8, 8))\n",
        "\n",
        "    for i in range(len(clf.classes_)):\n",
        "        fpr, tpr, _ = roc_curve(y_test_bin[:, i], y_pred_proba[:, i])\n",
        "        auc_score = auc(fpr, tpr)\n",
        "        plt.plot(fpr, tpr, label=f'Class {i} (AUC = {auc_score:.2f})')\n",
        "\n",
        "    plt.xlabel('False Positive Rate')\n",
        "    plt.ylabel('True Positive Rate')\n",
        "    plt.title('ROC Curve for Multiclass Classification')\n",
        "    plt.legend()\n",
        "    plt.show()"
      ],
      "metadata": {
        "id": "7gBGO458p_Z6"
      },
      "execution_count": null,
      "outputs": []
    },
    {
      "cell_type": "code",
      "source": [
        "scaler = StandardScaler()\n",
        "X_train = scaler.fit_transform(X_train)\n",
        "X_test = scaler.transform(X_test)"
      ],
      "metadata": {
        "id": "kK_brsRAqEAs"
      },
      "execution_count": null,
      "outputs": []
    },
    {
      "cell_type": "code",
      "source": [
        "classifier = RandomForestClassifier(n_estimators = 10, criterion = 'entropy', random_state = 42)\n",
        "modelo =classifier.fit(X_train, y_train)\n",
        "y_pred_rf = modelo.predict(X_test)\n",
        "\n",
        "print(accuracy_score(y_test,y_pred_rf))"
      ],
      "metadata": {
        "colab": {
          "base_uri": "https://localhost:8080/"
        },
        "id": "_40_9r11qFkq",
        "outputId": "b7676b50-6c76-4981-a76f-cd862ac6f809"
      },
      "execution_count": null,
      "outputs": [
        {
          "output_type": "stream",
          "name": "stdout",
          "text": [
            "0.6791781579730087\n"
          ]
        }
      ]
    },
    {
      "cell_type": "code",
      "source": [
        "feature_importances = modelo.feature_importances_\n",
        "caracteristicas = dataset_final.columns[:-1]  # asumiendo que la última columna es la variable objetivo\n",
        "plt.bar(caracteristicas, feature_importances)\n",
        "plt.xlabel('características')\n",
        "plt.ylabel('Importance')\n",
        "plt.title('Feature Importances')\n",
        "plt.xticks(rotation=90)\n",
        "plt.show()"
      ],
      "metadata": {
        "id": "FyIOUhsAqRlG",
        "colab": {
          "base_uri": "https://localhost:8080/",
          "height": 550
        },
        "outputId": "e3068a17-fb3d-4cd1-dbec-876f56520744"
      },
      "execution_count": null,
      "outputs": [
        {
          "output_type": "display_data",
          "data": {
            "text/plain": [
              "<Figure size 640x480 with 1 Axes>"
            ],
            "image/png": "[encoded data removed]"
          },
          "metadata": {}
        }
      ]
    },
    {
      "cell_type": "code",
      "source": [
        "from sklearn.metrics import confusion_matrix, classification_report\n",
        "from matplotlib import pyplot as plt\n",
        "import seaborn as sns\n",
        "conf_matrix = confusion_matrix(y_test, y_pred_rf)\n",
        "plt.figure(figsize=(9, 6))\n",
        "sns.heatmap(conf_matrix, annot=True, fmt=\"d\");\n",
        "plt.title(\"Confusion matrix\")\n",
        "plt.ylabel('class')\n",
        "plt.xlabel('Predicted class')\n",
        "plt.show()\n",
        "print(classification_report(y_test, y_pred_rf))"
      ],
      "metadata": {
        "id": "wJWW_G-1qTfc",
        "colab": {
          "base_uri": "https://localhost:8080/",
          "height": 755
        },
        "outputId": "f3849608-76be-45bc-8122-64467d6109ba"
      },
      "execution_count": null,
      "outputs": [
        {
          "output_type": "display_data",
          "data": {
            "text/plain": [
              "<Figure size 900x600 with 2 Axes>"
            ],
            "image/png": "[encoded data removed]"
          },
          "metadata": {}
        },
        {
          "output_type": "stream",
          "name": "stdout",
          "text": [
            "              precision    recall  f1-score   support\n",
            "\n",
            "           0       0.64      0.53      0.58    215413\n",
            "           1       0.70      0.51      0.59    216541\n",
            "           2       0.93      0.93      0.93    216068\n",
            "           3       0.52      0.74      0.61    216037\n",
            "\n",
            "    accuracy                           0.68    864059\n",
            "   macro avg       0.70      0.68      0.68    864059\n",
            "weighted avg       0.70      0.68      0.68    864059\n",
            "\n"
          ]
        }
      ]
    },
    {
      "cell_type": "code",
      "source": [
        "counter = Counter(y_train)\n",
        "for k,v in counter.items():\n",
        "\tper = v / len(y) * 100\n",
        "\tprint('Class=%d, n=%d (%.3f%%)' % (k, v, per))\n",
        "print('----------------')\n",
        "counter = Counter(y_test)\n",
        "for k,v in counter.items():\n",
        "\tper = v / len(y) * 100\n",
        "\tprint('Class=%d, n=%d (%.3f%%)' % (k, v, per))"
      ],
      "metadata": {
        "id": "hJlQHkTfulXf",
        "colab": {
          "base_uri": "https://localhost:8080/"
        },
        "outputId": "e154a9e9-c1bf-4d53-bccc-eae3c81d9532"
      },
      "execution_count": null,
      "outputs": [
        {
          "output_type": "stream",
          "name": "stdout",
          "text": [
            "Class=3, n=864036 (19.999%)\n",
            "Class=0, n=864660 (20.014%)\n",
            "Class=2, n=864005 (19.999%)\n",
            "Class=1, n=863532 (19.988%)\n",
            "----------------\n",
            "Class=1, n=216541 (5.012%)\n",
            "Class=3, n=216037 (5.001%)\n",
            "Class=2, n=216068 (5.001%)\n",
            "Class=0, n=215413 (4.986%)\n"
          ]
        }
      ]
    },
    {
      "cell_type": "code",
      "source": [
        "#factor = pd.factorize(df['Dx_Anemia'])\n",
        "#df.niveles = factor[0]\n",
        "#definitions = factor[1]"
      ],
      "metadata": {
        "id": "S0UVmom86eOl",
        "colab": {
          "base_uri": "https://localhost:8080/"
        },
        "outputId": "21c3dd19-c118-4e2c-e916-8179cff34bef"
      },
      "execution_count": null,
      "outputs": [
        {
          "output_type": "stream",
          "name": "stderr",
          "text": [
            "<ipython-input-28-c6763cc2177d>:2: UserWarning: Pandas doesn't allow columns to be created via a new attribute name - see https://pandas.pydata.org/pandas-docs/stable/indexing.html#attribute-access\n",
            "  df.niveles = factor[0]\n"
          ]
        }
      ]
    },
    {
      "cell_type": "markdown",
      "source": [
        "##Arbol de Decision"
      ],
      "metadata": {
        "id": "Gg9lferL4nCU"
      }
    },
    {
      "cell_type": "code",
      "source": [
        "from sklearn.tree import DecisionTreeClassifier\n",
        "\n",
        "#X_train, X_test, y_train, y_test = train_test_split(X_resampled, y_resampled, test_size = 0.25, random_state = 21)\n",
        "\n",
        "dtr = DecisionTreeClassifier()\n",
        "arbolito = dtr.fit(X_train, y_train)\n",
        "y_pred_dt = arbolito.predict(X_test)"
      ],
      "metadata": {
        "id": "fw_E8IH64hTE"
      },
      "execution_count": null,
      "outputs": []
    },
    {
      "cell_type": "code",
      "source": [
        "#reversefactor = dict(zip(range(7),definitions))\n",
        "#y_test = np.vectorize(reversefactor.get)(y_test)\n",
        "#y_pred_dt = np.vectorize(reversefactor.get)(y_pred_dt)\n",
        "\n",
        "conf_matrix = confusion_matrix(y_test, y_pred_dt)\n",
        "plt.figure(figsize=(9, 6))\n",
        "sns.heatmap(conf_matrix, annot=True, fmt=\"d\");\n",
        "plt.title(\"Confusion matrix\")\n",
        "plt.ylabel('class')\n",
        "plt.xlabel('Predicted class')\n",
        "plt.show()\n",
        "print(classification_report(y_test, y_pred_dt))"
      ],
      "metadata": {
        "colab": {
          "base_uri": "https://localhost:8080/",
          "height": 755
        },
        "id": "E7Xd3WBePO0m",
        "outputId": "1df312d9-065d-441b-aca2-7b9cd2f22d64"
      },
      "execution_count": null,
      "outputs": [
        {
          "output_type": "display_data",
          "data": {
            "text/plain": [
              "<Figure size 900x600 with 2 Axes>"
            ],
            "image/png": "[encoded data removed]"
          },
          "metadata": {}
        },
        {
          "output_type": "stream",
          "name": "stdout",
          "text": [
            "              precision    recall  f1-score   support\n",
            "\n",
            "           0       0.60      0.50      0.54    215413\n",
            "           1       0.65      0.48      0.55    216541\n",
            "           2       0.92      0.92      0.92    216068\n",
            "           3       0.52      0.73      0.61    216037\n",
            "\n",
            "    accuracy                           0.66    864059\n",
            "   macro avg       0.67      0.66      0.66    864059\n",
            "weighted avg       0.67      0.66      0.66    864059\n",
            "\n"
          ]
        }
      ]
    },
    {
      "cell_type": "markdown",
      "source": [
        "##Regresión Logística"
      ],
      "metadata": {
        "id": "YrsBN_Mp6y6u"
      }
    },
    {
      "cell_type": "code",
      "source": [
        "from sklearn.linear_model import LogisticRegression\n",
        "\n",
        "#X_train, X_test, y_train, y_test = train_test_split(X, y, test_size = 0.25, random_state = 21)\n",
        "\n",
        "scaler = StandardScaler()\n",
        "X_train = scaler.fit_transform(X_train)\n",
        "X_test = scaler.transform(X_test)\n",
        "\n",
        "logistico_tactico = LogisticRegression(max_iter=1000).fit(X_train, y_train)\n",
        "y_pred_rl = logistico_tactico.predict(X_test)\n",
        "\n"
      ],
      "metadata": {
        "id": "Eko3hHZZ6yH5"
      },
      "execution_count": null,
      "outputs": []
    },
    {
      "cell_type": "code",
      "source": [
        "conf_matrix = confusion_matrix(y_test, y_pred_rl)\n",
        "plt.figure(figsize=(9, 6))\n",
        "sns.heatmap(conf_matrix, annot=True, fmt=\"d\");\n",
        "plt.title(\"Confusion matrix\")\n",
        "plt.ylabel('class')\n",
        "plt.xlabel('Predicted class')\n",
        "plt.show()\n",
        "print(classification_report(y_test, y_pred_rl))"
      ],
      "metadata": {
        "colab": {
          "base_uri": "https://localhost:8080/",
          "height": 755
        },
        "id": "pP0dwbG2PTt5",
        "outputId": "0483c09e-67fb-47d7-b13d-6ebbcc0299de"
      },
      "execution_count": null,
      "outputs": [
        {
          "output_type": "display_data",
          "data": {
            "text/plain": [
              "<Figure size 900x600 with 2 Axes>"
            ],
            "image/png": "[encoded data removed]"
          },
          "metadata": {}
        },
        {
          "output_type": "stream",
          "name": "stdout",
          "text": [
            "              precision    recall  f1-score   support\n",
            "\n",
            "           0       0.20      0.10      0.14    215413\n",
            "           1       0.26      0.13      0.18    216541\n",
            "           2       0.34      0.51      0.41    216068\n",
            "           3       0.36      0.54      0.43    216037\n",
            "\n",
            "    accuracy                           0.32    864059\n",
            "   macro avg       0.29      0.32      0.29    864059\n",
            "weighted avg       0.29      0.32      0.29    864059\n",
            "\n"
          ]
        }
      ]
    },
    {
      "cell_type": "markdown",
      "source": [
        "##Naive Bayes"
      ],
      "metadata": {
        "id": "tsfwb3Mg82Lu"
      }
    },
    {
      "cell_type": "code",
      "source": [
        "from sklearn.naive_bayes import GaussianNB\n",
        "from sklearn.metrics import accuracy_score, classification_report, confusion_matrix"
      ],
      "metadata": {
        "id": "cYach7_o7iVt"
      },
      "execution_count": null,
      "outputs": []
    },
    {
      "cell_type": "code",
      "source": [
        "naive_bayes_classifier = GaussianNB()\n",
        "naive_bayes_classifier.fit(X_train, y_train)\n",
        "y_pred_nb = naive_bayes_classifier.predict(X_test)\n",
        "\n",
        "conf_matrix = confusion_matrix(y_test, y_pred_nb)\n",
        "plt.figure(figsize=(9, 6))\n",
        "sns.heatmap(conf_matrix, annot=True, fmt=\"d\");\n",
        "plt.title(\"Confusion matrix\")\n",
        "plt.ylabel('class')\n",
        "plt.xlabel('Predicted class')\n",
        "plt.show()\n",
        "print(classification_report(y_test, y_pred_nb))"
      ],
      "metadata": {
        "id": "zVlbIbWg81q4",
        "colab": {
          "base_uri": "https://localhost:8080/",
          "height": 755
        },
        "outputId": "2fbd6a9c-9566-42eb-89dc-2ad5995c2bc4"
      },
      "execution_count": null,
      "outputs": [
        {
          "output_type": "display_data",
          "data": {
            "text/plain": [
              "<Figure size 900x600 with 2 Axes>"
            ],
            "image/png": "[encoded data removed]"
          },
          "metadata": {}
        },
        {
          "output_type": "stream",
          "name": "stdout",
          "text": [
            "              precision    recall  f1-score   support\n",
            "\n",
            "           0       0.22      0.24      0.23    215413\n",
            "           1       0.23      0.10      0.13    216541\n",
            "           2       0.42      0.39      0.40    216068\n",
            "           3       0.35      0.56      0.43    216037\n",
            "\n",
            "    accuracy                           0.32    864059\n",
            "   macro avg       0.31      0.32      0.30    864059\n",
            "weighted avg       0.31      0.32      0.30    864059\n",
            "\n"
          ]
        }
      ]
    },
    {
      "cell_type": "markdown",
      "source": [
        "##SVM"
      ],
      "metadata": {
        "id": "9ItoTZ9x9HiC"
      }
    },
    {
      "cell_type": "code",
      "source": [
        "from sklearn.svm import SVC\n"
      ],
      "metadata": {
        "id": "-OvDeYkp9C7C"
      },
      "execution_count": null,
      "outputs": []
    },
    {
      "cell_type": "code",
      "source": [
        "scaler = StandardScaler()\n",
        "X_train = scaler.fit_transform(X_train)\n",
        "X_test = scaler.transform(X_test)\n",
        "\n",
        "vectorcito = SVC(random_state=21)\n",
        "\n",
        "vectorcito.fit(X_train, y_train)\n",
        "\n",
        "y_pred_svm = vectorcito.predict(X_test)\n",
        "\n",
        "general_model_report(y_test,y_pred_svm)\n",
        "conf_matrix = confusion_matrix(y_test, y_pred_svm)\n",
        "plt.figure(figsize=(9, 6))\n",
        "sns.heatmap(conf_matrix, annot=True, fmt=\"d\");\n",
        "plt.title(\"Confusion matrix\")\n",
        "plt.ylabel('class')\n",
        "plt.xlabel('Predicted class')\n",
        "plt.show()\n",
        "print(classification_report(y_test, y_pred_svm))"
      ],
      "metadata": {
        "id": "zeaF5rED9NLa"
      },
      "execution_count": null,
      "outputs": []
    }
  ]
}