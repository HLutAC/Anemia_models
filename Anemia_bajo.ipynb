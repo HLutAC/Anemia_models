{
  "nbformat": 4,
  "nbformat_minor": 0,
  "metadata": {
    "colab": {
      "provenance": []
    },
    "kernelspec": {
      "name": "python3",
      "display_name": "Python 3"
    },
    "language_info": {
      "name": "python"
    }
  },
  "cells": [
    {
      "cell_type": "code",
      "source": [
        "from google.colab import drive\n",
        "drive.mount('/content/drive')"
      ],
      "metadata": {
        "colab": {
          "base_uri": "https://localhost:8080/"
        },
        "id": "Zdb1bQZOtl38",
        "outputId": "839f2fd6-4e79-413d-cd63-8c80026de183"
      },
      "execution_count": null,
      "outputs": [
        {
          "output_type": "stream",
          "name": "stdout",
          "text": [
            "Drive already mounted at /content/drive; to attempt to forcibly remount, call drive.mount(\"/content/drive\", force_remount=True).\n"
          ]
        }
      ]
    },
    {
      "cell_type": "code",
      "execution_count": null,
      "metadata": {
        "id": "zJCmmmhUkRT4"
      },
      "outputs": [],
      "source": [
        "import pandas as pd\n",
        "import numpy as np\n",
        "import matplotlib.pyplot as plt\n",
        "pd.options.display.max_columns = None\n",
        "pd.options.display.max_rows = None\n",
        "df_a = pd.read_csv('/content/drive/MyDrive/Data Mining - Algoritmos/Niños MOQUEGUA.csv');\n",
        "\n",
        "#########\n",
        "df_b = pd.read_csv('/content/drive/MyDrive/Data Mining - Algoritmos/Niños AMAZONAS.csv');\n",
        "df_c = pd.read_csv('/content/drive/MyDrive/Data Mining - Algoritmos/Niños ANCASH.csv');\n",
        "df_d = pd.read_csv('/content/drive/MyDrive/Data Mining - Algoritmos/Niños AREQUIPA.csv');\n",
        "df_e = pd.read_csv('/content/drive/MyDrive/Data Mining - Algoritmos/Niños AYACUCHO.csv');\n",
        "df_f = pd.read_csv('/content/drive/MyDrive/Data Mining - Algoritmos/Niños CAJAMARCA.csv');\n",
        "df_g = pd.read_csv('/content/drive/MyDrive/Data Mining - Algoritmos/Niños CALLAO.csv');\n",
        "df_h = pd.read_csv('/content/drive/MyDrive/Data Mining - Algoritmos/Niños CUSCO.csv');\n",
        "df_i = pd.read_csv('/content/drive/MyDrive/Data Mining - Algoritmos/Niños HUANCAVELICA.csv');\n",
        "df_j = pd.read_csv('/content/drive/MyDrive/Data Mining - Algoritmos/Niños HUANUCO.csv');\n",
        "df_k = pd.read_csv('/content/drive/MyDrive/Data Mining - Algoritmos/Niños ICA.csv');\n",
        "df_l = pd.read_csv('/content/drive/MyDrive/Data Mining - Algoritmos/Niños JUNIN.csv');\n",
        "df_m = pd.read_csv('/content/drive/MyDrive/Data Mining - Algoritmos/Niños LA LIBERTAD.csv');\n",
        "df_n = pd.read_csv('/content/drive/MyDrive/Data Mining - Algoritmos/Niños LAMBAYEQUE.csv');\n",
        "df_o = pd.read_csv('/content/drive/MyDrive/Data Mining - Algoritmos/Niños LORETO.csv');\n",
        "df_p = pd.read_csv('/content/drive/MyDrive/Data Mining - Algoritmos/Niños MADRE DE DIOS.csv');\n",
        "df_q = pd.read_csv('/content/drive/MyDrive/Data Mining - Algoritmos/Niños PASCO.csv');\n",
        "df_r = pd.read_csv('/content/drive/MyDrive/Data Mining - Algoritmos/Niños PIURA.csv');\n",
        "df_s = pd.read_csv('/content/drive/MyDrive/Data Mining - Algoritmos/Niños PUNO.csv');\n",
        "df_t = pd.read_csv('/content/drive/MyDrive/Data Mining - Algoritmos/Niños SAN MARTIN.csv');\n",
        "df_u = pd.read_csv('/content/drive/MyDrive/Data Mining - Algoritmos/Niños TACNA.csv');\n",
        "df_v = pd.read_csv('/content/drive/MyDrive/Data Mining - Algoritmos/Niños UCAYALI.csv');\n",
        "\n",
        "df_w = pd.read_csv('/content/drive/MyDrive/Data Mining - Algoritmos/Niños LIMA DIRIS CENTRO.csv');\n",
        "df_x = pd.read_csv('/content/drive/MyDrive/Data Mining - Algoritmos/Niños LIMA DIRIS NORTE.csv');\n",
        "df_y = pd.read_csv('/content/drive/MyDrive/Data Mining - Algoritmos/Niños LIMA DIRIS SUR.csv');\n",
        "df_z = pd.read_csv('/content/drive/MyDrive/Data Mining - Algoritmos/Niños LIMA ESTE.csv');\n",
        "df_zz = pd.read_csv('/content/drive/MyDrive/Data Mining - Algoritmos/Niños LIMA PROVINCIAS.csv');\n",
        "#########\n",
        "df_aa = pd.read_csv('/content/drive/MyDrive/Data Mining - Algoritmos/HB_2020/Niños AMAZONAS.csv');\n",
        "df_bb = pd.read_csv('/content/drive/MyDrive/Data Mining - Algoritmos/HB_2020/Niños ANCASH.csv');\n",
        "df_cc = pd.read_csv('/content/drive/MyDrive/Data Mining - Algoritmos/HB_2020/Niños APURIMAC.csv');\n",
        "df_dd = pd.read_csv('/content/drive/MyDrive/Data Mining - Algoritmos/HB_2020/Niños AREQUIPA.csv');\n",
        "df_ee = pd.read_csv('/content/drive/MyDrive/Data Mining - Algoritmos/HB_2020/Niños AYACUCHO.csv');\n",
        "df_ff = pd.read_csv('/content/drive/MyDrive/Data Mining - Algoritmos/HB_2020/Niños CAJAMARCA.csv');\n",
        "df_gg = pd.read_csv('/content/drive/MyDrive/Data Mining - Algoritmos/HB_2020/Niños CALLAO.csv');\n",
        "df_hh = pd.read_csv('/content/drive/MyDrive/Data Mining - Algoritmos/HB_2020/Niños CUSCO.csv');\n",
        "df_ii = pd.read_csv('/content/drive/MyDrive/Data Mining - Algoritmos/HB_2020/Niños HUANCAVELICA.csv');\n",
        "df_jj = pd.read_csv('/content/drive/MyDrive/Data Mining - Algoritmos/HB_2020/Niños HUANUCO.csv', encoding='latin-1');\n",
        "df_jj = df_jj.rename(columns={'ï»¿Diresa': 'Diresa'})\n",
        "df_kk = pd.read_csv('/content/drive/MyDrive/Data Mining - Algoritmos/HB_2020/Niños ICA.csv');\n",
        "df_ll = pd.read_csv('/content/drive/MyDrive/Data Mining - Algoritmos/HB_2020/Niños JUNIN.csv');\n",
        "df_mm = pd.read_csv('/content/drive/MyDrive/Data Mining - Algoritmos/HB_2020/Niños LA LIBERTAD.csv');\n",
        "df_nn = pd.read_csv('/content/drive/MyDrive/Data Mining - Algoritmos/HB_2020/Niños LAMBAYEQUE.csv');\n",
        "df_oo = pd.read_csv('/content/drive/MyDrive/Data Mining - Algoritmos/HB_2020/Niños LORETO.csv');\n",
        "df_pp = pd.read_csv('/content/drive/MyDrive/Data Mining - Algoritmos/HB_2020/Niños MADRE DE DIOS.csv')\n",
        "df_qq = pd.read_csv('/content/drive/MyDrive/Data Mining - Algoritmos/HB_2020/Niños PASCO.csv');\n",
        "\n",
        "df_rr = pd.read_csv('/content/drive/MyDrive/Data Mining - Algoritmos/HB_2020/Niños PIURA.csv');\n",
        "df_ss = pd.read_csv('/content/drive/MyDrive/Data Mining - Algoritmos/HB_2020/Niños PUNO.csv');\n",
        "df_tt = pd.read_csv('/content/drive/MyDrive/Data Mining - Algoritmos/HB_2020/Niños SAN MARTIN.csv')\n",
        "df_uu = pd.read_csv('/content/drive/MyDrive/Data Mining - Algoritmos/HB_2020/Niños TACNA.csv');\n",
        "df_vv = pd.read_csv('/content/drive/MyDrive/Data Mining - Algoritmos/HB_2020/Niños UCAYALI.csv');\n",
        "\n",
        "df_ww = pd.read_csv('/content/drive/MyDrive/Data Mining - Algoritmos/HB_2020/Niños LIMA DIRIS CENTRO.csv');\n",
        "df_xx = pd.read_csv('/content/drive/MyDrive/Data Mining - Algoritmos/HB_2020/Niños LIMA DIRIS NORTE.csv');\n",
        "df_yy = pd.read_csv('/content/drive/MyDrive/Data Mining - Algoritmos/HB_2020/Niños LIMA DIRIS SUR.csv');\n",
        "df_z_z = pd.read_csv('/content/drive/MyDrive/Data Mining - Algoritmos/HB_2020/Niños LIMA DIRIS ESTE.csv');\n",
        "df_z_z_z = pd.read_csv('/content/drive/MyDrive/Data Mining - Algoritmos/HB_2020/Niños LIMA.csv');\n",
        "#########\n",
        "df_2021 = pd.concat([\n",
        "    df_a,\n",
        "    df_b,\n",
        "    df_c,\n",
        "    df_d,\n",
        "    df_e,\n",
        "    df_f,\n",
        "    df_g,\n",
        "    df_h,\n",
        "    df_i,\n",
        "    df_j,\n",
        "    df_k,\n",
        "    df_l,\n",
        "    df_m,\n",
        "    df_n,\n",
        "    df_o,\n",
        "    df_p,\n",
        "    df_q,\n",
        "    df_r,\n",
        "    df_s,\n",
        "    df_t,\n",
        "    df_u,\n",
        "    df_v,\n",
        "    df_w,\n",
        "    df_x,\n",
        "    df_y,\n",
        "    df_z,\n",
        "    df_zz\n",
        "    ], ignore_index=True)\n",
        "\n",
        "df_2020 = pd.concat([\n",
        "    df_aa,\n",
        "    df_bb,\n",
        "    df_cc,\n",
        "    df_dd,\n",
        "    df_ee,\n",
        "    df_ff,\n",
        "    df_gg,\n",
        "    df_hh,\n",
        "    df_ii,\n",
        "    df_jj,\n",
        "    df_kk,\n",
        "    df_ll,\n",
        "    df_mm,\n",
        "    df_nn,\n",
        "    df_oo,\n",
        "    df_pp,\n",
        "    df_qq,\n",
        "    df_rr,\n",
        "    df_ss,\n",
        "    df_tt,\n",
        "    df_uu,\n",
        "    df_vv,\n",
        "    df_ww,\n",
        "    df_xx,\n",
        "    df_yy,\n",
        "    df_z_z,\n",
        "    df_z_z_z\n",
        "], ignore_index=True)\n",
        "df_2020 = df_2020.drop(['Renipress','Diresa','Red','Microred','EESS','Dpto_EESS','Prov_EESS','Dist_EESS','UbigeoPN','DepartamentoPN','ProvinciaPN','DistritoPN','CentroPobladoPN','UbigeoREN','DepartamentoREN','ProvinciaREN','DistritoREN','AlturaREN',\n",
        "              'Juntos','SIS','Pin','Qaliwarma','Cred','Suplementacion','Consejeria','Sesion','FechaAtencion','FechaNacimiento','FechaHemoglobina','HBC'], axis=1)\n",
        "df_2021 = df_2021.drop(['Renipress','Diresa','Red','Microred','EESS','Dpto_EESS','Prov_EESS','Dist_EESS','Pais','UbigeoPN','DepartamentoPN','ProvinciaPN','DistritoPN','CentroPobladoPN','UbigeoREN','DepartamentoREN','ProvinciaREN','DistritoREN','AlturaREN','MES',\n",
        "              'Juntos','SIS','Pin','Qaliwarma','Cred','Suplementacion','Consejeria','Sesion','FechaAtencion','FechaNacimiento','FechaHemoglobina','HBC'], axis=1)\n"
      ]
    },
    {
      "cell_type": "code",
      "source": [
        "df = df_2021"
      ],
      "metadata": {
        "id": "To5Fc9PN0UIp"
      },
      "execution_count": null,
      "outputs": []
    },
    {
      "cell_type": "code",
      "source": [
        "df_severa = df_2020[df_2020['Dx_Anemia'] == 'Anemia Severa']\n",
        "df = pd.concat([df, df_severa])"
      ],
      "metadata": {
        "id": "gkvw5g0ltss1"
      },
      "execution_count": null,
      "outputs": []
    },
    {
      "cell_type": "code",
      "source": [
        "#df = pd.concat([df_2021,df_2020])"
      ],
      "metadata": {
        "id": "WpW0aIgjkr5I"
      },
      "execution_count": null,
      "outputs": []
    },
    {
      "cell_type": "code",
      "source": [
        "print(pd.value_counts(df['Dx_Anemia'], sort = True))"
      ],
      "metadata": {
        "colab": {
          "base_uri": "https://localhost:8080/"
        },
        "id": "bT4OPLyPkXst",
        "outputId": "e1a644fb-fbc1-4464-b902-bc7e7b5c954a"
      },
      "execution_count": null,
      "outputs": [
        {
          "output_type": "stream",
          "name": "stdout",
          "text": [
            "Normal             413713\n",
            "Anemia Leve         89122\n",
            "Anemia Moderada     43792\n",
            "Anemia Severa        2308\n",
            "Name: Dx_Anemia, dtype: int64\n"
          ]
        }
      ]
    },
    {
      "cell_type": "code",
      "source": [
        "df.replace(r'^\\s*$', np.nan, regex=True, inplace=True)"
      ],
      "metadata": {
        "id": "aFwv0prnkt7r"
      },
      "execution_count": null,
      "outputs": []
    },
    {
      "cell_type": "code",
      "source": [
        "df['Peso'] = pd.to_numeric(df['Peso'], errors='coerce')\n",
        "df['Talla'] = pd.to_numeric(df['Talla'], errors='coerce')\n",
        "df['Peso'] = df['Peso'].round(decimals=2)\n",
        "df['Talla'] = df['Talla'].round(decimals=2)\n",
        "\n",
        "df['Peso'].fillna((df['Peso'].mean()), inplace=True)\n",
        "df['Talla'].fillna((df['Talla'].mean()), inplace=True)\n",
        "\n",
        "df.reset_index()"
      ],
      "metadata": {
        "id": "R3TAh7yRk1UY"
      },
      "execution_count": null,
      "outputs": []
    },
    {
      "cell_type": "code",
      "source": [
        "print(df.dtypes)"
      ],
      "metadata": {
        "id": "XbpYiBpNk6HU"
      },
      "execution_count": null,
      "outputs": []
    },
    {
      "cell_type": "code",
      "source": [
        "object_columns = df.select_dtypes(include=['object']).columns\n",
        "df[object_columns] = df[object_columns].astype('category')\n",
        "\n",
        "numeric_columns = df.select_dtypes(include=['int64', 'float64']).columns\n",
        "categorical_data = df.drop(columns=numeric_columns)\n",
        "\n",
        "category_mapping = dict(enumerate(categorical_data['Dx_Anemia'].cat.categories))\n",
        "print(category_mapping)\n",
        "\n",
        "for column in categorical_data.columns:\n",
        "    categorical_data[column] = categorical_data[column].cat.codes\n",
        "categorical_data.head()\n"
      ],
      "metadata": {
        "id": "v2TEOSNAk9V6"
      },
      "execution_count": null,
      "outputs": []
    },
    {
      "cell_type": "code",
      "source": [
        "from collections import Counter\n",
        "from matplotlib import pyplot\n",
        "\n",
        "y =categorical_data.iloc[:, -1]\n",
        "counter = Counter(y)\n",
        "for k,v in counter.items():\n",
        "\tper = v / len(y) * 100\n",
        "\tprint('Class=%d, n=%d (%.3f%%)' % (k, v, per))"
      ],
      "metadata": {
        "id": "ZV7ex7ChlHAg",
        "colab": {
          "base_uri": "https://localhost:8080/"
        },
        "outputId": "2289c413-9829-4272-f60e-ede57814e334"
      },
      "execution_count": null,
      "outputs": [
        {
          "output_type": "stream",
          "name": "stdout",
          "text": [
            "Class=3, n=413713 (75.366%)\n",
            "Class=0, n=89122 (16.235%)\n",
            "Class=1, n=43792 (7.978%)\n",
            "Class=2, n=2308 (0.420%)\n"
          ]
        }
      ]
    },
    {
      "cell_type": "code",
      "source": [
        "category_columns = df.select_dtypes(include=['category']).columns\n",
        "numerical_data = df.drop(columns=category_columns)\n",
        "df_new = numerical_data.join(categorical_data)\n",
        "df_new.head()"
      ],
      "metadata": {
        "id": "SJfyJMtPlITv",
        "colab": {
          "base_uri": "https://localhost:8080/",
          "height": 206
        },
        "outputId": "9db95b71-6945-45b9-eda8-20726aff85ec"
      },
      "execution_count": null,
      "outputs": [
        {
          "output_type": "execute_result",
          "data": {
            "text/plain": [
              "   EdadMeses  Peso  Talla  Hemoglobina  Sexo  Dx_Anemia\n",
              "0         44  19.5  102.0         12.2     1          3\n",
              "1         31  13.7   94.6         13.0     1          3\n",
              "2         12  11.2   77.3         15.4     1          3\n",
              "3          6   8.0   66.1         10.4     0          0\n",
              "4          7   9.0   68.7         14.4     1          3"
            ],
            "text/html": [
              "\n",
              "  <div id=\"df-669bf6d5-e768-4ab6-9f15-c6158575e08c\" class=\"colab-df-container\">\n",
              "    <div>\n",
              "<style scoped>\n",
              "    .dataframe tbody tr th:only-of-type {\n",
              "        vertical-align: middle;\n",
              "    }\n",
              "\n",
              "    .dataframe tbody tr th {\n",
              "        vertical-align: top;\n",
              "    }\n",
              "\n",
              "    .dataframe thead th {\n",
              "        text-align: right;\n",
              "    }\n",
              "</style>\n",
              "<table border=\"1\" class=\"dataframe\">\n",
              "  <thead>\n",
              "    <tr style=\"text-align: right;\">\n",
              "      <th></th>\n",
              "      <th>EdadMeses</th>\n",
              "      <th>Peso</th>\n",
              "      <th>Talla</th>\n",
              "      <th>Hemoglobina</th>\n",
              "      <th>Sexo</th>\n",
              "      <th>Dx_Anemia</th>\n",
              "    </tr>\n",
              "  </thead>\n",
              "  <tbody>\n",
              "    <tr>\n",
              "      <th>0</th>\n",
              "      <td>44</td>\n",
              "      <td>19.5</td>\n",
              "      <td>102.0</td>\n",
              "      <td>12.2</td>\n",
              "      <td>1</td>\n",
              "      <td>3</td>\n",
              "    </tr>\n",
              "    <tr>\n",
              "      <th>1</th>\n",
              "      <td>31</td>\n",
              "      <td>13.7</td>\n",
              "      <td>94.6</td>\n",
              "      <td>13.0</td>\n",
              "      <td>1</td>\n",
              "      <td>3</td>\n",
              "    </tr>\n",
              "    <tr>\n",
              "      <th>2</th>\n",
              "      <td>12</td>\n",
              "      <td>11.2</td>\n",
              "      <td>77.3</td>\n",
              "      <td>15.4</td>\n",
              "      <td>1</td>\n",
              "      <td>3</td>\n",
              "    </tr>\n",
              "    <tr>\n",
              "      <th>3</th>\n",
              "      <td>6</td>\n",
              "      <td>8.0</td>\n",
              "      <td>66.1</td>\n",
              "      <td>10.4</td>\n",
              "      <td>0</td>\n",
              "      <td>0</td>\n",
              "    </tr>\n",
              "    <tr>\n",
              "      <th>4</th>\n",
              "      <td>7</td>\n",
              "      <td>9.0</td>\n",
              "      <td>68.7</td>\n",
              "      <td>14.4</td>\n",
              "      <td>1</td>\n",
              "      <td>3</td>\n",
              "    </tr>\n",
              "  </tbody>\n",
              "</table>\n",
              "</div>\n",
              "    <div class=\"colab-df-buttons\">\n",
              "\n",
              "  <div class=\"colab-df-container\">\n",
              "    <button class=\"colab-df-convert\" onclick=\"convertToInteractive('df-669bf6d5-e768-4ab6-9f15-c6158575e08c')\"\n",
              "            title=\"Convert this dataframe to an interactive table.\"\n",
              "            style=\"display:none;\">\n",
              "\n",
              "  <svg xmlns=\"http://www.w3.org/2000/svg\" height=\"24px\" viewBox=\"0 -960 960 960\">\n",
              "    <path d=\"M120-120v-720h720v720H120Zm60-500h600v-160H180v160Zm220 220h160v-160H400v160Zm0 220h160v-160H400v160ZM180-400h160v-160H180v160Zm440 0h160v-160H620v160ZM180-180h160v-160H180v160Zm440 0h160v-160H620v160Z\"/>\n",
              "  </svg>\n",
              "    </button>\n",
              "\n",
              "  <style>\n",
              "    .colab-df-container {\n",
              "      display:flex;\n",
              "      gap: 12px;\n",
              "    }\n",
              "\n",
              "    .colab-df-convert {\n",
              "      background-color: #E8F0FE;\n",
              "      border: none;\n",
              "      border-radius: 50%;\n",
              "      cursor: pointer;\n",
              "      display: none;\n",
              "      fill: #1967D2;\n",
              "      height: 32px;\n",
              "      padding: 0 0 0 0;\n",
              "      width: 32px;\n",
              "    }\n",
              "\n",
              "    .colab-df-convert:hover {\n",
              "      background-color: #E2EBFA;\n",
              "      box-shadow: 0px 1px 2px rgba(60, 64, 67, 0.3), 0px 1px 3px 1px rgba(60, 64, 67, 0.15);\n",
              "      fill: #174EA6;\n",
              "    }\n",
              "\n",
              "    .colab-df-buttons div {\n",
              "      margin-bottom: 4px;\n",
              "    }\n",
              "\n",
              "    [theme=dark] .colab-df-convert {\n",
              "      background-color: #3B4455;\n",
              "      fill: #D2E3FC;\n",
              "    }\n",
              "\n",
              "    [theme=dark] .colab-df-convert:hover {\n",
              "      background-color: #434B5C;\n",
              "      box-shadow: 0px 1px 3px 1px rgba(0, 0, 0, 0.15);\n",
              "      filter: drop-shadow(0px 1px 2px rgba(0, 0, 0, 0.3));\n",
              "      fill: #FFFFFF;\n",
              "    }\n",
              "  </style>\n",
              "\n",
              "    <script>\n",
              "      const buttonEl =\n",
              "        document.querySelector('#df-669bf6d5-e768-4ab6-9f15-c6158575e08c button.colab-df-convert');\n",
              "      buttonEl.style.display =\n",
              "        google.colab.kernel.accessAllowed ? 'block' : 'none';\n",
              "\n",
              "      async function convertToInteractive(key) {\n",
              "        const element = document.querySelector('#df-669bf6d5-e768-4ab6-9f15-c6158575e08c');\n",
              "        const dataTable =\n",
              "          await google.colab.kernel.invokeFunction('convertToInteractive',\n",
              "                                                    [key], {});\n",
              "        if (!dataTable) return;\n",
              "\n",
              "        const docLinkHtml = 'Like what you see? Visit the ' +\n",
              "          '<a target=\"_blank\" href=https://colab.research.google.com/notebooks/data_table.ipynb>data table notebook</a>'\n",
              "          + ' to learn more about interactive tables.';\n",
              "        element.innerHTML = '';\n",
              "        dataTable['output_type'] = 'display_data';\n",
              "        await google.colab.output.renderOutput(dataTable, element);\n",
              "        const docLink = document.createElement('div');\n",
              "        docLink.innerHTML = docLinkHtml;\n",
              "        element.appendChild(docLink);\n",
              "      }\n",
              "    </script>\n",
              "  </div>\n",
              "\n",
              "\n",
              "<div id=\"df-a39470e1-d4db-43b9-9637-4bf76c57ce0c\">\n",
              "  <button class=\"colab-df-quickchart\" onclick=\"quickchart('df-a39470e1-d4db-43b9-9637-4bf76c57ce0c')\"\n",
              "            title=\"Suggest charts\"\n",
              "            style=\"display:none;\">\n",
              "\n",
              "<svg xmlns=\"http://www.w3.org/2000/svg\" height=\"24px\"viewBox=\"0 0 24 24\"\n",
              "     width=\"24px\">\n",
              "    <g>\n",
              "        <path d=\"M19 3H5c-1.1 0-2 .9-2 2v14c0 1.1.9 2 2 2h14c1.1 0 2-.9 2-2V5c0-1.1-.9-2-2-2zM9 17H7v-7h2v7zm4 0h-2V7h2v10zm4 0h-2v-4h2v4z\"/>\n",
              "    </g>\n",
              "</svg>\n",
              "  </button>\n",
              "\n",
              "<style>\n",
              "  .colab-df-quickchart {\n",
              "      --bg-color: #E8F0FE;\n",
              "      --fill-color: #1967D2;\n",
              "      --hover-bg-color: #E2EBFA;\n",
              "      --hover-fill-color: #174EA6;\n",
              "      --disabled-fill-color: #AAA;\n",
              "      --disabled-bg-color: #DDD;\n",
              "  }\n",
              "\n",
              "  [theme=dark] .colab-df-quickchart {\n",
              "      --bg-color: #3B4455;\n",
              "      --fill-color: #D2E3FC;\n",
              "      --hover-bg-color: #434B5C;\n",
              "      --hover-fill-color: #FFFFFF;\n",
              "      --disabled-bg-color: #3B4455;\n",
              "      --disabled-fill-color: #666;\n",
              "  }\n",
              "\n",
              "  .colab-df-quickchart {\n",
              "    background-color: var(--bg-color);\n",
              "    border: none;\n",
              "    border-radius: 50%;\n",
              "    cursor: pointer;\n",
              "    display: none;\n",
              "    fill: var(--fill-color);\n",
              "    height: 32px;\n",
              "    padding: 0;\n",
              "    width: 32px;\n",
              "  }\n",
              "\n",
              "  .colab-df-quickchart:hover {\n",
              "    background-color: var(--hover-bg-color);\n",
              "    box-shadow: 0 1px 2px rgba(60, 64, 67, 0.3), 0 1px 3px 1px rgba(60, 64, 67, 0.15);\n",
              "    fill: var(--button-hover-fill-color);\n",
              "  }\n",
              "\n",
              "  .colab-df-quickchart-complete:disabled,\n",
              "  .colab-df-quickchart-complete:disabled:hover {\n",
              "    background-color: var(--disabled-bg-color);\n",
              "    fill: var(--disabled-fill-color);\n",
              "    box-shadow: none;\n",
              "  }\n",
              "\n",
              "  .colab-df-spinner {\n",
              "    border: 2px solid var(--fill-color);\n",
              "    border-color: transparent;\n",
              "    border-bottom-color: var(--fill-color);\n",
              "    animation:\n",
              "      spin 1s steps(1) infinite;\n",
              "  }\n",
              "\n",
              "  @keyframes spin {\n",
              "    0% {\n",
              "      border-color: transparent;\n",
              "      border-bottom-color: var(--fill-color);\n",
              "      border-left-color: var(--fill-color);\n",
              "    }\n",
              "    20% {\n",
              "      border-color: transparent;\n",
              "      border-left-color: var(--fill-color);\n",
              "      border-top-color: var(--fill-color);\n",
              "    }\n",
              "    30% {\n",
              "      border-color: transparent;\n",
              "      border-left-color: var(--fill-color);\n",
              "      border-top-color: var(--fill-color);\n",
              "      border-right-color: var(--fill-color);\n",
              "    }\n",
              "    40% {\n",
              "      border-color: transparent;\n",
              "      border-right-color: var(--fill-color);\n",
              "      border-top-color: var(--fill-color);\n",
              "    }\n",
              "    60% {\n",
              "      border-color: transparent;\n",
              "      border-right-color: var(--fill-color);\n",
              "    }\n",
              "    80% {\n",
              "      border-color: transparent;\n",
              "      border-right-color: var(--fill-color);\n",
              "      border-bottom-color: var(--fill-color);\n",
              "    }\n",
              "    90% {\n",
              "      border-color: transparent;\n",
              "      border-bottom-color: var(--fill-color);\n",
              "    }\n",
              "  }\n",
              "</style>\n",
              "\n",
              "  <script>\n",
              "    async function quickchart(key) {\n",
              "      const quickchartButtonEl =\n",
              "        document.querySelector('#' + key + ' button');\n",
              "      quickchartButtonEl.disabled = true;  // To prevent multiple clicks.\n",
              "      quickchartButtonEl.classList.add('colab-df-spinner');\n",
              "      try {\n",
              "        const charts = await google.colab.kernel.invokeFunction(\n",
              "            'suggestCharts', [key], {});\n",
              "      } catch (error) {\n",
              "        console.error('Error during call to suggestCharts:', error);\n",
              "      }\n",
              "      quickchartButtonEl.classList.remove('colab-df-spinner');\n",
              "      quickchartButtonEl.classList.add('colab-df-quickchart-complete');\n",
              "    }\n",
              "    (() => {\n",
              "      let quickchartButtonEl =\n",
              "        document.querySelector('#df-a39470e1-d4db-43b9-9637-4bf76c57ce0c button');\n",
              "      quickchartButtonEl.style.display =\n",
              "        google.colab.kernel.accessAllowed ? 'block' : 'none';\n",
              "    })();\n",
              "  </script>\n",
              "</div>\n",
              "    </div>\n",
              "  </div>\n"
            ]
          },
          "metadata": {},
          "execution_count": 11
        }
      ]
    },
    {
      "cell_type": "code",
      "source": [
        "dataset_final = df_new"
      ],
      "metadata": {
        "id": "2JpWsebJlORM"
      },
      "execution_count": null,
      "outputs": []
    },
    {
      "cell_type": "code",
      "source": [
        "dataset_final.head(1)"
      ],
      "metadata": {
        "id": "KoYjMsY9lPpu",
        "colab": {
          "base_uri": "https://localhost:8080/",
          "height": 81
        },
        "outputId": "722b22c7-4f3f-4fa4-f605-00739e2b935f"
      },
      "execution_count": null,
      "outputs": [
        {
          "output_type": "execute_result",
          "data": {
            "text/plain": [
              "   EdadMeses  Peso  Talla  Hemoglobina  Sexo  Dx_Anemia\n",
              "0         44  19.5  102.0         12.2     1          3"
            ],
            "text/html": [
              "\n",
              "  <div id=\"df-c4b2f367-d435-4694-9803-accbf21ed5a6\" class=\"colab-df-container\">\n",
              "    <div>\n",
              "<style scoped>\n",
              "    .dataframe tbody tr th:only-of-type {\n",
              "        vertical-align: middle;\n",
              "    }\n",
              "\n",
              "    .dataframe tbody tr th {\n",
              "        vertical-align: top;\n",
              "    }\n",
              "\n",
              "    .dataframe thead th {\n",
              "        text-align: right;\n",
              "    }\n",
              "</style>\n",
              "<table border=\"1\" class=\"dataframe\">\n",
              "  <thead>\n",
              "    <tr style=\"text-align: right;\">\n",
              "      <th></th>\n",
              "      <th>EdadMeses</th>\n",
              "      <th>Peso</th>\n",
              "      <th>Talla</th>\n",
              "      <th>Hemoglobina</th>\n",
              "      <th>Sexo</th>\n",
              "      <th>Dx_Anemia</th>\n",
              "    </tr>\n",
              "  </thead>\n",
              "  <tbody>\n",
              "    <tr>\n",
              "      <th>0</th>\n",
              "      <td>44</td>\n",
              "      <td>19.5</td>\n",
              "      <td>102.0</td>\n",
              "      <td>12.2</td>\n",
              "      <td>1</td>\n",
              "      <td>3</td>\n",
              "    </tr>\n",
              "  </tbody>\n",
              "</table>\n",
              "</div>\n",
              "    <div class=\"colab-df-buttons\">\n",
              "\n",
              "  <div class=\"colab-df-container\">\n",
              "    <button class=\"colab-df-convert\" onclick=\"convertToInteractive('df-c4b2f367-d435-4694-9803-accbf21ed5a6')\"\n",
              "            title=\"Convert this dataframe to an interactive table.\"\n",
              "            style=\"display:none;\">\n",
              "\n",
              "  <svg xmlns=\"http://www.w3.org/2000/svg\" height=\"24px\" viewBox=\"0 -960 960 960\">\n",
              "    <path d=\"M120-120v-720h720v720H120Zm60-500h600v-160H180v160Zm220 220h160v-160H400v160Zm0 220h160v-160H400v160ZM180-400h160v-160H180v160Zm440 0h160v-160H620v160ZM180-180h160v-160H180v160Zm440 0h160v-160H620v160Z\"/>\n",
              "  </svg>\n",
              "    </button>\n",
              "\n",
              "  <style>\n",
              "    .colab-df-container {\n",
              "      display:flex;\n",
              "      gap: 12px;\n",
              "    }\n",
              "\n",
              "    .colab-df-convert {\n",
              "      background-color: #E8F0FE;\n",
              "      border: none;\n",
              "      border-radius: 50%;\n",
              "      cursor: pointer;\n",
              "      display: none;\n",
              "      fill: #1967D2;\n",
              "      height: 32px;\n",
              "      padding: 0 0 0 0;\n",
              "      width: 32px;\n",
              "    }\n",
              "\n",
              "    .colab-df-convert:hover {\n",
              "      background-color: #E2EBFA;\n",
              "      box-shadow: 0px 1px 2px rgba(60, 64, 67, 0.3), 0px 1px 3px 1px rgba(60, 64, 67, 0.15);\n",
              "      fill: #174EA6;\n",
              "    }\n",
              "\n",
              "    .colab-df-buttons div {\n",
              "      margin-bottom: 4px;\n",
              "    }\n",
              "\n",
              "    [theme=dark] .colab-df-convert {\n",
              "      background-color: #3B4455;\n",
              "      fill: #D2E3FC;\n",
              "    }\n",
              "\n",
              "    [theme=dark] .colab-df-convert:hover {\n",
              "      background-color: #434B5C;\n",
              "      box-shadow: 0px 1px 3px 1px rgba(0, 0, 0, 0.15);\n",
              "      filter: drop-shadow(0px 1px 2px rgba(0, 0, 0, 0.3));\n",
              "      fill: #FFFFFF;\n",
              "    }\n",
              "  </style>\n",
              "\n",
              "    <script>\n",
              "      const buttonEl =\n",
              "        document.querySelector('#df-c4b2f367-d435-4694-9803-accbf21ed5a6 button.colab-df-convert');\n",
              "      buttonEl.style.display =\n",
              "        google.colab.kernel.accessAllowed ? 'block' : 'none';\n",
              "\n",
              "      async function convertToInteractive(key) {\n",
              "        const element = document.querySelector('#df-c4b2f367-d435-4694-9803-accbf21ed5a6');\n",
              "        const dataTable =\n",
              "          await google.colab.kernel.invokeFunction('convertToInteractive',\n",
              "                                                    [key], {});\n",
              "        if (!dataTable) return;\n",
              "\n",
              "        const docLinkHtml = 'Like what you see? Visit the ' +\n",
              "          '<a target=\"_blank\" href=https://colab.research.google.com/notebooks/data_table.ipynb>data table notebook</a>'\n",
              "          + ' to learn more about interactive tables.';\n",
              "        element.innerHTML = '';\n",
              "        dataTable['output_type'] = 'display_data';\n",
              "        await google.colab.output.renderOutput(dataTable, element);\n",
              "        const docLink = document.createElement('div');\n",
              "        docLink.innerHTML = docLinkHtml;\n",
              "        element.appendChild(docLink);\n",
              "      }\n",
              "    </script>\n",
              "  </div>\n",
              "\n",
              "    </div>\n",
              "  </div>\n"
            ]
          },
          "metadata": {},
          "execution_count": 13
        }
      ]
    },
    {
      "cell_type": "code",
      "source": [
        "dataset_final.info()"
      ],
      "metadata": {
        "colab": {
          "base_uri": "https://localhost:8080/"
        },
        "id": "SMlmV_JO8vSq",
        "outputId": "bd8b9dca-b170-449a-a583-f7558c32087e"
      },
      "execution_count": null,
      "outputs": [
        {
          "output_type": "stream",
          "name": "stdout",
          "text": [
            "<class 'pandas.core.frame.DataFrame'>\n",
            "Int64Index: 551549 entries, 0 to 569100\n",
            "Data columns (total 6 columns):\n",
            " #   Column       Non-Null Count   Dtype  \n",
            "---  ------       --------------   -----  \n",
            " 0   EdadMeses    551549 non-null  int64  \n",
            " 1   Peso         551549 non-null  float64\n",
            " 2   Talla        551549 non-null  float64\n",
            " 3   Hemoglobina  551549 non-null  float64\n",
            " 4   Sexo         551549 non-null  int8   \n",
            " 5   Dx_Anemia    551549 non-null  int8   \n",
            "dtypes: float64(3), int64(1), int8(2)\n",
            "memory usage: 22.1 MB\n"
          ]
        }
      ]
    },
    {
      "cell_type": "code",
      "source": [
        "print(len(dataset_final))"
      ],
      "metadata": {
        "colab": {
          "base_uri": "https://localhost:8080/"
        },
        "id": "r5Ekcp0q-z_f",
        "outputId": "422d09f5-e004-4c26-f0a9-fe35ad765969"
      },
      "execution_count": null,
      "outputs": [
        {
          "output_type": "stream",
          "name": "stdout",
          "text": [
            "551549\n"
          ]
        }
      ]
    },
    {
      "cell_type": "markdown",
      "source": [
        "###Fin del Preprocesamiento"
      ],
      "metadata": {
        "id": "iyaMKfyklQnC"
      }
    },
    {
      "cell_type": "code",
      "source": [
        "columns_to_check = ['EdadMeses','Peso','Talla','Hemoglobina','Sexo']\n",
        "Q1 = dataset_final[columns_to_check].quantile(0.25)\n",
        "Q3 = dataset_final[columns_to_check].quantile(0.75)\n",
        "IQR = Q3 - Q1\n",
        "IQR\n",
        "data_no_outliers = dataset_final[\n",
        "    ~((dataset_final[columns_to_check] < (Q1 - 1.5 * IQR)) |\n",
        "     (dataset_final[columns_to_check] > (Q3 + 1.5 * IQR))).any(axis=1)\n",
        "     ]\n",
        "print(IQR)\n",
        "data_no_outliers.info()"
      ],
      "metadata": {
        "id": "dkavDCZzxPiY",
        "colab": {
          "base_uri": "https://localhost:8080/"
        },
        "outputId": "c7ccfadb-1b19-41ae-9d52-abaa221b93ed"
      },
      "execution_count": null,
      "outputs": [
        {
          "output_type": "stream",
          "name": "stdout",
          "text": [
            "EdadMeses      24.000000\n",
            "Peso            2.268784\n",
            "Talla           7.000000\n",
            "Hemoglobina     1.700000\n",
            "Sexo            1.000000\n",
            "dtype: float64\n",
            "<class 'pandas.core.frame.DataFrame'>\n",
            "Int64Index: 436586 entries, 1 to 567132\n",
            "Data columns (total 6 columns):\n",
            " #   Column       Non-Null Count   Dtype  \n",
            "---  ------       --------------   -----  \n",
            " 0   EdadMeses    436586 non-null  int64  \n",
            " 1   Peso         436586 non-null  float64\n",
            " 2   Talla        436586 non-null  float64\n",
            " 3   Hemoglobina  436586 non-null  float64\n",
            " 4   Sexo         436586 non-null  int8   \n",
            " 5   Dx_Anemia    436586 non-null  int8   \n",
            "dtypes: float64(3), int64(1), int8(2)\n",
            "memory usage: 17.5 MB\n"
          ]
        }
      ]
    },
    {
      "cell_type": "code",
      "source": [
        "print(Q1)\n",
        "print(Q3)"
      ],
      "metadata": {
        "colab": {
          "base_uri": "https://localhost:8080/"
        },
        "id": "kYE5O9pbze_M",
        "outputId": "3970ba1f-8cca-4465-9005-d5bfbb3ef39f"
      },
      "execution_count": null,
      "outputs": [
        {
          "output_type": "stream",
          "name": "stdout",
          "text": [
            "EdadMeses      12.00\n",
            "Peso           10.64\n",
            "Talla          79.00\n",
            "Hemoglobina    11.20\n",
            "Sexo            0.00\n",
            "Name: 0.25, dtype: float64\n",
            "EdadMeses      36.000000\n",
            "Peso           12.908784\n",
            "Talla          86.000000\n",
            "Hemoglobina    12.900000\n",
            "Sexo            1.000000\n",
            "Name: 0.75, dtype: float64\n"
          ]
        }
      ]
    },
    {
      "cell_type": "code",
      "source": [
        "print(dataset_final.dtypes)"
      ],
      "metadata": {
        "colab": {
          "base_uri": "https://localhost:8080/"
        },
        "id": "3jIvT8RCGESI",
        "outputId": "ecf10485-dffa-4ca4-8820-28bedcfd8d53"
      },
      "execution_count": null,
      "outputs": [
        {
          "output_type": "stream",
          "name": "stdout",
          "text": [
            "EdadMeses        int64\n",
            "Peso           float64\n",
            "Talla          float64\n",
            "Hemoglobina    float64\n",
            "Sexo              int8\n",
            "Dx_Anemia         int8\n",
            "dtype: object\n"
          ]
        }
      ]
    },
    {
      "cell_type": "markdown",
      "source": [
        "##Balanceamiento"
      ],
      "metadata": {
        "id": "f-XlU0NpoQPg"
      }
    },
    {
      "cell_type": "code",
      "source": [
        "X,y = dataset_final.iloc[:, :-1], dataset_final.iloc[:, -1]"
      ],
      "metadata": {
        "id": "3Lx79oLC_pC1"
      },
      "execution_count": null,
      "outputs": []
    },
    {
      "cell_type": "code",
      "source": [
        "counter = Counter(y)\n",
        "for k,v in counter.items():\n",
        "\tper = v / len(y) * 100\n",
        "\tprint('Class=%d, n=%d (%.3f%%)' % (k, v, per))\n",
        "\n",
        "pyplot.bar(counter.keys(), counter.values())\n",
        "pyplot.xlabel(\"Niveles\")\n",
        "pyplot.ylabel(\"Numero de registros\")\n",
        "pyplot.show()"
      ],
      "metadata": {
        "colab": {
          "base_uri": "https://localhost:8080/",
          "height": 518
        },
        "id": "BxPRjL7HCbfX",
        "outputId": "0629f4a6-492b-4c5a-cbd8-b6e785ffcbb1"
      },
      "execution_count": null,
      "outputs": [
        {
          "output_type": "stream",
          "name": "stdout",
          "text": [
            "Class=3, n=414678 (75.184%)\n",
            "Class=0, n=89342 (16.198%)\n",
            "Class=1, n=43913 (7.962%)\n",
            "Class=2, n=3616 (0.656%)\n"
          ]
        },
        {
          "output_type": "display_data",
          "data": {
            "text/plain": [
              "<Figure size 640x480 with 1 Axes>"
            ],
            "image/png": "[encoded data removed]"
          },
          "metadata": {}
        }
      ]
    },
    {
      "cell_type": "code",
      "source": [
        "X, y = data_no_outliers.iloc[:, :-1], data_no_outliers.iloc[:, -1]\n"
      ],
      "metadata": {
        "id": "dQh4Cj7PoMT6"
      },
      "execution_count": null,
      "outputs": []
    },
    {
      "cell_type": "code",
      "source": [
        "counter = Counter(y)\n",
        "for k,v in counter.items():\n",
        "\tper = v / len(y) * 100\n",
        "\tprint('Class=%d, n=%d (%.3f%%)' % (k, v, per))\n",
        "\n",
        "pyplot.bar(counter.keys(), counter.values())\n",
        "pyplot.xlabel(\"Niveles\")\n",
        "pyplot.ylabel(\"Numero de registros\")\n",
        "pyplot.show()"
      ],
      "metadata": {
        "colab": {
          "base_uri": "https://localhost:8080/",
          "height": 518
        },
        "id": "judYHLBSwnvq",
        "outputId": "9fee88a6-f05e-461b-acbe-2e9cd9124c5a"
      },
      "execution_count": null,
      "outputs": [
        {
          "output_type": "stream",
          "name": "stdout",
          "text": [
            "Class=3, n=325635 (74.587%)\n",
            "Class=1, n=34250 (7.845%)\n",
            "Class=0, n=74557 (17.077%)\n",
            "Class=2, n=2144 (0.491%)\n"
          ]
        },
        {
          "output_type": "display_data",
          "data": {
            "text/plain": [
              "<Figure size 640x480 with 1 Axes>"
            ],
            "image/png": "[encoded data removed]"
          },
          "metadata": {}
        }
      ]
    },
    {
      "cell_type": "code",
      "source": [
        "#from imblearn.under_sampling import RandomUnderSampler\n",
        "#\n",
        "## Especificamos la estrategia de muestreo\n",
        "#sampling_strategy = {\n",
        "#    0: 4500,\n",
        "#    1: 4500,\n",
        "#    2: 4500,\n",
        "#    3: 4500,\n",
        "#}\n",
        "#\n",
        "## Realizamos el undersampling\n",
        "#undersampler = RandomUnderSampler(sampling_strategy=sampling_strategy)\n",
        "#X, y = undersampler.fit_resample(X, y)"
      ],
      "metadata": {
        "id": "bWQjvUy9_zTv"
      },
      "execution_count": null,
      "outputs": []
    },
    {
      "cell_type": "code",
      "source": [
        "from imblearn import under_sampling, over_sampling\n",
        "from imblearn.under_sampling import RandomUnderSampler\n",
        "from imblearn.over_sampling import SMOTE\n",
        "\n",
        "undersampling_strategy = {3: int(150000)}\n",
        "undersampler = RandomUnderSampler(sampling_strategy=undersampling_strategy, random_state=21)\n",
        "X_undersampled, y_undersampled = undersampler.fit_resample(X, y)\n",
        "\n",
        "oversampling_strategy = {0: int(150000), 1: int(150000),  2: int(150000)}\n",
        "oversampler = SMOTE(sampling_strategy=oversampling_strategy, random_state=21)\n",
        "X, y = oversampler.fit_resample(X_undersampled, y_undersampled)"
      ],
      "metadata": {
        "id": "GvdnsHE0oaiR"
      },
      "execution_count": null,
      "outputs": []
    },
    {
      "cell_type": "code",
      "source": [
        "counter = Counter(y)\n",
        "for k,v in counter.items():\n",
        "\tper = v / len(y) * 100\n",
        "\tprint('Class=%d, n=%d (%.3f%%)' % (k, v, per))\n",
        "\n",
        "pyplot.bar(counter.keys(), counter.values())\n",
        "pyplot.xlabel(\"Niveles\")\n",
        "pyplot.ylabel(\"Numero de registros\")\n",
        "pyplot.show()"
      ],
      "metadata": {
        "colab": {
          "base_uri": "https://localhost:8080/",
          "height": 518
        },
        "id": "0m2l1C_qsRrE",
        "outputId": "3862ba80-9036-4c80-e930-c7287ae968d5"
      },
      "execution_count": null,
      "outputs": [
        {
          "output_type": "stream",
          "name": "stdout",
          "text": [
            "Class=0, n=150000 (25.000%)\n",
            "Class=1, n=150000 (25.000%)\n",
            "Class=2, n=150000 (25.000%)\n",
            "Class=3, n=150000 (25.000%)\n"
          ]
        },
        {
          "output_type": "display_data",
          "data": {
            "text/plain": [
              "<Figure size 640x480 with 1 Axes>"
            ],
            "image/png": "[encoded data removed]"
          },
          "metadata": {}
        }
      ]
    },
    {
      "cell_type": "code",
      "source": [
        "#from imblearn.over_sampling import SMOTE\n",
        "#oversample = SMOTE()\n",
        "#X, y = oversample.fit_resample(X,y)"
      ],
      "metadata": {
        "id": "x1eB61ve1EUj"
      },
      "execution_count": null,
      "outputs": []
    },
    {
      "cell_type": "code",
      "source": [
        "counter = Counter(y)\n",
        "for k,v in counter.items():\n",
        "\tper = v / len(y) * 100\n",
        "\tprint('Class=%d, n=%d (%.3f%%)' % (k, v, per))"
      ],
      "metadata": {
        "id": "tSdd0hFE1ahj",
        "colab": {
          "base_uri": "https://localhost:8080/"
        },
        "outputId": "eccee059-a418-482b-d111-ecb2f8b5c6af"
      },
      "execution_count": null,
      "outputs": [
        {
          "output_type": "stream",
          "name": "stdout",
          "text": [
            "Class=0, n=150000 (25.000%)\n",
            "Class=1, n=150000 (25.000%)\n",
            "Class=2, n=150000 (25.000%)\n",
            "Class=3, n=150000 (25.000%)\n"
          ]
        }
      ]
    },
    {
      "cell_type": "markdown",
      "source": [
        "#Random Forest"
      ],
      "metadata": {
        "id": "zP9ALso6lcyi"
      }
    },
    {
      "cell_type": "code",
      "source": [
        "from sklearn.model_selection import train_test_split\n",
        "from sklearn.preprocessing import StandardScaler\n",
        "from sklearn.ensemble import RandomForestClassifier\n",
        "from sklearn.metrics import confusion_matrix\n",
        "from sklearn.metrics import accuracy_score\n",
        "from sklearn.metrics import precision_score, recall_score\n",
        "from sklearn.metrics import f1_score, roc_auc_score, roc_curve\n",
        "\n",
        "X_train, X_test, y_train, y_test = train_test_split(X, y, test_size = 0.2, random_state = 42)"
      ],
      "metadata": {
        "id": "UW38XTVEliYo"
      },
      "execution_count": null,
      "outputs": []
    },
    {
      "cell_type": "code",
      "source": [
        "from sklearn.metrics import precision_score, recall_score\n",
        "from sklearn.metrics import f1_score, roc_auc_score\n",
        "from sklearn.preprocessing import label_binarize\n",
        "from sklearn.metrics import roc_curve, auc\n",
        "import matplotlib.pyplot as plt\n",
        "def general_model_report(y_actual, y_predicted):\n",
        "  print(\"Accuracy = \", accuracy_score(y_actual, y_predicted))\n",
        "  print(\"Precision = \", precision_score(y_actual, y_predicted, average='weighted'))\n",
        "  print(\"Recall = \", recall_score(y_actual, y_predicted, average='weighted'))\n",
        "  print(\"F1-score = \", f1_score(y_actual, y_predicted, average='weighted'))\n",
        "  pass\n",
        "\n",
        "def generate_roc_curve(clf, X_test, y_test):\n",
        "    y_test_bin = label_binarize(y_test, classes=clf.classes_)\n",
        "\n",
        "    y_pred_proba = clf.predict_proba(X_test)\n",
        "\n",
        "    plt.figure(figsize=(8, 8))\n",
        "\n",
        "    for i in range(len(clf.classes_)):\n",
        "        fpr, tpr, _ = roc_curve(y_test_bin[:, i], y_pred_proba[:, i])\n",
        "        auc_score = auc(fpr, tpr)\n",
        "        plt.plot(fpr, tpr, label=f'Class {i} (AUC = {auc_score:.2f})')\n",
        "\n",
        "    plt.xlabel('False Positive Rate')\n",
        "    plt.ylabel('True Positive Rate')\n",
        "    plt.title('ROC Curve for Multiclass Classification')\n",
        "    plt.legend()\n",
        "    plt.show()"
      ],
      "metadata": {
        "id": "7gBGO458p_Z6"
      },
      "execution_count": null,
      "outputs": []
    },
    {
      "cell_type": "code",
      "source": [
        "scaler = StandardScaler()\n",
        "X_train = scaler.fit_transform(X_train)\n",
        "X_test = scaler.transform(X_test)"
      ],
      "metadata": {
        "id": "kK_brsRAqEAs"
      },
      "execution_count": null,
      "outputs": []
    },
    {
      "cell_type": "code",
      "source": [
        "rfc = RandomForestClassifier(n_estimators = 100, criterion = 'entropy', random_state = 42)\n",
        "modelo =rfc.fit(X_train, y_train)\n",
        "y_pred_rf = modelo.predict(X_test)\n",
        "\n",
        "print(accuracy_score(y_test,y_pred_rf))"
      ],
      "metadata": {
        "id": "_40_9r11qFkq",
        "colab": {
          "base_uri": "https://localhost:8080/"
        },
        "outputId": "a8011639-230e-466b-a0f0-991372e6a419"
      },
      "execution_count": null,
      "outputs": [
        {
          "output_type": "stream",
          "name": "stdout",
          "text": [
            "0.791025\n"
          ]
        }
      ]
    },
    {
      "cell_type": "code",
      "source": [
        "feature_importances = modelo.feature_importances_\n",
        "caracteristicas = dataset_final.columns[:-1]\n",
        "plt.bar(caracteristicas, feature_importances)\n",
        "plt.xlabel('características')\n",
        "plt.ylabel('Importance')\n",
        "plt.title('Feature Importances')\n",
        "plt.xticks(rotation=90)\n",
        "plt.show()"
      ],
      "metadata": {
        "id": "FyIOUhsAqRlG",
        "colab": {
          "base_uri": "https://localhost:8080/",
          "height": 550
        },
        "outputId": "a9569656-93ab-4a53-a9c8-9f7bc0ee739a"
      },
      "execution_count": null,
      "outputs": [
        {
          "output_type": "display_data",
          "data": {
            "text/plain": [
              "<Figure size 640x480 with 1 Axes>"
            ],
            "image/png": "[encoded data removed]"
          },
          "metadata": {}
        }
      ]
    },
    {
      "cell_type": "code",
      "source": [
        "generate_roc_curve(modelo, X_test, y_test)"
      ],
      "metadata": {
        "id": "nWO8zKvm3JcS"
      },
      "execution_count": null,
      "outputs": []
    },
    {
      "cell_type": "code",
      "source": [
        "from sklearn.metrics import confusion_matrix, classification_report\n",
        "from matplotlib import pyplot as plt\n",
        "import seaborn as sns\n",
        "conf_matrix = confusion_matrix(y_test, y_pred_rf)\n",
        "plt.figure(figsize=(9, 6))\n",
        "sns.heatmap(conf_matrix, annot=True, fmt=\"d\");\n",
        "plt.title(\"Confusion matrix\")\n",
        "plt.ylabel('class')\n",
        "plt.xlabel('Predicted class')\n",
        "plt.show()\n",
        "print(classification_report(y_test, y_pred_rf))"
      ],
      "metadata": {
        "id": "wJWW_G-1qTfc",
        "colab": {
          "base_uri": "https://localhost:8080/",
          "height": 755
        },
        "outputId": "a9d25d3a-4b5e-46bf-f454-81b28e170027"
      },
      "execution_count": null,
      "outputs": [
        {
          "output_type": "display_data",
          "data": {
            "text/plain": [
              "<Figure size 900x600 with 2 Axes>"
            ],
            "image/png": "[encoded data removed]"
          },
          "metadata": {}
        },
        {
          "output_type": "stream",
          "name": "stdout",
          "text": [
            "              precision    recall  f1-score   support\n",
            "\n",
            "           0       0.77      0.72      0.74     30116\n",
            "           1       0.82      0.70      0.76     30030\n",
            "           2       0.90      0.89      0.90     29910\n",
            "           3       0.70      0.86      0.77     29944\n",
            "\n",
            "    accuracy                           0.79    120000\n",
            "   macro avg       0.80      0.79      0.79    120000\n",
            "weighted avg       0.80      0.79      0.79    120000\n",
            "\n"
          ]
        }
      ]
    },
    {
      "cell_type": "code",
      "source": [
        "counter = Counter(y_train)\n",
        "for k,v in counter.items():\n",
        "\tper = v / len(y) * 100\n",
        "\tprint('Class=%d, n=%d (%.3f%%)' % (k, v, per))\n",
        "print('----------------')\n",
        "counter = Counter(y_test)\n",
        "for k,v in counter.items():\n",
        "\tper = v / len(y) * 100\n",
        "\tprint('Class=%d, n=%d (%.3f%%)' % (k, v, per))"
      ],
      "metadata": {
        "id": "hJlQHkTfulXf",
        "colab": {
          "base_uri": "https://localhost:8080/"
        },
        "outputId": "c983cbf7-eb88-45bf-e79d-f8bfed8fbace"
      },
      "execution_count": null,
      "outputs": [
        {
          "output_type": "stream",
          "name": "stdout",
          "text": [
            "Class=2, n=120090 (20.015%)\n",
            "Class=0, n=119884 (19.981%)\n",
            "Class=1, n=119970 (19.995%)\n",
            "Class=3, n=120056 (20.009%)\n",
            "----------------\n",
            "Class=0, n=30116 (5.019%)\n",
            "Class=1, n=30030 (5.005%)\n",
            "Class=2, n=29910 (4.985%)\n",
            "Class=3, n=29944 (4.991%)\n"
          ]
        }
      ]
    },
    {
      "cell_type": "code",
      "source": [
        "#factor = pd.factorize(df['Dx_Anemia'])\n",
        "#df.niveles = factor[0]\n",
        "#definitions = factor[1]"
      ],
      "metadata": {
        "id": "S0UVmom86eOl"
      },
      "execution_count": null,
      "outputs": []
    },
    {
      "cell_type": "markdown",
      "source": [
        "#Arbol de Decision"
      ],
      "metadata": {
        "id": "Gg9lferL4nCU"
      }
    },
    {
      "cell_type": "code",
      "source": [
        "from sklearn.tree import DecisionTreeClassifier\n",
        "\n",
        "#X_train, X_test, y_train, y_test = train_test_split(X_resampled, y_resampled, test_size = 0.25, random_state = 21)\n",
        "\n",
        "dtr = DecisionTreeClassifier(criterion='entropy',max_depth=3, min_samples_split=2, random_state = 42)\n",
        "arbolito = dtr.fit(X_train, y_train)\n",
        "y_pred_dt = arbolito.predict(X_test)"
      ],
      "metadata": {
        "id": "fw_E8IH64hTE"
      },
      "execution_count": null,
      "outputs": []
    },
    {
      "cell_type": "code",
      "source": [
        "#reversefactor = dict(zip(range(7),definitions))\n",
        "#y_test = np.vectorize(reversefactor.get)(y_test)\n",
        "#y_pred_dt = np.vectorize(reversefactor.get)(y_pred_dt)\n",
        "\n",
        "conf_matrix = confusion_matrix(y_test, y_pred_dt)\n",
        "plt.figure(figsize=(9, 6))\n",
        "sns.heatmap(conf_matrix, annot=True, fmt=\"d\");\n",
        "plt.title(\"Confusion matrix\")\n",
        "plt.ylabel('class')\n",
        "plt.xlabel('Predicted class')\n",
        "plt.show()\n",
        "print(classification_report(y_test, y_pred_dt))"
      ],
      "metadata": {
        "colab": {
          "base_uri": "https://localhost:8080/",
          "height": 755
        },
        "id": "E7Xd3WBePO0m",
        "outputId": "967208e3-24fa-4dfb-adf4-0c941bebedcd"
      },
      "execution_count": null,
      "outputs": [
        {
          "output_type": "display_data",
          "data": {
            "text/plain": [
              "<Figure size 900x600 with 2 Axes>"
            ],
            "image/png": "[encoded data removed]"
          },
          "metadata": {}
        },
        {
          "output_type": "stream",
          "name": "stdout",
          "text": [
            "              precision    recall  f1-score   support\n",
            "\n",
            "           0       0.66      0.56      0.61     30116\n",
            "           1       0.65      0.32      0.42     30030\n",
            "           2       0.59      0.25      0.35     29910\n",
            "           3       0.45      1.00      0.62     29944\n",
            "\n",
            "    accuracy                           0.53    120000\n",
            "   macro avg       0.59      0.53      0.50    120000\n",
            "weighted avg       0.59      0.53      0.50    120000\n",
            "\n"
          ]
        }
      ]
    },
    {
      "cell_type": "markdown",
      "source": [
        "#Regresión Logística"
      ],
      "metadata": {
        "id": "YrsBN_Mp6y6u"
      }
    },
    {
      "cell_type": "code",
      "source": [
        "from sklearn.linear_model import LogisticRegression\n",
        "\n",
        "#X_train, X_test, y_train, y_test = train_test_split(X, y, test_size = 0.25, random_state = 21)\n",
        "\n",
        "scaler = StandardScaler()\n",
        "X_train = scaler.fit_transform(X_train)\n",
        "X_test = scaler.transform(X_test)\n",
        "\n",
        "logistico_tactico = LogisticRegression(multi_class='multinomial', solver='lbfgs',max_iter=1000).fit(X_train, y_train)\n",
        "y_pred_rl = logistico_tactico.predict(X_test)\n",
        "\n"
      ],
      "metadata": {
        "id": "Eko3hHZZ6yH5"
      },
      "execution_count": null,
      "outputs": []
    },
    {
      "cell_type": "code",
      "source": [
        "conf_matrix = confusion_matrix(y_test, y_pred_rl)\n",
        "plt.figure(figsize=(9, 6))\n",
        "sns.heatmap(conf_matrix, annot=True, fmt=\"d\");\n",
        "plt.title(\"Confusion matrix\")\n",
        "plt.ylabel('class')\n",
        "plt.xlabel('Predicted class')\n",
        "plt.show()\n",
        "print(classification_report(y_test, y_pred_rl))"
      ],
      "metadata": {
        "colab": {
          "base_uri": "https://localhost:8080/",
          "height": 755
        },
        "id": "pP0dwbG2PTt5",
        "outputId": "c45d0f93-c028-4075-b4f9-efca0a4f82eb"
      },
      "execution_count": null,
      "outputs": [
        {
          "output_type": "display_data",
          "data": {
            "text/plain": [
              "<Figure size 900x600 with 2 Axes>"
            ],
            "image/png": "[encoded data removed]"
          },
          "metadata": {}
        },
        {
          "output_type": "stream",
          "name": "stdout",
          "text": [
            "              precision    recall  f1-score   support\n",
            "\n",
            "           0       0.22      0.15      0.18     30116\n",
            "           1       0.40      0.46      0.43     30030\n",
            "           2       0.26      0.22      0.24     29910\n",
            "           3       0.48      0.62      0.54     29944\n",
            "\n",
            "    accuracy                           0.36    120000\n",
            "   macro avg       0.34      0.36      0.35    120000\n",
            "weighted avg       0.34      0.36      0.35    120000\n",
            "\n"
          ]
        }
      ]
    },
    {
      "cell_type": "markdown",
      "source": [
        "#Naive Bayes"
      ],
      "metadata": {
        "id": "tsfwb3Mg82Lu"
      }
    },
    {
      "cell_type": "code",
      "source": [
        "from sklearn.naive_bayes import GaussianNB\n",
        "from sklearn.metrics import accuracy_score, classification_report, confusion_matrix"
      ],
      "metadata": {
        "id": "cYach7_o7iVt"
      },
      "execution_count": null,
      "outputs": []
    },
    {
      "cell_type": "code",
      "source": [
        "naive_bayes_classifier = GaussianNB()\n",
        "naive_bayes_classifier.fit(X_train, y_train)\n",
        "y_pred_nb = naive_bayes_classifier.predict(X_test)\n",
        "\n",
        "conf_matrix = confusion_matrix(y_test, y_pred_nb)\n",
        "plt.figure(figsize=(9, 6))\n",
        "sns.heatmap(conf_matrix, annot=True, fmt=\"d\");\n",
        "plt.title(\"Confusion matrix\")\n",
        "plt.ylabel('class')\n",
        "plt.xlabel('Predicted class')\n",
        "plt.show()\n",
        "print(classification_report(y_test, y_pred_nb))"
      ],
      "metadata": {
        "id": "zVlbIbWg81q4",
        "colab": {
          "base_uri": "https://localhost:8080/",
          "height": 755
        },
        "outputId": "b46e2f76-8307-425a-f59f-24771016a7c3"
      },
      "execution_count": null,
      "outputs": [
        {
          "output_type": "display_data",
          "data": {
            "text/plain": [
              "<Figure size 900x600 with 2 Axes>"
            ],
            "image/png": "[encoded data removed]"
          },
          "metadata": {}
        },
        {
          "output_type": "stream",
          "name": "stdout",
          "text": [
            "              precision    recall  f1-score   support\n",
            "\n",
            "           0       0.23      0.17      0.20     30116\n",
            "           1       0.38      0.41      0.39     30030\n",
            "           2       0.38      0.30      0.34     29910\n",
            "           3       0.47      0.64      0.54     29944\n",
            "\n",
            "    accuracy                           0.38    120000\n",
            "   macro avg       0.37      0.38      0.37    120000\n",
            "weighted avg       0.36      0.38      0.37    120000\n",
            "\n"
          ]
        }
      ]
    },
    {
      "cell_type": "markdown",
      "source": [
        "#SVM"
      ],
      "metadata": {
        "id": "9ItoTZ9x9HiC"
      }
    },
    {
      "cell_type": "code",
      "source": [
        "from sklearn.svm import SVC\n"
      ],
      "metadata": {
        "id": "-OvDeYkp9C7C"
      },
      "execution_count": null,
      "outputs": []
    },
    {
      "cell_type": "code",
      "source": [
        "scaler = StandardScaler()\n",
        "X_train = scaler.fit_transform(X_train)\n",
        "X_test = scaler.transform(X_test)\n",
        "\n",
        "vectorcito = SVC(kernel = 'poly',probability=True,random_state=42)\n",
        "\n",
        "vectorcito.fit(X_train, y_train)\n",
        "\n",
        "y_pred_svm = vectorcito.predict(X_test)\n",
        "\n",
        "general_model_report(y_test,y_pred_svm)\n",
        "conf_matrix = confusion_matrix(y_test, y_pred_svm)\n",
        "plt.figure(figsize=(9, 6))\n",
        "sns.heatmap(conf_matrix, annot=True, fmt=\"d\");\n",
        "plt.title(\"Confusion matrix\")\n",
        "plt.ylabel('class')\n",
        "plt.xlabel('Predicted class')\n",
        "plt.show()\n",
        "print(classification_report(y_test, y_pred_svm))"
      ],
      "metadata": {
        "id": "zeaF5rED9NLa"
      },
      "execution_count": null,
      "outputs": []
    },
    {
      "cell_type": "code",
      "source": [
        "logistico_tactico = LogisticRegression(multi_class='multinomial', solver='lbfgs',max_iter=1000)\n",
        "models = {\n",
        "    'Random Forest': rfc,\n",
        "    'Decision Tree': dtr,\n",
        "    'Logistic Regression': logistico_tactico,\n",
        "    'Naive Bayes': naive_bayes_classifier,\n",
        "    'SVM': vectorcito\n",
        "}\n",
        "from sklearn.multiclass import OneVsRestClassifier\n",
        "def plot_roc_curves(X, y, models):\n",
        "\n",
        "    # Binarize the output\n",
        "    y = label_binarize(y, classes=list(models.keys()))\n",
        "\n",
        "    # Split the data into training and test sets\n",
        "    X_train, X_test, y_train, y_test = train_test_split(X, y, test_size=0.2, random_state=42)\n",
        "\n",
        "    # Plot ROC curve for each model\n",
        "    plt.figure(figsize=(10, 8))\n",
        "\n",
        "    for model_name, model in models.items():\n",
        "        classifier = OneVsRestClassifier(model)\n",
        "        y_score = classifier.fit(X_train, y_train).predict_proba(X_test)\n",
        "\n",
        "        # Compute ROC curve and ROC area for each class\n",
        "        fpr = dict()\n",
        "        tpr = dict()\n",
        "        roc_auc = dict()\n",
        "\n",
        "        for i in range(len(models)):\n",
        "            fpr[i], tpr[i], _ = roc_curve(y_test[:, i], y_score[:, i])\n",
        "            roc_auc[i] = auc(fpr[i], tpr[i])\n",
        "\n",
        "        # Plot ROC curve\n",
        "        plt.plot(fpr[0], tpr[0], label=f'{model_name} (area = {roc_auc[0]:.2f})')\n",
        "\n",
        "    plt.plot([0, 1], [0, 1], 'k--', lw=2)  # Plot the random chance\n",
        "    plt.xlim([0.0, 1.0])\n",
        "    plt.ylim([0.0, 1.05])\n",
        "    plt.xlabel('False Positive Rate')\n",
        "    plt.ylabel('True Positive Rate')\n",
        "    plt.title('Receiver Operating Characteristic (ROC) Curves')\n",
        "    plt.legend(loc=\"lower right\")\n",
        "    plt.show()"
      ],
      "metadata": {
        "id": "EEp2BOabVyZC"
      },
      "execution_count": null,
      "outputs": []
    }
  ]
}