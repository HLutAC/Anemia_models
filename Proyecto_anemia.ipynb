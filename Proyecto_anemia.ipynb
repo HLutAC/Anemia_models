{
  "nbformat": 4,
  "nbformat_minor": 0,
  "metadata": {
    "colab": {
      "provenance": []
    },
    "kernelspec": {
      "name": "python3",
      "display_name": "Python 3"
    },
    "language_info": {
      "name": "python"
    }
  },
  "cells": [
    {
      "cell_type": "markdown",
      "source": [
        "##Anemia"
      ],
      "metadata": {
        "id": "BtjTCRfX9aKz"
      }
    },
    {
      "cell_type": "code",
      "execution_count": null,
      "metadata": {
        "id": "A7sVbOdO9Zi2"
      },
      "outputs": [],
      "source": [
        "import pandas as pd\n",
        "import numpy as np\n",
        "import matplotlib.pyplot as plt\n",
        "pd.options.display.max_columns = None\n",
        "pd.options.display.max_rows = None\n",
        "df_a = pd.read_csv('/content/drive/MyDrive/Data Mining - Algoritmos/Niños MOQUEGUA.csv');\n",
        "\n",
        "#########\n",
        "df_b = pd.read_csv('/content/drive/MyDrive/Data Mining - Algoritmos/Niños AMAZONAS.csv');\n",
        "df_c = pd.read_csv('/content/drive/MyDrive/Data Mining - Algoritmos/Niños ANCASH.csv');\n",
        "df_d = pd.read_csv('/content/drive/MyDrive/Data Mining - Algoritmos/Niños AREQUIPA.csv');\n",
        "df_e = pd.read_csv('/content/drive/MyDrive/Data Mining - Algoritmos/Niños AYACUCHO.csv');\n",
        "df_f = pd.read_csv('/content/drive/MyDrive/Data Mining - Algoritmos/Niños CAJAMARCA.csv');\n",
        "df_g = pd.read_csv('/content/drive/MyDrive/Data Mining - Algoritmos/Niños CALLAO.csv');\n",
        "df_h = pd.read_csv('/content/drive/MyDrive/Data Mining - Algoritmos/Niños CUSCO.csv');\n",
        "df_i = pd.read_csv('/content/drive/MyDrive/Data Mining - Algoritmos/Niños HUANCAVELICA.csv');\n",
        "df_j = pd.read_csv('/content/drive/MyDrive/Data Mining - Algoritmos/Niños HUANUCO.csv');\n",
        "df_k = pd.read_csv('/content/drive/MyDrive/Data Mining - Algoritmos/Niños ICA.csv');\n",
        "df_l = pd.read_csv('/content/drive/MyDrive/Data Mining - Algoritmos/Niños JUNIN.csv');\n",
        "df_m = pd.read_csv('/content/drive/MyDrive/Data Mining - Algoritmos/Niños LA LIBERTAD.csv');\n",
        "df_n = pd.read_csv('/content/drive/MyDrive/Data Mining - Algoritmos/Niños LAMBAYEQUE.csv');\n",
        "df_o = pd.read_csv('/content/drive/MyDrive/Data Mining - Algoritmos/Niños LORETO.csv');\n",
        "df_p = pd.read_csv('/content/drive/MyDrive/Data Mining - Algoritmos/Niños MADRE DE DIOS.csv');\n",
        "df_q = pd.read_csv('/content/drive/MyDrive/Data Mining - Algoritmos/Niños PASCO.csv');\n",
        "df_r = pd.read_csv('/content/drive/MyDrive/Data Mining - Algoritmos/Niños PIURA.csv');\n",
        "df_s = pd.read_csv('/content/drive/MyDrive/Data Mining - Algoritmos/Niños PUNO.csv');\n",
        "df_t = pd.read_csv('/content/drive/MyDrive/Data Mining - Algoritmos/Niños SAN MARTIN.csv');\n",
        "df_u = pd.read_csv('/content/drive/MyDrive/Data Mining - Algoritmos/Niños TACNA.csv');\n",
        "df_v = pd.read_csv('/content/drive/MyDrive/Data Mining - Algoritmos/Niños UCAYALI.csv');\n",
        "\n",
        "df_w = pd.read_csv('/content/drive/MyDrive/Data Mining - Algoritmos/Niños LIMA DIRIS CENTRO.csv');\n",
        "df_x = pd.read_csv('/content/drive/MyDrive/Data Mining - Algoritmos/Niños LIMA DIRIS NORTE.csv');\n",
        "df_y = pd.read_csv('/content/drive/MyDrive/Data Mining - Algoritmos/Niños LIMA DIRIS SUR.csv');\n",
        "df_z = pd.read_csv('/content/drive/MyDrive/Data Mining - Algoritmos/Niños LIMA ESTE.csv');\n",
        "df_zz = pd.read_csv('/content/drive/MyDrive/Data Mining - Algoritmos/Niños LIMA PROVINCIAS.csv');\n",
        "#########\n",
        "df_aa = pd.read_csv('/content/drive/MyDrive/Data Mining - Algoritmos/HB_2020/Niños AMAZONAS.csv');\n",
        "df_bb = pd.read_csv('/content/drive/MyDrive/Data Mining - Algoritmos/HB_2020/Niños ANCASH.csv');\n",
        "df_cc = pd.read_csv('/content/drive/MyDrive/Data Mining - Algoritmos/HB_2020/Niños APURIMAC.csv');\n",
        "df_dd = pd.read_csv('/content/drive/MyDrive/Data Mining - Algoritmos/HB_2020/Niños AREQUIPA.csv');\n",
        "df_ee = pd.read_csv('/content/drive/MyDrive/Data Mining - Algoritmos/HB_2020/Niños AYACUCHO.csv');\n",
        "df_ff = pd.read_csv('/content/drive/MyDrive/Data Mining - Algoritmos/HB_2020/Niños CAJAMARCA.csv');\n",
        "df_gg = pd.read_csv('/content/drive/MyDrive/Data Mining - Algoritmos/HB_2020/Niños CALLAO.csv');\n",
        "df_hh = pd.read_csv('/content/drive/MyDrive/Data Mining - Algoritmos/HB_2020/Niños CUSCO.csv');\n",
        "df_ii = pd.read_csv('/content/drive/MyDrive/Data Mining - Algoritmos/HB_2020/Niños HUANCAVELICA.csv');\n",
        "df_jj = pd.read_csv('/content/drive/MyDrive/Data Mining - Algoritmos/HB_2020/Niños HUANUCO.csv', encoding='latin-1');\n",
        "df_jj = df_jj.rename(columns={'ï»¿Diresa': 'Diresa'})\n",
        "df_kk = pd.read_csv('/content/drive/MyDrive/Data Mining - Algoritmos/HB_2020/Niños ICA.csv');\n",
        "df_ll = pd.read_csv('/content/drive/MyDrive/Data Mining - Algoritmos/HB_2020/Niños JUNIN.csv');\n",
        "df_mm = pd.read_csv('/content/drive/MyDrive/Data Mining - Algoritmos/HB_2020/Niños LA LIBERTAD.csv');\n",
        "df_nn = pd.read_csv('/content/drive/MyDrive/Data Mining - Algoritmos/HB_2020/Niños LAMBAYEQUE.csv');\n",
        "df_oo = pd.read_csv('/content/drive/MyDrive/Data Mining - Algoritmos/HB_2020/Niños LORETO.csv');\n",
        "df_pp = pd.read_csv('/content/drive/MyDrive/Data Mining - Algoritmos/HB_2020/Niños MADRE DE DIOS.csv')\n",
        "df_qq = pd.read_csv('/content/drive/MyDrive/Data Mining - Algoritmos/HB_2020/Niños PASCO.csv');\n",
        "\n",
        "df_rr = pd.read_csv('/content/drive/MyDrive/Data Mining - Algoritmos/HB_2020/Niños PIURA.csv');\n",
        "df_ss = pd.read_csv('/content/drive/MyDrive/Data Mining - Algoritmos/HB_2020/Niños PUNO.csv');\n",
        "df_tt = pd.read_csv('/content/drive/MyDrive/Data Mining - Algoritmos/HB_2020/Niños SAN MARTIN.csv')\n",
        "df_uu = pd.read_csv('/content/drive/MyDrive/Data Mining - Algoritmos/HB_2020/Niños TACNA.csv');\n",
        "df_vv = pd.read_csv('/content/drive/MyDrive/Data Mining - Algoritmos/HB_2020/Niños UCAYALI.csv');\n",
        "#########\n",
        "df_2021 = pd.concat([\n",
        "    df_a,\n",
        "    df_b,\n",
        "    df_c,\n",
        "    df_d,\n",
        "    df_e,\n",
        "    df_f,\n",
        "    df_g,\n",
        "    df_h,\n",
        "    df_i,\n",
        "    df_j,\n",
        "    df_k,\n",
        "    df_l,\n",
        "    df_m,\n",
        "    df_n,\n",
        "    df_o,\n",
        "    df_p,\n",
        "    df_q,\n",
        "    df_r,\n",
        "    df_s,\n",
        "    df_t,\n",
        "    df_u,\n",
        "    df_v,\n",
        "    df_w,\n",
        "    df_x,\n",
        "    df_y,\n",
        "    df_z,\n",
        "    df_zz\n",
        "    ], ignore_index=True)\n",
        "\n",
        "df_2020 = pd.concat([\n",
        "    df_aa,\n",
        "    df_bb,\n",
        "    df_cc,\n",
        "    df_dd,\n",
        "    df_ee,\n",
        "    df_ff,\n",
        "    df_gg,\n",
        "    df_hh,\n",
        "    df_ii,\n",
        "    df_jj,\n",
        "    df_kk,\n",
        "    df_ll,\n",
        "    df_mm,\n",
        "    df_nn,\n",
        "    df_oo,\n",
        "    df_pp,\n",
        "    df_qq,\n",
        "    df_rr,\n",
        "    df_ss,\n",
        "    df_tt,\n",
        "    df_uu,\n",
        "    df_vv\n",
        "], ignore_index=True)\n",
        "df_2020 = df_2020.drop(['Renipress','Diresa','Red','Microred','EESS','Dpto_EESS','Prov_EESS','Dist_EESS','UbigeoPN','DepartamentoPN','ProvinciaPN','DistritoPN','CentroPobladoPN','UbigeoREN','DepartamentoREN','ProvinciaREN','DistritoREN','AlturaREN',\n",
        "              'Juntos','SIS','Pin','Qaliwarma','Cred','Suplementacion','Consejeria','Sesion','FechaAtencion','FechaNacimiento','FechaHemoglobina','HBC'], axis=1)\n",
        "df_2021 = df_2021.drop(['Renipress','Diresa','Red','Microred','EESS','Dpto_EESS','Prov_EESS','Dist_EESS','Pais','UbigeoPN','DepartamentoPN','ProvinciaPN','DistritoPN','CentroPobladoPN','UbigeoREN','DepartamentoREN','ProvinciaREN','DistritoREN','AlturaREN','MES',\n",
        "              'Juntos','SIS','Pin','Qaliwarma','Cred','Suplementacion','Consejeria','Sesion','FechaAtencion','FechaNacimiento','FechaHemoglobina','HBC'], axis=1)\n"
      ]
    },
    {
      "cell_type": "code",
      "source": [
        "df = pd.concat([df_2021,df_2020])"
      ],
      "metadata": {
        "id": "lzLZG7aXakpH"
      },
      "execution_count": null,
      "outputs": []
    },
    {
      "cell_type": "code",
      "source": [
        "df.info()#411912 a 547594"
      ],
      "metadata": {
        "colab": {
          "base_uri": "https://localhost:8080/"
        },
        "id": "UggHPWQMJQ0l",
        "outputId": "929e19bf-1b27-4af6-9c5f-2f09d56f60e0"
      },
      "execution_count": null,
      "outputs": [
        {
          "output_type": "stream",
          "name": "stdout",
          "text": [
            "<class 'pandas.core.frame.DataFrame'>\n",
            "Int64Index: 978490 entries, 0 to 430894\n",
            "Data columns (total 6 columns):\n",
            " #   Column       Non-Null Count   Dtype  \n",
            "---  ------       --------------   -----  \n",
            " 0   Sexo         978490 non-null  object \n",
            " 1   EdadMeses    978490 non-null  int64  \n",
            " 2   Peso         978490 non-null  object \n",
            " 3   Talla        978490 non-null  object \n",
            " 4   Hemoglobina  978490 non-null  float64\n",
            " 5   Dx_Anemia    978490 non-null  object \n",
            "dtypes: float64(1), int64(1), object(4)\n",
            "memory usage: 52.3+ MB\n"
          ]
        }
      ]
    },
    {
      "cell_type": "markdown",
      "source": [
        "#Eliminando Columnas innecesarias"
      ],
      "metadata": {
        "id": "XfcZnJcXLB5l"
      }
    },
    {
      "cell_type": "code",
      "source": [
        "#df = df.drop(['Renipress','Diresa','Red','Microred','EESS','Dpto_EESS','Prov_EESS','Dist_EESS','Pais','UbigeoPN','DepartamentoPN','ProvinciaPN','DistritoPN','CentroPobladoPN','UbigeoREN','DepartamentoREN','ProvinciaREN','DistritoREN','AlturaREN','MES',\n",
        "#              'Juntos','SIS','Pin','Qaliwarma','Cred','Suplementacion','Consejeria','Sesion','FechaAtencion','FechaNacimiento','FechaHemoglobina','HBC'], axis=1)"
      ],
      "metadata": {
        "id": "I4o0tc0BK955"
      },
      "execution_count": null,
      "outputs": []
    },
    {
      "cell_type": "code",
      "source": [
        "print(df.isnull().sum())"
      ],
      "metadata": {
        "colab": {
          "base_uri": "https://localhost:8080/"
        },
        "id": "GN1I0ODHE2q5",
        "outputId": "b13d7f4b-10eb-4d81-eb32-d14ad8e4a2fe"
      },
      "execution_count": null,
      "outputs": [
        {
          "output_type": "stream",
          "name": "stdout",
          "text": [
            "Sexo           0\n",
            "EdadMeses      0\n",
            "Peso           0\n",
            "Talla          0\n",
            "Hemoglobina    0\n",
            "Dx_Anemia      0\n",
            "dtype: int64\n"
          ]
        }
      ]
    },
    {
      "cell_type": "code",
      "source": [
        "print(pd.value_counts(df['Dx_Anemia'], sort = True))"
      ],
      "metadata": {
        "colab": {
          "base_uri": "https://localhost:8080/"
        },
        "id": "Wvgn3KQSxbCr",
        "outputId": "62db6a04-ee72-4772-ca2a-997fcf485ea7"
      },
      "execution_count": null,
      "outputs": [
        {
          "output_type": "stream",
          "name": "stdout",
          "text": [
            "Normal             723138\n",
            "Anemia Leve        164869\n",
            "Anemia Moderada     88265\n",
            "Anemia Severa        2218\n",
            "Name: Dx_Anemia, dtype: int64\n"
          ]
        }
      ]
    },
    {
      "cell_type": "code",
      "source": [
        "df.replace(r'^\\s*$', np.nan, regex=True, inplace=True)\n",
        "#for column in df.columns:\n",
        "#  print(f\"{column}: {df[column].unique()}\")"
      ],
      "metadata": {
        "id": "75CxtUOlQGah"
      },
      "execution_count": null,
      "outputs": []
    },
    {
      "cell_type": "code",
      "source": [
        "print(df.isnull().sum())"
      ],
      "metadata": {
        "colab": {
          "base_uri": "https://localhost:8080/"
        },
        "id": "yr7h2326Qzoa",
        "outputId": "e156c304-c371-4bb0-dfda-4a1e6edd8e56"
      },
      "execution_count": null,
      "outputs": [
        {
          "output_type": "stream",
          "name": "stdout",
          "text": [
            "Sexo                0\n",
            "EdadMeses           0\n",
            "Peso           392123\n",
            "Talla          396048\n",
            "Hemoglobina         0\n",
            "Dx_Anemia           0\n",
            "dtype: int64\n"
          ]
        }
      ]
    },
    {
      "cell_type": "code",
      "source": [
        "#df['Peso'] = pd.to_numeric(df['Peso'], errors='coerce')\n",
        "#df['Talla'] = pd.to_numeric(df['Talla'], errors='coerce')\n",
        "#df['Peso'] = df['Peso'].round(decimals=2)\n",
        "#df['Talla'] = df['Talla'].round(decimals=2)\n",
        "#df = df[['Sexo','EdadMeses','Peso', 'Talla', 'Hemoglobina','Dx_Anemia']]\n",
        "#df = df.dropna()"
      ],
      "metadata": {
        "id": "fC3N6loG0aiP"
      },
      "execution_count": null,
      "outputs": []
    },
    {
      "cell_type": "code",
      "source": [
        "#df = df.dropna(subset=['Peso','Talla'])\n",
        "#convertir los datos Peso y Talla a numericos\n",
        "df['Peso'] = pd.to_numeric(df['Peso'], errors='coerce')\n",
        "df['Talla'] = pd.to_numeric(df['Talla'], errors='coerce')\n",
        "df['Peso'] = df['Peso'].round(decimals=2)\n",
        "df['Talla'] = df['Talla'].round(decimals=2)\n",
        "\n",
        "df['Peso'].fillna((df['Peso'].mean()), inplace=True)\n",
        "df['Talla'].fillna((df['Talla'].mean()), inplace=True)\n",
        "\n",
        "df.reset_index()\n",
        "df.head(50)"
      ],
      "metadata": {
        "id": "fTwi2SxNKUwn",
        "colab": {
          "base_uri": "https://localhost:8080/",
          "height": 1000
        },
        "outputId": "72d0a469-a38c-494b-f316-948cd877f75f"
      },
      "execution_count": null,
      "outputs": [
        {
          "output_type": "execute_result",
          "data": {
            "text/plain": [
              "   Sexo  EdadMeses        Peso       Talla  Hemoglobina        Dx_Anemia\n",
              "0     M         44   19.500000  102.000000         12.2           Normal\n",
              "1     M         31   13.700000   94.600000         13.0           Normal\n",
              "2     M         12   11.200000   77.300000         15.4           Normal\n",
              "3     F          6    8.000000   66.100000         10.4      Anemia Leve\n",
              "4     M          7    9.000000   68.700000         14.4           Normal\n",
              "5     M         23   14.000000   85.000000         11.8           Normal\n",
              "6     M         24   12.110000   85.500000         11.2           Normal\n",
              "7     F         13    8.300000   73.000000         11.5           Normal\n",
              "8     M         55   15.500000  106.000000         12.7           Normal\n",
              "9     M         38   15.400000   96.500000         11.0           Normal\n",
              "10    M         14   11.100000   79.500000         10.0  Anemia Moderada\n",
              "11    F          7   13.006596   84.339304         12.7           Normal\n",
              "12    F         17   11.000000   81.000000         10.0      Anemia Leve\n",
              "13    M         56   20.300000  110.300000         13.2           Normal\n",
              "14    M         12    9.170000   72.300000         13.8           Normal\n",
              "15    F         58   13.006596   84.339304         12.5      Anemia Leve\n",
              "16    M         60   22.000000  106.500000         12.3           Normal\n",
              "17    F         58   16.500000  100.000000         12.6           Normal\n",
              "18    M         58   17.900000  107.000000         14.5           Normal\n",
              "19    F         60   19.040000  108.600000         14.6           Normal\n",
              "20    F         57   19.200000  100.000000         13.3           Normal\n",
              "21    F         57   18.600000  102.800000         14.2           Normal\n",
              "22    M         57   13.006596   84.339304         11.4           Normal\n",
              "23    M         59   26.000000  110.000000         11.9           Normal\n",
              "24    F         59   18.800000  108.900000         13.1           Normal\n",
              "25    F         59   26.500000  114.400000         13.9           Normal\n",
              "26    F         60   19.100000  109.000000         12.7           Normal\n",
              "27    M         58   17.200000  101.000000         13.2           Normal\n",
              "28    M         57   16.500000   98.400000         16.1           Normal\n",
              "29    M         59   13.006596   84.339304         12.5           Normal\n",
              "30    M         57   13.006596   84.339304         11.6  Anemia Moderada\n",
              "31    F         58   19.500000  106.000000         11.8           Normal\n",
              "32    F         57   21.000000  107.000000         14.0           Normal\n",
              "33    M         59   13.006596   84.339304         13.1           Normal\n",
              "34    F         57   22.700000  116.700000         12.1           Normal\n",
              "35    F         57   22.000000  110.000000         12.3           Normal\n",
              "36    F         56   17.500000  100.000000         12.3           Normal\n",
              "37    F         59   17.800000  114.000000         12.7           Normal\n",
              "38    F         57   16.200000  103.500000         13.1           Normal\n",
              "39    M         54   27.000000  117.000000         11.5           Normal\n",
              "40    F         57   28.000000  111.500000         12.5           Normal\n",
              "41    F         57   13.006596   84.339304         11.8           Normal\n",
              "42    F         54   13.006596   84.339304         11.9           Normal\n",
              "43    F         57   20.000000  108.700000         13.9           Normal\n",
              "44    F         59   20.500000  105.200000         14.1           Normal\n",
              "45    M         57   18.300000  103.400000         13.4           Normal\n",
              "46    M         56  144.000000  994.000000         13.0           Normal\n",
              "47    F         56   14.400000  106.000000         11.5           Normal\n",
              "48    F         59   20.000000  125.000000         11.0      Anemia Leve\n",
              "49    F         59   13.006596   84.339304         13.0           Normal"
            ],
            "text/html": [
              "\n",
              "  <div id=\"df-d4cc2d72-c9f9-4167-831b-b267835515ed\" class=\"colab-df-container\">\n",
              "    <div>\n",
              "<style scoped>\n",
              "    .dataframe tbody tr th:only-of-type {\n",
              "        vertical-align: middle;\n",
              "    }\n",
              "\n",
              "    .dataframe tbody tr th {\n",
              "        vertical-align: top;\n",
              "    }\n",
              "\n",
              "    .dataframe thead th {\n",
              "        text-align: right;\n",
              "    }\n",
              "</style>\n",
              "<table border=\"1\" class=\"dataframe\">\n",
              "  <thead>\n",
              "    <tr style=\"text-align: right;\">\n",
              "      <th></th>\n",
              "      <th>Sexo</th>\n",
              "      <th>EdadMeses</th>\n",
              "      <th>Peso</th>\n",
              "      <th>Talla</th>\n",
              "      <th>Hemoglobina</th>\n",
              "      <th>Dx_Anemia</th>\n",
              "    </tr>\n",
              "  </thead>\n",
              "  <tbody>\n",
              "    <tr>\n",
              "      <th>0</th>\n",
              "      <td>M</td>\n",
              "      <td>44</td>\n",
              "      <td>19.500000</td>\n",
              "      <td>102.000000</td>\n",
              "      <td>12.2</td>\n",
              "      <td>Normal</td>\n",
              "    </tr>\n",
              "    <tr>\n",
              "      <th>1</th>\n",
              "      <td>M</td>\n",
              "      <td>31</td>\n",
              "      <td>13.700000</td>\n",
              "      <td>94.600000</td>\n",
              "      <td>13.0</td>\n",
              "      <td>Normal</td>\n",
              "    </tr>\n",
              "    <tr>\n",
              "      <th>2</th>\n",
              "      <td>M</td>\n",
              "      <td>12</td>\n",
              "      <td>11.200000</td>\n",
              "      <td>77.300000</td>\n",
              "      <td>15.4</td>\n",
              "      <td>Normal</td>\n",
              "    </tr>\n",
              "    <tr>\n",
              "      <th>3</th>\n",
              "      <td>F</td>\n",
              "      <td>6</td>\n",
              "      <td>8.000000</td>\n",
              "      <td>66.100000</td>\n",
              "      <td>10.4</td>\n",
              "      <td>Anemia Leve</td>\n",
              "    </tr>\n",
              "    <tr>\n",
              "      <th>4</th>\n",
              "      <td>M</td>\n",
              "      <td>7</td>\n",
              "      <td>9.000000</td>\n",
              "      <td>68.700000</td>\n",
              "      <td>14.4</td>\n",
              "      <td>Normal</td>\n",
              "    </tr>\n",
              "    <tr>\n",
              "      <th>5</th>\n",
              "      <td>M</td>\n",
              "      <td>23</td>\n",
              "      <td>14.000000</td>\n",
              "      <td>85.000000</td>\n",
              "      <td>11.8</td>\n",
              "      <td>Normal</td>\n",
              "    </tr>\n",
              "    <tr>\n",
              "      <th>6</th>\n",
              "      <td>M</td>\n",
              "      <td>24</td>\n",
              "      <td>12.110000</td>\n",
              "      <td>85.500000</td>\n",
              "      <td>11.2</td>\n",
              "      <td>Normal</td>\n",
              "    </tr>\n",
              "    <tr>\n",
              "      <th>7</th>\n",
              "      <td>F</td>\n",
              "      <td>13</td>\n",
              "      <td>8.300000</td>\n",
              "      <td>73.000000</td>\n",
              "      <td>11.5</td>\n",
              "      <td>Normal</td>\n",
              "    </tr>\n",
              "    <tr>\n",
              "      <th>8</th>\n",
              "      <td>M</td>\n",
              "      <td>55</td>\n",
              "      <td>15.500000</td>\n",
              "      <td>106.000000</td>\n",
              "      <td>12.7</td>\n",
              "      <td>Normal</td>\n",
              "    </tr>\n",
              "    <tr>\n",
              "      <th>9</th>\n",
              "      <td>M</td>\n",
              "      <td>38</td>\n",
              "      <td>15.400000</td>\n",
              "      <td>96.500000</td>\n",
              "      <td>11.0</td>\n",
              "      <td>Normal</td>\n",
              "    </tr>\n",
              "    <tr>\n",
              "      <th>10</th>\n",
              "      <td>M</td>\n",
              "      <td>14</td>\n",
              "      <td>11.100000</td>\n",
              "      <td>79.500000</td>\n",
              "      <td>10.0</td>\n",
              "      <td>Anemia Moderada</td>\n",
              "    </tr>\n",
              "    <tr>\n",
              "      <th>11</th>\n",
              "      <td>F</td>\n",
              "      <td>7</td>\n",
              "      <td>13.006596</td>\n",
              "      <td>84.339304</td>\n",
              "      <td>12.7</td>\n",
              "      <td>Normal</td>\n",
              "    </tr>\n",
              "    <tr>\n",
              "      <th>12</th>\n",
              "      <td>F</td>\n",
              "      <td>17</td>\n",
              "      <td>11.000000</td>\n",
              "      <td>81.000000</td>\n",
              "      <td>10.0</td>\n",
              "      <td>Anemia Leve</td>\n",
              "    </tr>\n",
              "    <tr>\n",
              "      <th>13</th>\n",
              "      <td>M</td>\n",
              "      <td>56</td>\n",
              "      <td>20.300000</td>\n",
              "      <td>110.300000</td>\n",
              "      <td>13.2</td>\n",
              "      <td>Normal</td>\n",
              "    </tr>\n",
              "    <tr>\n",
              "      <th>14</th>\n",
              "      <td>M</td>\n",
              "      <td>12</td>\n",
              "      <td>9.170000</td>\n",
              "      <td>72.300000</td>\n",
              "      <td>13.8</td>\n",
              "      <td>Normal</td>\n",
              "    </tr>\n",
              "    <tr>\n",
              "      <th>15</th>\n",
              "      <td>F</td>\n",
              "      <td>58</td>\n",
              "      <td>13.006596</td>\n",
              "      <td>84.339304</td>\n",
              "      <td>12.5</td>\n",
              "      <td>Anemia Leve</td>\n",
              "    </tr>\n",
              "    <tr>\n",
              "      <th>16</th>\n",
              "      <td>M</td>\n",
              "      <td>60</td>\n",
              "      <td>22.000000</td>\n",
              "      <td>106.500000</td>\n",
              "      <td>12.3</td>\n",
              "      <td>Normal</td>\n",
              "    </tr>\n",
              "    <tr>\n",
              "      <th>17</th>\n",
              "      <td>F</td>\n",
              "      <td>58</td>\n",
              "      <td>16.500000</td>\n",
              "      <td>100.000000</td>\n",
              "      <td>12.6</td>\n",
              "      <td>Normal</td>\n",
              "    </tr>\n",
              "    <tr>\n",
              "      <th>18</th>\n",
              "      <td>M</td>\n",
              "      <td>58</td>\n",
              "      <td>17.900000</td>\n",
              "      <td>107.000000</td>\n",
              "      <td>14.5</td>\n",
              "      <td>Normal</td>\n",
              "    </tr>\n",
              "    <tr>\n",
              "      <th>19</th>\n",
              "      <td>F</td>\n",
              "      <td>60</td>\n",
              "      <td>19.040000</td>\n",
              "      <td>108.600000</td>\n",
              "      <td>14.6</td>\n",
              "      <td>Normal</td>\n",
              "    </tr>\n",
              "    <tr>\n",
              "      <th>20</th>\n",
              "      <td>F</td>\n",
              "      <td>57</td>\n",
              "      <td>19.200000</td>\n",
              "      <td>100.000000</td>\n",
              "      <td>13.3</td>\n",
              "      <td>Normal</td>\n",
              "    </tr>\n",
              "    <tr>\n",
              "      <th>21</th>\n",
              "      <td>F</td>\n",
              "      <td>57</td>\n",
              "      <td>18.600000</td>\n",
              "      <td>102.800000</td>\n",
              "      <td>14.2</td>\n",
              "      <td>Normal</td>\n",
              "    </tr>\n",
              "    <tr>\n",
              "      <th>22</th>\n",
              "      <td>M</td>\n",
              "      <td>57</td>\n",
              "      <td>13.006596</td>\n",
              "      <td>84.339304</td>\n",
              "      <td>11.4</td>\n",
              "      <td>Normal</td>\n",
              "    </tr>\n",
              "    <tr>\n",
              "      <th>23</th>\n",
              "      <td>M</td>\n",
              "      <td>59</td>\n",
              "      <td>26.000000</td>\n",
              "      <td>110.000000</td>\n",
              "      <td>11.9</td>\n",
              "      <td>Normal</td>\n",
              "    </tr>\n",
              "    <tr>\n",
              "      <th>24</th>\n",
              "      <td>F</td>\n",
              "      <td>59</td>\n",
              "      <td>18.800000</td>\n",
              "      <td>108.900000</td>\n",
              "      <td>13.1</td>\n",
              "      <td>Normal</td>\n",
              "    </tr>\n",
              "    <tr>\n",
              "      <th>25</th>\n",
              "      <td>F</td>\n",
              "      <td>59</td>\n",
              "      <td>26.500000</td>\n",
              "      <td>114.400000</td>\n",
              "      <td>13.9</td>\n",
              "      <td>Normal</td>\n",
              "    </tr>\n",
              "    <tr>\n",
              "      <th>26</th>\n",
              "      <td>F</td>\n",
              "      <td>60</td>\n",
              "      <td>19.100000</td>\n",
              "      <td>109.000000</td>\n",
              "      <td>12.7</td>\n",
              "      <td>Normal</td>\n",
              "    </tr>\n",
              "    <tr>\n",
              "      <th>27</th>\n",
              "      <td>M</td>\n",
              "      <td>58</td>\n",
              "      <td>17.200000</td>\n",
              "      <td>101.000000</td>\n",
              "      <td>13.2</td>\n",
              "      <td>Normal</td>\n",
              "    </tr>\n",
              "    <tr>\n",
              "      <th>28</th>\n",
              "      <td>M</td>\n",
              "      <td>57</td>\n",
              "      <td>16.500000</td>\n",
              "      <td>98.400000</td>\n",
              "      <td>16.1</td>\n",
              "      <td>Normal</td>\n",
              "    </tr>\n",
              "    <tr>\n",
              "      <th>29</th>\n",
              "      <td>M</td>\n",
              "      <td>59</td>\n",
              "      <td>13.006596</td>\n",
              "      <td>84.339304</td>\n",
              "      <td>12.5</td>\n",
              "      <td>Normal</td>\n",
              "    </tr>\n",
              "    <tr>\n",
              "      <th>30</th>\n",
              "      <td>M</td>\n",
              "      <td>57</td>\n",
              "      <td>13.006596</td>\n",
              "      <td>84.339304</td>\n",
              "      <td>11.6</td>\n",
              "      <td>Anemia Moderada</td>\n",
              "    </tr>\n",
              "    <tr>\n",
              "      <th>31</th>\n",
              "      <td>F</td>\n",
              "      <td>58</td>\n",
              "      <td>19.500000</td>\n",
              "      <td>106.000000</td>\n",
              "      <td>11.8</td>\n",
              "      <td>Normal</td>\n",
              "    </tr>\n",
              "    <tr>\n",
              "      <th>32</th>\n",
              "      <td>F</td>\n",
              "      <td>57</td>\n",
              "      <td>21.000000</td>\n",
              "      <td>107.000000</td>\n",
              "      <td>14.0</td>\n",
              "      <td>Normal</td>\n",
              "    </tr>\n",
              "    <tr>\n",
              "      <th>33</th>\n",
              "      <td>M</td>\n",
              "      <td>59</td>\n",
              "      <td>13.006596</td>\n",
              "      <td>84.339304</td>\n",
              "      <td>13.1</td>\n",
              "      <td>Normal</td>\n",
              "    </tr>\n",
              "    <tr>\n",
              "      <th>34</th>\n",
              "      <td>F</td>\n",
              "      <td>57</td>\n",
              "      <td>22.700000</td>\n",
              "      <td>116.700000</td>\n",
              "      <td>12.1</td>\n",
              "      <td>Normal</td>\n",
              "    </tr>\n",
              "    <tr>\n",
              "      <th>35</th>\n",
              "      <td>F</td>\n",
              "      <td>57</td>\n",
              "      <td>22.000000</td>\n",
              "      <td>110.000000</td>\n",
              "      <td>12.3</td>\n",
              "      <td>Normal</td>\n",
              "    </tr>\n",
              "    <tr>\n",
              "      <th>36</th>\n",
              "      <td>F</td>\n",
              "      <td>56</td>\n",
              "      <td>17.500000</td>\n",
              "      <td>100.000000</td>\n",
              "      <td>12.3</td>\n",
              "      <td>Normal</td>\n",
              "    </tr>\n",
              "    <tr>\n",
              "      <th>37</th>\n",
              "      <td>F</td>\n",
              "      <td>59</td>\n",
              "      <td>17.800000</td>\n",
              "      <td>114.000000</td>\n",
              "      <td>12.7</td>\n",
              "      <td>Normal</td>\n",
              "    </tr>\n",
              "    <tr>\n",
              "      <th>38</th>\n",
              "      <td>F</td>\n",
              "      <td>57</td>\n",
              "      <td>16.200000</td>\n",
              "      <td>103.500000</td>\n",
              "      <td>13.1</td>\n",
              "      <td>Normal</td>\n",
              "    </tr>\n",
              "    <tr>\n",
              "      <th>39</th>\n",
              "      <td>M</td>\n",
              "      <td>54</td>\n",
              "      <td>27.000000</td>\n",
              "      <td>117.000000</td>\n",
              "      <td>11.5</td>\n",
              "      <td>Normal</td>\n",
              "    </tr>\n",
              "    <tr>\n",
              "      <th>40</th>\n",
              "      <td>F</td>\n",
              "      <td>57</td>\n",
              "      <td>28.000000</td>\n",
              "      <td>111.500000</td>\n",
              "      <td>12.5</td>\n",
              "      <td>Normal</td>\n",
              "    </tr>\n",
              "    <tr>\n",
              "      <th>41</th>\n",
              "      <td>F</td>\n",
              "      <td>57</td>\n",
              "      <td>13.006596</td>\n",
              "      <td>84.339304</td>\n",
              "      <td>11.8</td>\n",
              "      <td>Normal</td>\n",
              "    </tr>\n",
              "    <tr>\n",
              "      <th>42</th>\n",
              "      <td>F</td>\n",
              "      <td>54</td>\n",
              "      <td>13.006596</td>\n",
              "      <td>84.339304</td>\n",
              "      <td>11.9</td>\n",
              "      <td>Normal</td>\n",
              "    </tr>\n",
              "    <tr>\n",
              "      <th>43</th>\n",
              "      <td>F</td>\n",
              "      <td>57</td>\n",
              "      <td>20.000000</td>\n",
              "      <td>108.700000</td>\n",
              "      <td>13.9</td>\n",
              "      <td>Normal</td>\n",
              "    </tr>\n",
              "    <tr>\n",
              "      <th>44</th>\n",
              "      <td>F</td>\n",
              "      <td>59</td>\n",
              "      <td>20.500000</td>\n",
              "      <td>105.200000</td>\n",
              "      <td>14.1</td>\n",
              "      <td>Normal</td>\n",
              "    </tr>\n",
              "    <tr>\n",
              "      <th>45</th>\n",
              "      <td>M</td>\n",
              "      <td>57</td>\n",
              "      <td>18.300000</td>\n",
              "      <td>103.400000</td>\n",
              "      <td>13.4</td>\n",
              "      <td>Normal</td>\n",
              "    </tr>\n",
              "    <tr>\n",
              "      <th>46</th>\n",
              "      <td>M</td>\n",
              "      <td>56</td>\n",
              "      <td>144.000000</td>\n",
              "      <td>994.000000</td>\n",
              "      <td>13.0</td>\n",
              "      <td>Normal</td>\n",
              "    </tr>\n",
              "    <tr>\n",
              "      <th>47</th>\n",
              "      <td>F</td>\n",
              "      <td>56</td>\n",
              "      <td>14.400000</td>\n",
              "      <td>106.000000</td>\n",
              "      <td>11.5</td>\n",
              "      <td>Normal</td>\n",
              "    </tr>\n",
              "    <tr>\n",
              "      <th>48</th>\n",
              "      <td>F</td>\n",
              "      <td>59</td>\n",
              "      <td>20.000000</td>\n",
              "      <td>125.000000</td>\n",
              "      <td>11.0</td>\n",
              "      <td>Anemia Leve</td>\n",
              "    </tr>\n",
              "    <tr>\n",
              "      <th>49</th>\n",
              "      <td>F</td>\n",
              "      <td>59</td>\n",
              "      <td>13.006596</td>\n",
              "      <td>84.339304</td>\n",
              "      <td>13.0</td>\n",
              "      <td>Normal</td>\n",
              "    </tr>\n",
              "  </tbody>\n",
              "</table>\n",
              "</div>\n",
              "    <div class=\"colab-df-buttons\">\n",
              "\n",
              "  <div class=\"colab-df-container\">\n",
              "    <button class=\"colab-df-convert\" onclick=\"convertToInteractive('df-d4cc2d72-c9f9-4167-831b-b267835515ed')\"\n",
              "            title=\"Convert this dataframe to an interactive table.\"\n",
              "            style=\"display:none;\">\n",
              "\n",
              "  <svg xmlns=\"http://www.w3.org/2000/svg\" height=\"24px\" viewBox=\"0 -960 960 960\">\n",
              "    <path d=\"M120-120v-720h720v720H120Zm60-500h600v-160H180v160Zm220 220h160v-160H400v160Zm0 220h160v-160H400v160ZM180-400h160v-160H180v160Zm440 0h160v-160H620v160ZM180-180h160v-160H180v160Zm440 0h160v-160H620v160Z\"/>\n",
              "  </svg>\n",
              "    </button>\n",
              "\n",
              "  <style>\n",
              "    .colab-df-container {\n",
              "      display:flex;\n",
              "      gap: 12px;\n",
              "    }\n",
              "\n",
              "    .colab-df-convert {\n",
              "      background-color: #E8F0FE;\n",
              "      border: none;\n",
              "      border-radius: 50%;\n",
              "      cursor: pointer;\n",
              "      display: none;\n",
              "      fill: #1967D2;\n",
              "      height: 32px;\n",
              "      padding: 0 0 0 0;\n",
              "      width: 32px;\n",
              "    }\n",
              "\n",
              "    .colab-df-convert:hover {\n",
              "      background-color: #E2EBFA;\n",
              "      box-shadow: 0px 1px 2px rgba(60, 64, 67, 0.3), 0px 1px 3px 1px rgba(60, 64, 67, 0.15);\n",
              "      fill: #174EA6;\n",
              "    }\n",
              "\n",
              "    .colab-df-buttons div {\n",
              "      margin-bottom: 4px;\n",
              "    }\n",
              "\n",
              "    [theme=dark] .colab-df-convert {\n",
              "      background-color: #3B4455;\n",
              "      fill: #D2E3FC;\n",
              "    }\n",
              "\n",
              "    [theme=dark] .colab-df-convert:hover {\n",
              "      background-color: #434B5C;\n",
              "      box-shadow: 0px 1px 3px 1px rgba(0, 0, 0, 0.15);\n",
              "      filter: drop-shadow(0px 1px 2px rgba(0, 0, 0, 0.3));\n",
              "      fill: #FFFFFF;\n",
              "    }\n",
              "  </style>\n",
              "\n",
              "    <script>\n",
              "      const buttonEl =\n",
              "        document.querySelector('#df-d4cc2d72-c9f9-4167-831b-b267835515ed button.colab-df-convert');\n",
              "      buttonEl.style.display =\n",
              "        google.colab.kernel.accessAllowed ? 'block' : 'none';\n",
              "\n",
              "      async function convertToInteractive(key) {\n",
              "        const element = document.querySelector('#df-d4cc2d72-c9f9-4167-831b-b267835515ed');\n",
              "        const dataTable =\n",
              "          await google.colab.kernel.invokeFunction('convertToInteractive',\n",
              "                                                    [key], {});\n",
              "        if (!dataTable) return;\n",
              "\n",
              "        const docLinkHtml = 'Like what you see? Visit the ' +\n",
              "          '<a target=\"_blank\" href=https://colab.research.google.com/notebooks/data_table.ipynb>data table notebook</a>'\n",
              "          + ' to learn more about interactive tables.';\n",
              "        element.innerHTML = '';\n",
              "        dataTable['output_type'] = 'display_data';\n",
              "        await google.colab.output.renderOutput(dataTable, element);\n",
              "        const docLink = document.createElement('div');\n",
              "        docLink.innerHTML = docLinkHtml;\n",
              "        element.appendChild(docLink);\n",
              "      }\n",
              "    </script>\n",
              "  </div>\n",
              "\n",
              "\n",
              "<div id=\"df-46687fac-90bd-4939-a70e-a7304f11d9b7\">\n",
              "  <button class=\"colab-df-quickchart\" onclick=\"quickchart('df-46687fac-90bd-4939-a70e-a7304f11d9b7')\"\n",
              "            title=\"Suggest charts\"\n",
              "            style=\"display:none;\">\n",
              "\n",
              "<svg xmlns=\"http://www.w3.org/2000/svg\" height=\"24px\"viewBox=\"0 0 24 24\"\n",
              "     width=\"24px\">\n",
              "    <g>\n",
              "        <path d=\"M19 3H5c-1.1 0-2 .9-2 2v14c0 1.1.9 2 2 2h14c1.1 0 2-.9 2-2V5c0-1.1-.9-2-2-2zM9 17H7v-7h2v7zm4 0h-2V7h2v10zm4 0h-2v-4h2v4z\"/>\n",
              "    </g>\n",
              "</svg>\n",
              "  </button>\n",
              "\n",
              "<style>\n",
              "  .colab-df-quickchart {\n",
              "      --bg-color: #E8F0FE;\n",
              "      --fill-color: #1967D2;\n",
              "      --hover-bg-color: #E2EBFA;\n",
              "      --hover-fill-color: #174EA6;\n",
              "      --disabled-fill-color: #AAA;\n",
              "      --disabled-bg-color: #DDD;\n",
              "  }\n",
              "\n",
              "  [theme=dark] .colab-df-quickchart {\n",
              "      --bg-color: #3B4455;\n",
              "      --fill-color: #D2E3FC;\n",
              "      --hover-bg-color: #434B5C;\n",
              "      --hover-fill-color: #FFFFFF;\n",
              "      --disabled-bg-color: #3B4455;\n",
              "      --disabled-fill-color: #666;\n",
              "  }\n",
              "\n",
              "  .colab-df-quickchart {\n",
              "    background-color: var(--bg-color);\n",
              "    border: none;\n",
              "    border-radius: 50%;\n",
              "    cursor: pointer;\n",
              "    display: none;\n",
              "    fill: var(--fill-color);\n",
              "    height: 32px;\n",
              "    padding: 0;\n",
              "    width: 32px;\n",
              "  }\n",
              "\n",
              "  .colab-df-quickchart:hover {\n",
              "    background-color: var(--hover-bg-color);\n",
              "    box-shadow: 0 1px 2px rgba(60, 64, 67, 0.3), 0 1px 3px 1px rgba(60, 64, 67, 0.15);\n",
              "    fill: var(--button-hover-fill-color);\n",
              "  }\n",
              "\n",
              "  .colab-df-quickchart-complete:disabled,\n",
              "  .colab-df-quickchart-complete:disabled:hover {\n",
              "    background-color: var(--disabled-bg-color);\n",
              "    fill: var(--disabled-fill-color);\n",
              "    box-shadow: none;\n",
              "  }\n",
              "\n",
              "  .colab-df-spinner {\n",
              "    border: 2px solid var(--fill-color);\n",
              "    border-color: transparent;\n",
              "    border-bottom-color: var(--fill-color);\n",
              "    animation:\n",
              "      spin 1s steps(1) infinite;\n",
              "  }\n",
              "\n",
              "  @keyframes spin {\n",
              "    0% {\n",
              "      border-color: transparent;\n",
              "      border-bottom-color: var(--fill-color);\n",
              "      border-left-color: var(--fill-color);\n",
              "    }\n",
              "    20% {\n",
              "      border-color: transparent;\n",
              "      border-left-color: var(--fill-color);\n",
              "      border-top-color: var(--fill-color);\n",
              "    }\n",
              "    30% {\n",
              "      border-color: transparent;\n",
              "      border-left-color: var(--fill-color);\n",
              "      border-top-color: var(--fill-color);\n",
              "      border-right-color: var(--fill-color);\n",
              "    }\n",
              "    40% {\n",
              "      border-color: transparent;\n",
              "      border-right-color: var(--fill-color);\n",
              "      border-top-color: var(--fill-color);\n",
              "    }\n",
              "    60% {\n",
              "      border-color: transparent;\n",
              "      border-right-color: var(--fill-color);\n",
              "    }\n",
              "    80% {\n",
              "      border-color: transparent;\n",
              "      border-right-color: var(--fill-color);\n",
              "      border-bottom-color: var(--fill-color);\n",
              "    }\n",
              "    90% {\n",
              "      border-color: transparent;\n",
              "      border-bottom-color: var(--fill-color);\n",
              "    }\n",
              "  }\n",
              "</style>\n",
              "\n",
              "  <script>\n",
              "    async function quickchart(key) {\n",
              "      const quickchartButtonEl =\n",
              "        document.querySelector('#' + key + ' button');\n",
              "      quickchartButtonEl.disabled = true;  // To prevent multiple clicks.\n",
              "      quickchartButtonEl.classList.add('colab-df-spinner');\n",
              "      try {\n",
              "        const charts = await google.colab.kernel.invokeFunction(\n",
              "            'suggestCharts', [key], {});\n",
              "      } catch (error) {\n",
              "        console.error('Error during call to suggestCharts:', error);\n",
              "      }\n",
              "      quickchartButtonEl.classList.remove('colab-df-spinner');\n",
              "      quickchartButtonEl.classList.add('colab-df-quickchart-complete');\n",
              "    }\n",
              "    (() => {\n",
              "      let quickchartButtonEl =\n",
              "        document.querySelector('#df-46687fac-90bd-4939-a70e-a7304f11d9b7 button');\n",
              "      quickchartButtonEl.style.display =\n",
              "        google.colab.kernel.accessAllowed ? 'block' : 'none';\n",
              "    })();\n",
              "  </script>\n",
              "</div>\n",
              "    </div>\n",
              "  </div>\n"
            ]
          },
          "metadata": {},
          "execution_count": 8
        }
      ]
    },
    {
      "cell_type": "code",
      "source": [
        "print(df.dtypes)"
      ],
      "metadata": {
        "colab": {
          "base_uri": "https://localhost:8080/"
        },
        "id": "cv1aQGUoj49c",
        "outputId": "239e6749-7042-4232-d350-d4ad2ff58fb7"
      },
      "execution_count": null,
      "outputs": [
        {
          "output_type": "stream",
          "name": "stdout",
          "text": [
            "Sexo            object\n",
            "EdadMeses        int64\n",
            "Peso           float64\n",
            "Talla          float64\n",
            "Hemoglobina    float64\n",
            "Dx_Anemia       object\n",
            "dtype: object\n"
          ]
        }
      ]
    },
    {
      "cell_type": "code",
      "source": [
        "object_columns = df.select_dtypes(include=['object']).columns\n",
        "df[object_columns] = df[object_columns].astype('category')\n",
        "print(df.dtypes)"
      ],
      "metadata": {
        "colab": {
          "base_uri": "https://localhost:8080/"
        },
        "id": "17WAB3zykU-9",
        "outputId": "42522eeb-d0bd-418c-f81e-24a48303bb64"
      },
      "execution_count": null,
      "outputs": [
        {
          "output_type": "stream",
          "name": "stdout",
          "text": [
            "Sexo           category\n",
            "EdadMeses         int64\n",
            "Peso            float64\n",
            "Talla           float64\n",
            "Hemoglobina     float64\n",
            "Dx_Anemia      category\n",
            "dtype: object\n"
          ]
        }
      ]
    },
    {
      "cell_type": "code",
      "source": [
        "numeric_columns = df.select_dtypes(include=['int64', 'float64']).columns\n",
        "categorical_data = df.drop(columns=numeric_columns)\n",
        "print(categorical_data.dtypes)\n",
        "categorical_data.head()\n"
      ],
      "metadata": {
        "colab": {
          "base_uri": "https://localhost:8080/",
          "height": 258
        },
        "id": "MQNLXMuvlR8y",
        "outputId": "3f5aeeba-82d1-46ff-b884-4361bfb2fc1e"
      },
      "execution_count": null,
      "outputs": [
        {
          "output_type": "stream",
          "name": "stdout",
          "text": [
            "Sexo         category\n",
            "Dx_Anemia    category\n",
            "dtype: object\n"
          ]
        },
        {
          "output_type": "execute_result",
          "data": {
            "text/plain": [
              "  Sexo    Dx_Anemia\n",
              "0    M       Normal\n",
              "1    M       Normal\n",
              "2    M       Normal\n",
              "3    F  Anemia Leve\n",
              "4    M       Normal"
            ],
            "text/html": [
              "\n",
              "  <div id=\"df-df45350b-37f0-4929-85f5-9ee961220a77\" class=\"colab-df-container\">\n",
              "    <div>\n",
              "<style scoped>\n",
              "    .dataframe tbody tr th:only-of-type {\n",
              "        vertical-align: middle;\n",
              "    }\n",
              "\n",
              "    .dataframe tbody tr th {\n",
              "        vertical-align: top;\n",
              "    }\n",
              "\n",
              "    .dataframe thead th {\n",
              "        text-align: right;\n",
              "    }\n",
              "</style>\n",
              "<table border=\"1\" class=\"dataframe\">\n",
              "  <thead>\n",
              "    <tr style=\"text-align: right;\">\n",
              "      <th></th>\n",
              "      <th>Sexo</th>\n",
              "      <th>Dx_Anemia</th>\n",
              "    </tr>\n",
              "  </thead>\n",
              "  <tbody>\n",
              "    <tr>\n",
              "      <th>0</th>\n",
              "      <td>M</td>\n",
              "      <td>Normal</td>\n",
              "    </tr>\n",
              "    <tr>\n",
              "      <th>1</th>\n",
              "      <td>M</td>\n",
              "      <td>Normal</td>\n",
              "    </tr>\n",
              "    <tr>\n",
              "      <th>2</th>\n",
              "      <td>M</td>\n",
              "      <td>Normal</td>\n",
              "    </tr>\n",
              "    <tr>\n",
              "      <th>3</th>\n",
              "      <td>F</td>\n",
              "      <td>Anemia Leve</td>\n",
              "    </tr>\n",
              "    <tr>\n",
              "      <th>4</th>\n",
              "      <td>M</td>\n",
              "      <td>Normal</td>\n",
              "    </tr>\n",
              "  </tbody>\n",
              "</table>\n",
              "</div>\n",
              "    <div class=\"colab-df-buttons\">\n",
              "\n",
              "  <div class=\"colab-df-container\">\n",
              "    <button class=\"colab-df-convert\" onclick=\"convertToInteractive('df-df45350b-37f0-4929-85f5-9ee961220a77')\"\n",
              "            title=\"Convert this dataframe to an interactive table.\"\n",
              "            style=\"display:none;\">\n",
              "\n",
              "  <svg xmlns=\"http://www.w3.org/2000/svg\" height=\"24px\" viewBox=\"0 -960 960 960\">\n",
              "    <path d=\"M120-120v-720h720v720H120Zm60-500h600v-160H180v160Zm220 220h160v-160H400v160Zm0 220h160v-160H400v160ZM180-400h160v-160H180v160Zm440 0h160v-160H620v160ZM180-180h160v-160H180v160Zm440 0h160v-160H620v160Z\"/>\n",
              "  </svg>\n",
              "    </button>\n",
              "\n",
              "  <style>\n",
              "    .colab-df-container {\n",
              "      display:flex;\n",
              "      gap: 12px;\n",
              "    }\n",
              "\n",
              "    .colab-df-convert {\n",
              "      background-color: #E8F0FE;\n",
              "      border: none;\n",
              "      border-radius: 50%;\n",
              "      cursor: pointer;\n",
              "      display: none;\n",
              "      fill: #1967D2;\n",
              "      height: 32px;\n",
              "      padding: 0 0 0 0;\n",
              "      width: 32px;\n",
              "    }\n",
              "\n",
              "    .colab-df-convert:hover {\n",
              "      background-color: #E2EBFA;\n",
              "      box-shadow: 0px 1px 2px rgba(60, 64, 67, 0.3), 0px 1px 3px 1px rgba(60, 64, 67, 0.15);\n",
              "      fill: #174EA6;\n",
              "    }\n",
              "\n",
              "    .colab-df-buttons div {\n",
              "      margin-bottom: 4px;\n",
              "    }\n",
              "\n",
              "    [theme=dark] .colab-df-convert {\n",
              "      background-color: #3B4455;\n",
              "      fill: #D2E3FC;\n",
              "    }\n",
              "\n",
              "    [theme=dark] .colab-df-convert:hover {\n",
              "      background-color: #434B5C;\n",
              "      box-shadow: 0px 1px 3px 1px rgba(0, 0, 0, 0.15);\n",
              "      filter: drop-shadow(0px 1px 2px rgba(0, 0, 0, 0.3));\n",
              "      fill: #FFFFFF;\n",
              "    }\n",
              "  </style>\n",
              "\n",
              "    <script>\n",
              "      const buttonEl =\n",
              "        document.querySelector('#df-df45350b-37f0-4929-85f5-9ee961220a77 button.colab-df-convert');\n",
              "      buttonEl.style.display =\n",
              "        google.colab.kernel.accessAllowed ? 'block' : 'none';\n",
              "\n",
              "      async function convertToInteractive(key) {\n",
              "        const element = document.querySelector('#df-df45350b-37f0-4929-85f5-9ee961220a77');\n",
              "        const dataTable =\n",
              "          await google.colab.kernel.invokeFunction('convertToInteractive',\n",
              "                                                    [key], {});\n",
              "        if (!dataTable) return;\n",
              "\n",
              "        const docLinkHtml = 'Like what you see? Visit the ' +\n",
              "          '<a target=\"_blank\" href=https://colab.research.google.com/notebooks/data_table.ipynb>data table notebook</a>'\n",
              "          + ' to learn more about interactive tables.';\n",
              "        element.innerHTML = '';\n",
              "        dataTable['output_type'] = 'display_data';\n",
              "        await google.colab.output.renderOutput(dataTable, element);\n",
              "        const docLink = document.createElement('div');\n",
              "        docLink.innerHTML = docLinkHtml;\n",
              "        element.appendChild(docLink);\n",
              "      }\n",
              "    </script>\n",
              "  </div>\n",
              "\n",
              "\n",
              "<div id=\"df-a1f93426-059e-4988-b282-b85e07b3cffe\">\n",
              "  <button class=\"colab-df-quickchart\" onclick=\"quickchart('df-a1f93426-059e-4988-b282-b85e07b3cffe')\"\n",
              "            title=\"Suggest charts\"\n",
              "            style=\"display:none;\">\n",
              "\n",
              "<svg xmlns=\"http://www.w3.org/2000/svg\" height=\"24px\"viewBox=\"0 0 24 24\"\n",
              "     width=\"24px\">\n",
              "    <g>\n",
              "        <path d=\"M19 3H5c-1.1 0-2 .9-2 2v14c0 1.1.9 2 2 2h14c1.1 0 2-.9 2-2V5c0-1.1-.9-2-2-2zM9 17H7v-7h2v7zm4 0h-2V7h2v10zm4 0h-2v-4h2v4z\"/>\n",
              "    </g>\n",
              "</svg>\n",
              "  </button>\n",
              "\n",
              "<style>\n",
              "  .colab-df-quickchart {\n",
              "      --bg-color: #E8F0FE;\n",
              "      --fill-color: #1967D2;\n",
              "      --hover-bg-color: #E2EBFA;\n",
              "      --hover-fill-color: #174EA6;\n",
              "      --disabled-fill-color: #AAA;\n",
              "      --disabled-bg-color: #DDD;\n",
              "  }\n",
              "\n",
              "  [theme=dark] .colab-df-quickchart {\n",
              "      --bg-color: #3B4455;\n",
              "      --fill-color: #D2E3FC;\n",
              "      --hover-bg-color: #434B5C;\n",
              "      --hover-fill-color: #FFFFFF;\n",
              "      --disabled-bg-color: #3B4455;\n",
              "      --disabled-fill-color: #666;\n",
              "  }\n",
              "\n",
              "  .colab-df-quickchart {\n",
              "    background-color: var(--bg-color);\n",
              "    border: none;\n",
              "    border-radius: 50%;\n",
              "    cursor: pointer;\n",
              "    display: none;\n",
              "    fill: var(--fill-color);\n",
              "    height: 32px;\n",
              "    padding: 0;\n",
              "    width: 32px;\n",
              "  }\n",
              "\n",
              "  .colab-df-quickchart:hover {\n",
              "    background-color: var(--hover-bg-color);\n",
              "    box-shadow: 0 1px 2px rgba(60, 64, 67, 0.3), 0 1px 3px 1px rgba(60, 64, 67, 0.15);\n",
              "    fill: var(--button-hover-fill-color);\n",
              "  }\n",
              "\n",
              "  .colab-df-quickchart-complete:disabled,\n",
              "  .colab-df-quickchart-complete:disabled:hover {\n",
              "    background-color: var(--disabled-bg-color);\n",
              "    fill: var(--disabled-fill-color);\n",
              "    box-shadow: none;\n",
              "  }\n",
              "\n",
              "  .colab-df-spinner {\n",
              "    border: 2px solid var(--fill-color);\n",
              "    border-color: transparent;\n",
              "    border-bottom-color: var(--fill-color);\n",
              "    animation:\n",
              "      spin 1s steps(1) infinite;\n",
              "  }\n",
              "\n",
              "  @keyframes spin {\n",
              "    0% {\n",
              "      border-color: transparent;\n",
              "      border-bottom-color: var(--fill-color);\n",
              "      border-left-color: var(--fill-color);\n",
              "    }\n",
              "    20% {\n",
              "      border-color: transparent;\n",
              "      border-left-color: var(--fill-color);\n",
              "      border-top-color: var(--fill-color);\n",
              "    }\n",
              "    30% {\n",
              "      border-color: transparent;\n",
              "      border-left-color: var(--fill-color);\n",
              "      border-top-color: var(--fill-color);\n",
              "      border-right-color: var(--fill-color);\n",
              "    }\n",
              "    40% {\n",
              "      border-color: transparent;\n",
              "      border-right-color: var(--fill-color);\n",
              "      border-top-color: var(--fill-color);\n",
              "    }\n",
              "    60% {\n",
              "      border-color: transparent;\n",
              "      border-right-color: var(--fill-color);\n",
              "    }\n",
              "    80% {\n",
              "      border-color: transparent;\n",
              "      border-right-color: var(--fill-color);\n",
              "      border-bottom-color: var(--fill-color);\n",
              "    }\n",
              "    90% {\n",
              "      border-color: transparent;\n",
              "      border-bottom-color: var(--fill-color);\n",
              "    }\n",
              "  }\n",
              "</style>\n",
              "\n",
              "  <script>\n",
              "    async function quickchart(key) {\n",
              "      const quickchartButtonEl =\n",
              "        document.querySelector('#' + key + ' button');\n",
              "      quickchartButtonEl.disabled = true;  // To prevent multiple clicks.\n",
              "      quickchartButtonEl.classList.add('colab-df-spinner');\n",
              "      try {\n",
              "        const charts = await google.colab.kernel.invokeFunction(\n",
              "            'suggestCharts', [key], {});\n",
              "      } catch (error) {\n",
              "        console.error('Error during call to suggestCharts:', error);\n",
              "      }\n",
              "      quickchartButtonEl.classList.remove('colab-df-spinner');\n",
              "      quickchartButtonEl.classList.add('colab-df-quickchart-complete');\n",
              "    }\n",
              "    (() => {\n",
              "      let quickchartButtonEl =\n",
              "        document.querySelector('#df-a1f93426-059e-4988-b282-b85e07b3cffe button');\n",
              "      quickchartButtonEl.style.display =\n",
              "        google.colab.kernel.accessAllowed ? 'block' : 'none';\n",
              "    })();\n",
              "  </script>\n",
              "</div>\n",
              "    </div>\n",
              "  </div>\n"
            ]
          },
          "metadata": {},
          "execution_count": 11
        }
      ]
    },
    {
      "cell_type": "code",
      "source": [
        "# Mostrar el mapeo de categorías a códigos\n",
        "category_mapping = dict(enumerate(categorical_data['Dx_Anemia'].cat.categories))\n",
        "print(category_mapping)\n",
        "\n",
        "for column in categorical_data.columns:\n",
        "    categorical_data[column] = categorical_data[column].cat.codes\n",
        "categorical_data.head()\n",
        "\n"
      ],
      "metadata": {
        "colab": {
          "base_uri": "https://localhost:8080/",
          "height": 223
        },
        "id": "9qFaiDYNrcrP",
        "outputId": "f61d2e0e-7f47-4b7e-b7c6-11a3bc09f25b"
      },
      "execution_count": null,
      "outputs": [
        {
          "output_type": "stream",
          "name": "stdout",
          "text": [
            "{0: 'Anemia Leve', 1: 'Anemia Moderada', 2: 'Anemia Severa', 3: 'Normal'}\n"
          ]
        },
        {
          "output_type": "execute_result",
          "data": {
            "text/plain": [
              "   Sexo  Dx_Anemia\n",
              "0     1          3\n",
              "1     1          3\n",
              "2     1          3\n",
              "3     0          0\n",
              "4     1          3"
            ],
            "text/html": [
              "\n",
              "  <div id=\"df-71368471-1bbe-4bd0-83e4-478471ca9a40\" class=\"colab-df-container\">\n",
              "    <div>\n",
              "<style scoped>\n",
              "    .dataframe tbody tr th:only-of-type {\n",
              "        vertical-align: middle;\n",
              "    }\n",
              "\n",
              "    .dataframe tbody tr th {\n",
              "        vertical-align: top;\n",
              "    }\n",
              "\n",
              "    .dataframe thead th {\n",
              "        text-align: right;\n",
              "    }\n",
              "</style>\n",
              "<table border=\"1\" class=\"dataframe\">\n",
              "  <thead>\n",
              "    <tr style=\"text-align: right;\">\n",
              "      <th></th>\n",
              "      <th>Sexo</th>\n",
              "      <th>Dx_Anemia</th>\n",
              "    </tr>\n",
              "  </thead>\n",
              "  <tbody>\n",
              "    <tr>\n",
              "      <th>0</th>\n",
              "      <td>1</td>\n",
              "      <td>3</td>\n",
              "    </tr>\n",
              "    <tr>\n",
              "      <th>1</th>\n",
              "      <td>1</td>\n",
              "      <td>3</td>\n",
              "    </tr>\n",
              "    <tr>\n",
              "      <th>2</th>\n",
              "      <td>1</td>\n",
              "      <td>3</td>\n",
              "    </tr>\n",
              "    <tr>\n",
              "      <th>3</th>\n",
              "      <td>0</td>\n",
              "      <td>0</td>\n",
              "    </tr>\n",
              "    <tr>\n",
              "      <th>4</th>\n",
              "      <td>1</td>\n",
              "      <td>3</td>\n",
              "    </tr>\n",
              "  </tbody>\n",
              "</table>\n",
              "</div>\n",
              "    <div class=\"colab-df-buttons\">\n",
              "\n",
              "  <div class=\"colab-df-container\">\n",
              "    <button class=\"colab-df-convert\" onclick=\"convertToInteractive('df-71368471-1bbe-4bd0-83e4-478471ca9a40')\"\n",
              "            title=\"Convert this dataframe to an interactive table.\"\n",
              "            style=\"display:none;\">\n",
              "\n",
              "  <svg xmlns=\"http://www.w3.org/2000/svg\" height=\"24px\" viewBox=\"0 -960 960 960\">\n",
              "    <path d=\"M120-120v-720h720v720H120Zm60-500h600v-160H180v160Zm220 220h160v-160H400v160Zm0 220h160v-160H400v160ZM180-400h160v-160H180v160Zm440 0h160v-160H620v160ZM180-180h160v-160H180v160Zm440 0h160v-160H620v160Z\"/>\n",
              "  </svg>\n",
              "    </button>\n",
              "\n",
              "  <style>\n",
              "    .colab-df-container {\n",
              "      display:flex;\n",
              "      gap: 12px;\n",
              "    }\n",
              "\n",
              "    .colab-df-convert {\n",
              "      background-color: #E8F0FE;\n",
              "      border: none;\n",
              "      border-radius: 50%;\n",
              "      cursor: pointer;\n",
              "      display: none;\n",
              "      fill: #1967D2;\n",
              "      height: 32px;\n",
              "      padding: 0 0 0 0;\n",
              "      width: 32px;\n",
              "    }\n",
              "\n",
              "    .colab-df-convert:hover {\n",
              "      background-color: #E2EBFA;\n",
              "      box-shadow: 0px 1px 2px rgba(60, 64, 67, 0.3), 0px 1px 3px 1px rgba(60, 64, 67, 0.15);\n",
              "      fill: #174EA6;\n",
              "    }\n",
              "\n",
              "    .colab-df-buttons div {\n",
              "      margin-bottom: 4px;\n",
              "    }\n",
              "\n",
              "    [theme=dark] .colab-df-convert {\n",
              "      background-color: #3B4455;\n",
              "      fill: #D2E3FC;\n",
              "    }\n",
              "\n",
              "    [theme=dark] .colab-df-convert:hover {\n",
              "      background-color: #434B5C;\n",
              "      box-shadow: 0px 1px 3px 1px rgba(0, 0, 0, 0.15);\n",
              "      filter: drop-shadow(0px 1px 2px rgba(0, 0, 0, 0.3));\n",
              "      fill: #FFFFFF;\n",
              "    }\n",
              "  </style>\n",
              "\n",
              "    <script>\n",
              "      const buttonEl =\n",
              "        document.querySelector('#df-71368471-1bbe-4bd0-83e4-478471ca9a40 button.colab-df-convert');\n",
              "      buttonEl.style.display =\n",
              "        google.colab.kernel.accessAllowed ? 'block' : 'none';\n",
              "\n",
              "      async function convertToInteractive(key) {\n",
              "        const element = document.querySelector('#df-71368471-1bbe-4bd0-83e4-478471ca9a40');\n",
              "        const dataTable =\n",
              "          await google.colab.kernel.invokeFunction('convertToInteractive',\n",
              "                                                    [key], {});\n",
              "        if (!dataTable) return;\n",
              "\n",
              "        const docLinkHtml = 'Like what you see? Visit the ' +\n",
              "          '<a target=\"_blank\" href=https://colab.research.google.com/notebooks/data_table.ipynb>data table notebook</a>'\n",
              "          + ' to learn more about interactive tables.';\n",
              "        element.innerHTML = '';\n",
              "        dataTable['output_type'] = 'display_data';\n",
              "        await google.colab.output.renderOutput(dataTable, element);\n",
              "        const docLink = document.createElement('div');\n",
              "        docLink.innerHTML = docLinkHtml;\n",
              "        element.appendChild(docLink);\n",
              "      }\n",
              "    </script>\n",
              "  </div>\n",
              "\n",
              "\n",
              "<div id=\"df-9bca2b18-8ab3-4f0f-ad01-daedaef862eb\">\n",
              "  <button class=\"colab-df-quickchart\" onclick=\"quickchart('df-9bca2b18-8ab3-4f0f-ad01-daedaef862eb')\"\n",
              "            title=\"Suggest charts\"\n",
              "            style=\"display:none;\">\n",
              "\n",
              "<svg xmlns=\"http://www.w3.org/2000/svg\" height=\"24px\"viewBox=\"0 0 24 24\"\n",
              "     width=\"24px\">\n",
              "    <g>\n",
              "        <path d=\"M19 3H5c-1.1 0-2 .9-2 2v14c0 1.1.9 2 2 2h14c1.1 0 2-.9 2-2V5c0-1.1-.9-2-2-2zM9 17H7v-7h2v7zm4 0h-2V7h2v10zm4 0h-2v-4h2v4z\"/>\n",
              "    </g>\n",
              "</svg>\n",
              "  </button>\n",
              "\n",
              "<style>\n",
              "  .colab-df-quickchart {\n",
              "      --bg-color: #E8F0FE;\n",
              "      --fill-color: #1967D2;\n",
              "      --hover-bg-color: #E2EBFA;\n",
              "      --hover-fill-color: #174EA6;\n",
              "      --disabled-fill-color: #AAA;\n",
              "      --disabled-bg-color: #DDD;\n",
              "  }\n",
              "\n",
              "  [theme=dark] .colab-df-quickchart {\n",
              "      --bg-color: #3B4455;\n",
              "      --fill-color: #D2E3FC;\n",
              "      --hover-bg-color: #434B5C;\n",
              "      --hover-fill-color: #FFFFFF;\n",
              "      --disabled-bg-color: #3B4455;\n",
              "      --disabled-fill-color: #666;\n",
              "  }\n",
              "\n",
              "  .colab-df-quickchart {\n",
              "    background-color: var(--bg-color);\n",
              "    border: none;\n",
              "    border-radius: 50%;\n",
              "    cursor: pointer;\n",
              "    display: none;\n",
              "    fill: var(--fill-color);\n",
              "    height: 32px;\n",
              "    padding: 0;\n",
              "    width: 32px;\n",
              "  }\n",
              "\n",
              "  .colab-df-quickchart:hover {\n",
              "    background-color: var(--hover-bg-color);\n",
              "    box-shadow: 0 1px 2px rgba(60, 64, 67, 0.3), 0 1px 3px 1px rgba(60, 64, 67, 0.15);\n",
              "    fill: var(--button-hover-fill-color);\n",
              "  }\n",
              "\n",
              "  .colab-df-quickchart-complete:disabled,\n",
              "  .colab-df-quickchart-complete:disabled:hover {\n",
              "    background-color: var(--disabled-bg-color);\n",
              "    fill: var(--disabled-fill-color);\n",
              "    box-shadow: none;\n",
              "  }\n",
              "\n",
              "  .colab-df-spinner {\n",
              "    border: 2px solid var(--fill-color);\n",
              "    border-color: transparent;\n",
              "    border-bottom-color: var(--fill-color);\n",
              "    animation:\n",
              "      spin 1s steps(1) infinite;\n",
              "  }\n",
              "\n",
              "  @keyframes spin {\n",
              "    0% {\n",
              "      border-color: transparent;\n",
              "      border-bottom-color: var(--fill-color);\n",
              "      border-left-color: var(--fill-color);\n",
              "    }\n",
              "    20% {\n",
              "      border-color: transparent;\n",
              "      border-left-color: var(--fill-color);\n",
              "      border-top-color: var(--fill-color);\n",
              "    }\n",
              "    30% {\n",
              "      border-color: transparent;\n",
              "      border-left-color: var(--fill-color);\n",
              "      border-top-color: var(--fill-color);\n",
              "      border-right-color: var(--fill-color);\n",
              "    }\n",
              "    40% {\n",
              "      border-color: transparent;\n",
              "      border-right-color: var(--fill-color);\n",
              "      border-top-color: var(--fill-color);\n",
              "    }\n",
              "    60% {\n",
              "      border-color: transparent;\n",
              "      border-right-color: var(--fill-color);\n",
              "    }\n",
              "    80% {\n",
              "      border-color: transparent;\n",
              "      border-right-color: var(--fill-color);\n",
              "      border-bottom-color: var(--fill-color);\n",
              "    }\n",
              "    90% {\n",
              "      border-color: transparent;\n",
              "      border-bottom-color: var(--fill-color);\n",
              "    }\n",
              "  }\n",
              "</style>\n",
              "\n",
              "  <script>\n",
              "    async function quickchart(key) {\n",
              "      const quickchartButtonEl =\n",
              "        document.querySelector('#' + key + ' button');\n",
              "      quickchartButtonEl.disabled = true;  // To prevent multiple clicks.\n",
              "      quickchartButtonEl.classList.add('colab-df-spinner');\n",
              "      try {\n",
              "        const charts = await google.colab.kernel.invokeFunction(\n",
              "            'suggestCharts', [key], {});\n",
              "      } catch (error) {\n",
              "        console.error('Error during call to suggestCharts:', error);\n",
              "      }\n",
              "      quickchartButtonEl.classList.remove('colab-df-spinner');\n",
              "      quickchartButtonEl.classList.add('colab-df-quickchart-complete');\n",
              "    }\n",
              "    (() => {\n",
              "      let quickchartButtonEl =\n",
              "        document.querySelector('#df-9bca2b18-8ab3-4f0f-ad01-daedaef862eb button');\n",
              "      quickchartButtonEl.style.display =\n",
              "        google.colab.kernel.accessAllowed ? 'block' : 'none';\n",
              "    })();\n",
              "  </script>\n",
              "</div>\n",
              "    </div>\n",
              "  </div>\n"
            ]
          },
          "metadata": {},
          "execution_count": 12
        }
      ]
    },
    {
      "cell_type": "code",
      "source": [
        "from collections import Counter\n",
        "from matplotlib import pyplot\n",
        "\n",
        "\n",
        "y =categorical_data.iloc[:, -1]\n",
        "counter = Counter(y)\n",
        "for k,v in counter.items():\n",
        "\tper = v / len(y) * 100\n",
        "\tprint('Class=%d, n=%d (%.3f%%)' % (k, v, per))"
      ],
      "metadata": {
        "colab": {
          "base_uri": "https://localhost:8080/"
        },
        "id": "XsciijI6rsjB",
        "outputId": "d41fc98a-544f-43ff-a9c4-89fcf9de8800"
      },
      "execution_count": null,
      "outputs": [
        {
          "output_type": "stream",
          "name": "stdout",
          "text": [
            "Class=3, n=723138 (73.903%)\n",
            "Class=0, n=164869 (16.849%)\n",
            "Class=1, n=88265 (9.021%)\n",
            "Class=2, n=2218 (0.227%)\n"
          ]
        }
      ]
    },
    {
      "cell_type": "code",
      "source": [
        "category_columns = df.select_dtypes(include=['category']).columns\n",
        "numerical_data = df.drop(columns=category_columns)\n",
        "df_new = numerical_data.join(categorical_data)\n",
        "df_new.head()"
      ],
      "metadata": {
        "colab": {
          "base_uri": "https://localhost:8080/",
          "height": 206
        },
        "id": "uS-mH-JTwvtx",
        "outputId": "e66a8f24-94c0-4dd4-caab-4fef65894936"
      },
      "execution_count": null,
      "outputs": [
        {
          "output_type": "execute_result",
          "data": {
            "text/plain": [
              "   EdadMeses  Peso  Talla  Hemoglobina  Sexo  Dx_Anemia\n",
              "0         44  19.5  102.0         12.2     1          3\n",
              "0         44  19.5  102.0         12.2     1          3\n",
              "0         50  13.0   90.5         12.8     1          3\n",
              "0         50  13.0   90.5         12.8     1          3\n",
              "1         31  13.7   94.6         13.0     1          3"
            ],
            "text/html": [
              "\n",
              "  <div id=\"df-cfd06a4e-a9cc-4228-bf8e-7b2020876ff1\" class=\"colab-df-container\">\n",
              "    <div>\n",
              "<style scoped>\n",
              "    .dataframe tbody tr th:only-of-type {\n",
              "        vertical-align: middle;\n",
              "    }\n",
              "\n",
              "    .dataframe tbody tr th {\n",
              "        vertical-align: top;\n",
              "    }\n",
              "\n",
              "    .dataframe thead th {\n",
              "        text-align: right;\n",
              "    }\n",
              "</style>\n",
              "<table border=\"1\" class=\"dataframe\">\n",
              "  <thead>\n",
              "    <tr style=\"text-align: right;\">\n",
              "      <th></th>\n",
              "      <th>EdadMeses</th>\n",
              "      <th>Peso</th>\n",
              "      <th>Talla</th>\n",
              "      <th>Hemoglobina</th>\n",
              "      <th>Sexo</th>\n",
              "      <th>Dx_Anemia</th>\n",
              "    </tr>\n",
              "  </thead>\n",
              "  <tbody>\n",
              "    <tr>\n",
              "      <th>0</th>\n",
              "      <td>44</td>\n",
              "      <td>19.5</td>\n",
              "      <td>102.0</td>\n",
              "      <td>12.2</td>\n",
              "      <td>1</td>\n",
              "      <td>3</td>\n",
              "    </tr>\n",
              "    <tr>\n",
              "      <th>0</th>\n",
              "      <td>44</td>\n",
              "      <td>19.5</td>\n",
              "      <td>102.0</td>\n",
              "      <td>12.2</td>\n",
              "      <td>1</td>\n",
              "      <td>3</td>\n",
              "    </tr>\n",
              "    <tr>\n",
              "      <th>0</th>\n",
              "      <td>50</td>\n",
              "      <td>13.0</td>\n",
              "      <td>90.5</td>\n",
              "      <td>12.8</td>\n",
              "      <td>1</td>\n",
              "      <td>3</td>\n",
              "    </tr>\n",
              "    <tr>\n",
              "      <th>0</th>\n",
              "      <td>50</td>\n",
              "      <td>13.0</td>\n",
              "      <td>90.5</td>\n",
              "      <td>12.8</td>\n",
              "      <td>1</td>\n",
              "      <td>3</td>\n",
              "    </tr>\n",
              "    <tr>\n",
              "      <th>1</th>\n",
              "      <td>31</td>\n",
              "      <td>13.7</td>\n",
              "      <td>94.6</td>\n",
              "      <td>13.0</td>\n",
              "      <td>1</td>\n",
              "      <td>3</td>\n",
              "    </tr>\n",
              "  </tbody>\n",
              "</table>\n",
              "</div>\n",
              "    <div class=\"colab-df-buttons\">\n",
              "\n",
              "  <div class=\"colab-df-container\">\n",
              "    <button class=\"colab-df-convert\" onclick=\"convertToInteractive('df-cfd06a4e-a9cc-4228-bf8e-7b2020876ff1')\"\n",
              "            title=\"Convert this dataframe to an interactive table.\"\n",
              "            style=\"display:none;\">\n",
              "\n",
              "  <svg xmlns=\"http://www.w3.org/2000/svg\" height=\"24px\" viewBox=\"0 -960 960 960\">\n",
              "    <path d=\"M120-120v-720h720v720H120Zm60-500h600v-160H180v160Zm220 220h160v-160H400v160Zm0 220h160v-160H400v160ZM180-400h160v-160H180v160Zm440 0h160v-160H620v160ZM180-180h160v-160H180v160Zm440 0h160v-160H620v160Z\"/>\n",
              "  </svg>\n",
              "    </button>\n",
              "\n",
              "  <style>\n",
              "    .colab-df-container {\n",
              "      display:flex;\n",
              "      gap: 12px;\n",
              "    }\n",
              "\n",
              "    .colab-df-convert {\n",
              "      background-color: #E8F0FE;\n",
              "      border: none;\n",
              "      border-radius: 50%;\n",
              "      cursor: pointer;\n",
              "      display: none;\n",
              "      fill: #1967D2;\n",
              "      height: 32px;\n",
              "      padding: 0 0 0 0;\n",
              "      width: 32px;\n",
              "    }\n",
              "\n",
              "    .colab-df-convert:hover {\n",
              "      background-color: #E2EBFA;\n",
              "      box-shadow: 0px 1px 2px rgba(60, 64, 67, 0.3), 0px 1px 3px 1px rgba(60, 64, 67, 0.15);\n",
              "      fill: #174EA6;\n",
              "    }\n",
              "\n",
              "    .colab-df-buttons div {\n",
              "      margin-bottom: 4px;\n",
              "    }\n",
              "\n",
              "    [theme=dark] .colab-df-convert {\n",
              "      background-color: #3B4455;\n",
              "      fill: #D2E3FC;\n",
              "    }\n",
              "\n",
              "    [theme=dark] .colab-df-convert:hover {\n",
              "      background-color: #434B5C;\n",
              "      box-shadow: 0px 1px 3px 1px rgba(0, 0, 0, 0.15);\n",
              "      filter: drop-shadow(0px 1px 2px rgba(0, 0, 0, 0.3));\n",
              "      fill: #FFFFFF;\n",
              "    }\n",
              "  </style>\n",
              "\n",
              "    <script>\n",
              "      const buttonEl =\n",
              "        document.querySelector('#df-cfd06a4e-a9cc-4228-bf8e-7b2020876ff1 button.colab-df-convert');\n",
              "      buttonEl.style.display =\n",
              "        google.colab.kernel.accessAllowed ? 'block' : 'none';\n",
              "\n",
              "      async function convertToInteractive(key) {\n",
              "        const element = document.querySelector('#df-cfd06a4e-a9cc-4228-bf8e-7b2020876ff1');\n",
              "        const dataTable =\n",
              "          await google.colab.kernel.invokeFunction('convertToInteractive',\n",
              "                                                    [key], {});\n",
              "        if (!dataTable) return;\n",
              "\n",
              "        const docLinkHtml = 'Like what you see? Visit the ' +\n",
              "          '<a target=\"_blank\" href=https://colab.research.google.com/notebooks/data_table.ipynb>data table notebook</a>'\n",
              "          + ' to learn more about interactive tables.';\n",
              "        element.innerHTML = '';\n",
              "        dataTable['output_type'] = 'display_data';\n",
              "        await google.colab.output.renderOutput(dataTable, element);\n",
              "        const docLink = document.createElement('div');\n",
              "        docLink.innerHTML = docLinkHtml;\n",
              "        element.appendChild(docLink);\n",
              "      }\n",
              "    </script>\n",
              "  </div>\n",
              "\n",
              "\n",
              "<div id=\"df-e2f45ec4-3443-47d3-98de-f9ee29bcb8fb\">\n",
              "  <button class=\"colab-df-quickchart\" onclick=\"quickchart('df-e2f45ec4-3443-47d3-98de-f9ee29bcb8fb')\"\n",
              "            title=\"Suggest charts\"\n",
              "            style=\"display:none;\">\n",
              "\n",
              "<svg xmlns=\"http://www.w3.org/2000/svg\" height=\"24px\"viewBox=\"0 0 24 24\"\n",
              "     width=\"24px\">\n",
              "    <g>\n",
              "        <path d=\"M19 3H5c-1.1 0-2 .9-2 2v14c0 1.1.9 2 2 2h14c1.1 0 2-.9 2-2V5c0-1.1-.9-2-2-2zM9 17H7v-7h2v7zm4 0h-2V7h2v10zm4 0h-2v-4h2v4z\"/>\n",
              "    </g>\n",
              "</svg>\n",
              "  </button>\n",
              "\n",
              "<style>\n",
              "  .colab-df-quickchart {\n",
              "      --bg-color: #E8F0FE;\n",
              "      --fill-color: #1967D2;\n",
              "      --hover-bg-color: #E2EBFA;\n",
              "      --hover-fill-color: #174EA6;\n",
              "      --disabled-fill-color: #AAA;\n",
              "      --disabled-bg-color: #DDD;\n",
              "  }\n",
              "\n",
              "  [theme=dark] .colab-df-quickchart {\n",
              "      --bg-color: #3B4455;\n",
              "      --fill-color: #D2E3FC;\n",
              "      --hover-bg-color: #434B5C;\n",
              "      --hover-fill-color: #FFFFFF;\n",
              "      --disabled-bg-color: #3B4455;\n",
              "      --disabled-fill-color: #666;\n",
              "  }\n",
              "\n",
              "  .colab-df-quickchart {\n",
              "    background-color: var(--bg-color);\n",
              "    border: none;\n",
              "    border-radius: 50%;\n",
              "    cursor: pointer;\n",
              "    display: none;\n",
              "    fill: var(--fill-color);\n",
              "    height: 32px;\n",
              "    padding: 0;\n",
              "    width: 32px;\n",
              "  }\n",
              "\n",
              "  .colab-df-quickchart:hover {\n",
              "    background-color: var(--hover-bg-color);\n",
              "    box-shadow: 0 1px 2px rgba(60, 64, 67, 0.3), 0 1px 3px 1px rgba(60, 64, 67, 0.15);\n",
              "    fill: var(--button-hover-fill-color);\n",
              "  }\n",
              "\n",
              "  .colab-df-quickchart-complete:disabled,\n",
              "  .colab-df-quickchart-complete:disabled:hover {\n",
              "    background-color: var(--disabled-bg-color);\n",
              "    fill: var(--disabled-fill-color);\n",
              "    box-shadow: none;\n",
              "  }\n",
              "\n",
              "  .colab-df-spinner {\n",
              "    border: 2px solid var(--fill-color);\n",
              "    border-color: transparent;\n",
              "    border-bottom-color: var(--fill-color);\n",
              "    animation:\n",
              "      spin 1s steps(1) infinite;\n",
              "  }\n",
              "\n",
              "  @keyframes spin {\n",
              "    0% {\n",
              "      border-color: transparent;\n",
              "      border-bottom-color: var(--fill-color);\n",
              "      border-left-color: var(--fill-color);\n",
              "    }\n",
              "    20% {\n",
              "      border-color: transparent;\n",
              "      border-left-color: var(--fill-color);\n",
              "      border-top-color: var(--fill-color);\n",
              "    }\n",
              "    30% {\n",
              "      border-color: transparent;\n",
              "      border-left-color: var(--fill-color);\n",
              "      border-top-color: var(--fill-color);\n",
              "      border-right-color: var(--fill-color);\n",
              "    }\n",
              "    40% {\n",
              "      border-color: transparent;\n",
              "      border-right-color: var(--fill-color);\n",
              "      border-top-color: var(--fill-color);\n",
              "    }\n",
              "    60% {\n",
              "      border-color: transparent;\n",
              "      border-right-color: var(--fill-color);\n",
              "    }\n",
              "    80% {\n",
              "      border-color: transparent;\n",
              "      border-right-color: var(--fill-color);\n",
              "      border-bottom-color: var(--fill-color);\n",
              "    }\n",
              "    90% {\n",
              "      border-color: transparent;\n",
              "      border-bottom-color: var(--fill-color);\n",
              "    }\n",
              "  }\n",
              "</style>\n",
              "\n",
              "  <script>\n",
              "    async function quickchart(key) {\n",
              "      const quickchartButtonEl =\n",
              "        document.querySelector('#' + key + ' button');\n",
              "      quickchartButtonEl.disabled = true;  // To prevent multiple clicks.\n",
              "      quickchartButtonEl.classList.add('colab-df-spinner');\n",
              "      try {\n",
              "        const charts = await google.colab.kernel.invokeFunction(\n",
              "            'suggestCharts', [key], {});\n",
              "      } catch (error) {\n",
              "        console.error('Error during call to suggestCharts:', error);\n",
              "      }\n",
              "      quickchartButtonEl.classList.remove('colab-df-spinner');\n",
              "      quickchartButtonEl.classList.add('colab-df-quickchart-complete');\n",
              "    }\n",
              "    (() => {\n",
              "      let quickchartButtonEl =\n",
              "        document.querySelector('#df-e2f45ec4-3443-47d3-98de-f9ee29bcb8fb button');\n",
              "      quickchartButtonEl.style.display =\n",
              "        google.colab.kernel.accessAllowed ? 'block' : 'none';\n",
              "    })();\n",
              "  </script>\n",
              "</div>\n",
              "    </div>\n",
              "  </div>\n"
            ]
          },
          "metadata": {},
          "execution_count": 14
        }
      ]
    },
    {
      "cell_type": "code",
      "source": [
        "dataset_final = df_new"
      ],
      "metadata": {
        "id": "GjahWZeDxk36"
      },
      "execution_count": null,
      "outputs": []
    },
    {
      "cell_type": "code",
      "source": [
        "dataset_final.head(1)"
      ],
      "metadata": {
        "colab": {
          "base_uri": "https://localhost:8080/",
          "height": 81
        },
        "id": "K3NWgFQnG3ug",
        "outputId": "774a0eb8-f889-4357-d0c3-a054a803879f"
      },
      "execution_count": null,
      "outputs": [
        {
          "output_type": "execute_result",
          "data": {
            "text/plain": [
              "   EdadMeses  Peso  Talla  Hemoglobina  Sexo  Dx_Anemia\n",
              "0         44  19.5  102.0         12.2     1          3"
            ],
            "text/html": [
              "\n",
              "  <div id=\"df-4319433d-c69c-44bc-8316-558661b26619\" class=\"colab-df-container\">\n",
              "    <div>\n",
              "<style scoped>\n",
              "    .dataframe tbody tr th:only-of-type {\n",
              "        vertical-align: middle;\n",
              "    }\n",
              "\n",
              "    .dataframe tbody tr th {\n",
              "        vertical-align: top;\n",
              "    }\n",
              "\n",
              "    .dataframe thead th {\n",
              "        text-align: right;\n",
              "    }\n",
              "</style>\n",
              "<table border=\"1\" class=\"dataframe\">\n",
              "  <thead>\n",
              "    <tr style=\"text-align: right;\">\n",
              "      <th></th>\n",
              "      <th>EdadMeses</th>\n",
              "      <th>Peso</th>\n",
              "      <th>Talla</th>\n",
              "      <th>Hemoglobina</th>\n",
              "      <th>Sexo</th>\n",
              "      <th>Dx_Anemia</th>\n",
              "    </tr>\n",
              "  </thead>\n",
              "  <tbody>\n",
              "    <tr>\n",
              "      <th>0</th>\n",
              "      <td>44</td>\n",
              "      <td>19.5</td>\n",
              "      <td>102.0</td>\n",
              "      <td>12.2</td>\n",
              "      <td>1</td>\n",
              "      <td>3</td>\n",
              "    </tr>\n",
              "  </tbody>\n",
              "</table>\n",
              "</div>\n",
              "    <div class=\"colab-df-buttons\">\n",
              "\n",
              "  <div class=\"colab-df-container\">\n",
              "    <button class=\"colab-df-convert\" onclick=\"convertToInteractive('df-4319433d-c69c-44bc-8316-558661b26619')\"\n",
              "            title=\"Convert this dataframe to an interactive table.\"\n",
              "            style=\"display:none;\">\n",
              "\n",
              "  <svg xmlns=\"http://www.w3.org/2000/svg\" height=\"24px\" viewBox=\"0 -960 960 960\">\n",
              "    <path d=\"M120-120v-720h720v720H120Zm60-500h600v-160H180v160Zm220 220h160v-160H400v160Zm0 220h160v-160H400v160ZM180-400h160v-160H180v160Zm440 0h160v-160H620v160ZM180-180h160v-160H180v160Zm440 0h160v-160H620v160Z\"/>\n",
              "  </svg>\n",
              "    </button>\n",
              "\n",
              "  <style>\n",
              "    .colab-df-container {\n",
              "      display:flex;\n",
              "      gap: 12px;\n",
              "    }\n",
              "\n",
              "    .colab-df-convert {\n",
              "      background-color: #E8F0FE;\n",
              "      border: none;\n",
              "      border-radius: 50%;\n",
              "      cursor: pointer;\n",
              "      display: none;\n",
              "      fill: #1967D2;\n",
              "      height: 32px;\n",
              "      padding: 0 0 0 0;\n",
              "      width: 32px;\n",
              "    }\n",
              "\n",
              "    .colab-df-convert:hover {\n",
              "      background-color: #E2EBFA;\n",
              "      box-shadow: 0px 1px 2px rgba(60, 64, 67, 0.3), 0px 1px 3px 1px rgba(60, 64, 67, 0.15);\n",
              "      fill: #174EA6;\n",
              "    }\n",
              "\n",
              "    .colab-df-buttons div {\n",
              "      margin-bottom: 4px;\n",
              "    }\n",
              "\n",
              "    [theme=dark] .colab-df-convert {\n",
              "      background-color: #3B4455;\n",
              "      fill: #D2E3FC;\n",
              "    }\n",
              "\n",
              "    [theme=dark] .colab-df-convert:hover {\n",
              "      background-color: #434B5C;\n",
              "      box-shadow: 0px 1px 3px 1px rgba(0, 0, 0, 0.15);\n",
              "      filter: drop-shadow(0px 1px 2px rgba(0, 0, 0, 0.3));\n",
              "      fill: #FFFFFF;\n",
              "    }\n",
              "  </style>\n",
              "\n",
              "    <script>\n",
              "      const buttonEl =\n",
              "        document.querySelector('#df-4319433d-c69c-44bc-8316-558661b26619 button.colab-df-convert');\n",
              "      buttonEl.style.display =\n",
              "        google.colab.kernel.accessAllowed ? 'block' : 'none';\n",
              "\n",
              "      async function convertToInteractive(key) {\n",
              "        const element = document.querySelector('#df-4319433d-c69c-44bc-8316-558661b26619');\n",
              "        const dataTable =\n",
              "          await google.colab.kernel.invokeFunction('convertToInteractive',\n",
              "                                                    [key], {});\n",
              "        if (!dataTable) return;\n",
              "\n",
              "        const docLinkHtml = 'Like what you see? Visit the ' +\n",
              "          '<a target=\"_blank\" href=https://colab.research.google.com/notebooks/data_table.ipynb>data table notebook</a>'\n",
              "          + ' to learn more about interactive tables.';\n",
              "        element.innerHTML = '';\n",
              "        dataTable['output_type'] = 'display_data';\n",
              "        await google.colab.output.renderOutput(dataTable, element);\n",
              "        const docLink = document.createElement('div');\n",
              "        docLink.innerHTML = docLinkHtml;\n",
              "        element.appendChild(docLink);\n",
              "      }\n",
              "    </script>\n",
              "  </div>\n",
              "\n",
              "    </div>\n",
              "  </div>\n"
            ]
          },
          "metadata": {},
          "execution_count": 16
        }
      ]
    },
    {
      "cell_type": "code",
      "source": [
        "#dataset_final = dataset_final.drop(['HBC'], axis=1)"
      ],
      "metadata": {
        "id": "woEc5GyhKH08"
      },
      "execution_count": null,
      "outputs": []
    },
    {
      "cell_type": "markdown",
      "source": [
        "#Random Forest"
      ],
      "metadata": {
        "id": "4A1tBGGjxpUz"
      }
    },
    {
      "cell_type": "code",
      "source": [
        "from sklearn.model_selection import train_test_split\n",
        "from sklearn.preprocessing import StandardScaler\n",
        "from sklearn.ensemble import RandomForestClassifier\n",
        "from sklearn.metrics import confusion_matrix\n",
        "from sklearn.metrics import accuracy_score\n",
        "from sklearn.metrics import precision_score, recall_score\n",
        "from sklearn.metrics import f1_score, roc_auc_score, roc_curve\n",
        "\n",
        "\n",
        "X, y = dataset_final.iloc[:, :-1], dataset_final.iloc[:, -1]"
      ],
      "metadata": {
        "id": "G8FExAD9xoyT"
      },
      "execution_count": null,
      "outputs": []
    },
    {
      "cell_type": "code",
      "source": [
        "from sklearn.metrics import precision_score, recall_score\n",
        "from sklearn.metrics import f1_score, roc_auc_score\n",
        "from sklearn.preprocessing import label_binarize\n",
        "from sklearn.metrics import roc_curve, auc\n",
        "import matplotlib.pyplot as plt\n",
        "def general_model_report(y_actual, y_predicted):\n",
        "  print(\"Accuracy = \", accuracy_score(y_actual, y_predicted))\n",
        "  print(\"Precision = \", precision_score(y_actual, y_predicted, average='weighted'))\n",
        "  print(\"Recall = \", recall_score(y_actual, y_predicted, average='weighted'))\n",
        "  print(\"F1-score = \", f1_score(y_actual, y_predicted, average='weighted'))\n",
        "  pass\n",
        "\n",
        "def generate_roc_curve(clf, X_test, y_test):\n",
        "    y_test_bin = label_binarize(y_test, classes=clf.classes_)\n",
        "\n",
        "    y_pred_proba = clf.predict_proba(X_test)\n",
        "\n",
        "    plt.figure(figsize=(8, 8))\n",
        "\n",
        "    for i in range(len(clf.classes_)):\n",
        "        fpr, tpr, _ = roc_curve(y_test_bin[:, i], y_pred_proba[:, i])\n",
        "        auc_score = auc(fpr, tpr)\n",
        "        plt.plot(fpr, tpr, label=f'Class {i} (AUC = {auc_score:.2f})')\n",
        "\n",
        "    plt.xlabel('False Positive Rate')\n",
        "    plt.ylabel('True Positive Rate')\n",
        "    plt.title('ROC Curve for Multiclass Classification')\n",
        "    plt.legend()\n",
        "    plt.show()"
      ],
      "metadata": {
        "id": "vPSNpryVR0-a"
      },
      "execution_count": null,
      "outputs": []
    },
    {
      "cell_type": "code",
      "source": [
        "pyplot.bar(counter.keys(), counter.values())\n",
        "pyplot.xlabel(\"Clases\")\n",
        "pyplot.ylabel(\"Numero de registros\")\n",
        "pyplot.show()"
      ],
      "metadata": {
        "colab": {
          "base_uri": "https://localhost:8080/",
          "height": 449
        },
        "id": "-2vJVtOoyJ7r",
        "outputId": "6b54b041-c496-4e5f-9880-ea2082966996"
      },
      "execution_count": null,
      "outputs": [
        {
          "output_type": "display_data",
          "data": {
            "text/plain": [
              "<Figure size 640x480 with 1 Axes>"
            ],
            "image/png": "[encoded data removed]"
          },
          "metadata": {}
        }
      ]
    },
    {
      "cell_type": "code",
      "source": [
        "X_train, X_test, y_train, y_test = train_test_split(X, y, test_size = 0.2, random_state = 21)\n",
        "\n",
        "scaler = StandardScaler()\n",
        "X_train = scaler.fit_transform(X_train)\n",
        "X_test = scaler.transform(X_test)"
      ],
      "metadata": {
        "id": "5CSPZZrFyJzt"
      },
      "execution_count": null,
      "outputs": []
    },
    {
      "cell_type": "code",
      "source": [
        "classifier = RandomForestClassifier(n_estimators = 100, criterion = 'entropy', random_state = 21)\n",
        "modelo =classifier.fit(X_train, y_train)\n"
      ],
      "metadata": {
        "id": "VZ5LpMP-zuiD"
      },
      "execution_count": null,
      "outputs": []
    },
    {
      "cell_type": "code",
      "source": [
        "y_pred = modelo.predict(X_test)\n",
        "\n",
        "print(accuracy_score(y_test,y_pred))"
      ],
      "metadata": {
        "colab": {
          "base_uri": "https://localhost:8080/"
        },
        "id": "96V7mI0C1f6c",
        "outputId": "f2eb4f0c-5daf-4ad1-b4ee-697d6a457881"
      },
      "execution_count": null,
      "outputs": [
        {
          "output_type": "stream",
          "name": "stdout",
          "text": [
            "0.7160133240593822\n"
          ]
        }
      ]
    },
    {
      "cell_type": "code",
      "source": [
        "\n",
        "feature_importances = modelo.feature_importances_\n",
        "caracteristicas = dataset_final.columns[:-1]  # asumiendo que la última columna es la variable objetivo\n",
        "plt.bar(caracteristicas, feature_importances)\n",
        "plt.xlabel('características')\n",
        "plt.ylabel('Importance')\n",
        "plt.title('Feature Importances')\n",
        "plt.xticks(rotation=90)\n",
        "plt.show()"
      ],
      "metadata": {
        "colab": {
          "base_uri": "https://localhost:8080/",
          "height": 550
        },
        "id": "kCJdMRsRFL3H",
        "outputId": "fc27bb37-19ed-4386-df9e-876199d02eba"
      },
      "execution_count": null,
      "outputs": [
        {
          "output_type": "display_data",
          "data": {
            "text/plain": [
              "<Figure size 640x480 with 1 Axes>"
            ],
            "image/png": "[encoded data removed]"
          },
          "metadata": {}
        }
      ]
    },
    {
      "cell_type": "code",
      "source": [
        "from sklearn.metrics import confusion_matrix, classification_report\n",
        "from matplotlib import pyplot as plt\n",
        "import seaborn as sns\n",
        "conf_matrix = confusion_matrix(y_test, y_pred)\n",
        "plt.figure(figsize=(9, 6))\n",
        "sns.heatmap(conf_matrix, annot=True, fmt=\"d\");\n",
        "plt.title(\"Confusion matrix\")\n",
        "plt.ylabel('class')\n",
        "plt.xlabel('Predicted class')\n",
        "plt.show()\n",
        "print(classification_report(y_test, y_pred))"
      ],
      "metadata": {
        "colab": {
          "base_uri": "https://localhost:8080/",
          "height": 755
        },
        "id": "R7KDSUKE3uB7",
        "outputId": "8bf82445-6f9f-4672-c1a6-ab2b594de2ee"
      },
      "execution_count": null,
      "outputs": [
        {
          "output_type": "display_data",
          "data": {
            "text/plain": [
              "<Figure size 900x600 with 2 Axes>"
            ],
            "image/png": "[encoded data removed]"
          },
          "metadata": {}
        },
        {
          "output_type": "stream",
          "name": "stdout",
          "text": [
            "              precision    recall  f1-score   support\n",
            "\n",
            "           0       0.38      0.26      0.31     62472\n",
            "           1       0.32      0.18      0.23     33910\n",
            "           2       0.12      0.05      0.07       844\n",
            "           3       0.78      0.88      0.83    270830\n",
            "\n",
            "    accuracy                           0.71    368056\n",
            "   macro avg       0.40      0.34      0.36    368056\n",
            "weighted avg       0.67      0.71      0.68    368056\n",
            "\n"
          ]
        }
      ]
    },
    {
      "cell_type": "markdown",
      "source": [
        "#Balanceamos la Data"
      ],
      "metadata": {
        "id": "bMSBu0Mi3_jp"
      }
    },
    {
      "cell_type": "code",
      "source": [
        "X, y = dataset_final.iloc[:, :-1], dataset_final.iloc[:, -1]\n",
        "X_train, X_test, y_train, y_test = train_test_split(X, y, test_size = 0.2, random_state = 42)\n",
        "#dataset_final.info()"
      ],
      "metadata": {
        "id": "hV520eGtRIxD"
      },
      "execution_count": null,
      "outputs": []
    },
    {
      "cell_type": "code",
      "source": [
        "counter = Counter(y)\n",
        "for k,v in counter.items():\n",
        "\tper = v / len(y) * 100\n",
        "\tprint('Class=%d, n=%d (%.3f%%)' % (k, v, per))\n",
        "pyplot.bar(counter.keys(), counter.values())\n",
        "pyplot.xlabel(\"Niveles\")\n",
        "pyplot.ylabel(\"Numero de registros\")\n",
        "pyplot.show()"
      ],
      "metadata": {
        "colab": {
          "base_uri": "https://localhost:8080/",
          "height": 534
        },
        "id": "24Hcag4jm2ed",
        "outputId": "616a4922-c8d8-464d-edbd-cc9b0047cfbf"
      },
      "execution_count": null,
      "outputs": [
        {
          "output_type": "stream",
          "name": "stdout",
          "text": [
            "Class=3, n=1354429 (73.599%)\n",
            "Class=0, n=311492 (16.926%)\n",
            "Class=1, n=170020 (9.239%)\n",
            "Class=2, n=4339 (0.236%)\n"
          ]
        },
        {
          "output_type": "display_data",
          "data": {
            "text/plain": [
              "<Figure size 640x480 with 1 Axes>"
            ],
            "image/png": "[encoded data removed]"
          },
          "metadata": {}
        }
      ]
    },
    {
      "cell_type": "code",
      "source": [
        "counter = Counter(y_train)\n",
        "for k,v in counter.items():\n",
        "\tper = v / len(y) * 100\n",
        "\tprint('Class=%d, n=%d (%.3f%%)' % (k, v, per))\n",
        "pyplot.bar(counter.keys(), counter.values())\n",
        "pyplot.xlabel(\"Niveles\")\n",
        "pyplot.ylabel(\"Numero de registros\")\n",
        "pyplot.show()\n"
      ],
      "metadata": {
        "colab": {
          "base_uri": "https://localhost:8080/",
          "height": 534
        },
        "id": "cxR4oULQcEZu",
        "outputId": "21b4ac7f-4aa2-46a4-9ad0-2997c71d9a60"
      },
      "execution_count": null,
      "outputs": [
        {
          "output_type": "stream",
          "name": "stdout",
          "text": [
            "Class=3, n=1083836 (58.895%)\n",
            "Class=0, n=249140 (13.538%)\n",
            "Class=1, n=135802 (7.379%)\n",
            "Class=2, n=3446 (0.187%)\n"
          ]
        },
        {
          "output_type": "display_data",
          "data": {
            "text/plain": [
              "<Figure size 640x480 with 1 Axes>"
            ],
            "image/png": "[encoded data removed]"
          },
          "metadata": {}
        }
      ]
    },
    {
      "cell_type": "code",
      "source": [
        "counter = Counter(y_test)\n",
        "for k,v in counter.items():\n",
        "\tper = v / len(y) * 100\n",
        "\tprint('Class=%d, n=%d (%.3f%%)' % (k, v, per))\n",
        "pyplot.bar(counter.keys(), counter.values())\n",
        "pyplot.xlabel(\"Niveles\")\n",
        "pyplot.ylabel(\"Numero de registros\")\n",
        "pyplot.show()\n"
      ],
      "metadata": {
        "colab": {
          "base_uri": "https://localhost:8080/",
          "height": 518
        },
        "id": "BbsnVKDMcwFW",
        "outputId": "821edae3-351f-4ee7-da58-34ea0a4099ec"
      },
      "execution_count": null,
      "outputs": [
        {
          "output_type": "stream",
          "name": "stdout",
          "text": [
            "Class=3, n=270593 (14.704%)\n",
            "Class=0, n=62352 (3.388%)\n",
            "Class=2, n=893 (0.049%)\n",
            "Class=1, n=34218 (1.859%)\n"
          ]
        },
        {
          "output_type": "display_data",
          "data": {
            "text/plain": [
              "<Figure size 640x480 with 1 Axes>"
            ],
            "image/png": "[encoded data removed]"
          },
          "metadata": {}
        }
      ]
    },
    {
      "cell_type": "code",
      "source": [
        "from imblearn import under_sampling, over_sampling\n",
        "from imblearn.under_sampling import RandomUnderSampler\n",
        "from imblearn.over_sampling import SMOTE\n",
        "from imblearn.pipeline import Pipeline\n",
        "\n",
        "undersampling_strategy = {\n",
        "  0: int(44000),\n",
        "  1: int(44000),\n",
        "  3: int(44000)\n",
        "}\n",
        "undersampler = RandomUnderSampler(sampling_strategy=undersampling_strategy, random_state=42)\n",
        "X_undersampled, y_undersampled = undersampler.fit_resample(X_train, y_train)\n",
        "\n",
        "oversampling_strategy = {2: int(44000)}\n",
        "oversampler = SMOTE(sampling_strategy=oversampling_strategy, random_state=42)\n",
        "X_train, y_train = oversampler.fit_resample(X_undersampled, y_undersampled)\n"
      ],
      "metadata": {
        "id": "Gzkbj2AD4G_o"
      },
      "execution_count": null,
      "outputs": []
    },
    {
      "cell_type": "code",
      "source": [
        "undersampling_strategy = {\n",
        "  0: int(13000),\n",
        "  1: int(13000),\n",
        "  3: int(13000)\n",
        "}\n",
        "undersampler = RandomUnderSampler(sampling_strategy=undersampling_strategy, random_state=42)\n",
        "X_undersampled, y_undersampled = undersampler.fit_resample(X_test, y_test)\n",
        "\n",
        "oversampling_strategy = {2: int(13000)}\n",
        "oversampler = SMOTE(sampling_strategy=oversampling_strategy, random_state=42)\n",
        "X_test, y_test = oversampler.fit_resample(X_undersampled, y_undersampled)"
      ],
      "metadata": {
        "id": "1z_XwtZ7c1_L"
      },
      "execution_count": null,
      "outputs": []
    },
    {
      "cell_type": "code",
      "source": [
        "counter = Counter(y_train)\n",
        "for k,v in counter.items():\n",
        "\tper = v / len(y) * 100\n",
        "\tprint('Class=%d, n=%d (%.3f%%)' % (k, v, per))\n",
        "pyplot.bar(counter.keys(), counter.values())\n",
        "pyplot.xlabel(\"Niveles\")\n",
        "pyplot.ylabel(\"Numero de registros\")\n",
        "pyplot.show()\n"
      ],
      "metadata": {
        "colab": {
          "base_uri": "https://localhost:8080/",
          "height": 518
        },
        "id": "HBpFeRwn33X7",
        "outputId": "c1118ab0-2a01-4691-ccea-f189d09f3f00"
      },
      "execution_count": null,
      "outputs": [
        {
          "output_type": "stream",
          "name": "stdout",
          "text": [
            "Class=0, n=44000 (2.391%)\n",
            "Class=1, n=44000 (2.391%)\n",
            "Class=2, n=44000 (2.391%)\n",
            "Class=3, n=44000 (2.391%)\n"
          ]
        },
        {
          "output_type": "display_data",
          "data": {
            "text/plain": [
              "<Figure size 640x480 with 1 Axes>"
            ],
            "image/png": "[encoded data removed]"
          },
          "metadata": {}
        }
      ]
    },
    {
      "cell_type": "code",
      "source": [
        "counter = Counter(y_test)\n",
        "for k,v in counter.items():\n",
        "\tper = v / len(y) * 100\n",
        "\tprint('Class=%d, n=%d (%.3f%%)' % (k, v, per))\n",
        "pyplot.bar(counter.keys(), counter.values())\n",
        "pyplot.xlabel(\"Niveles\")\n",
        "pyplot.ylabel(\"Numero de registros\")\n",
        "pyplot.show()"
      ],
      "metadata": {
        "colab": {
          "base_uri": "https://localhost:8080/",
          "height": 518
        },
        "id": "6VIGnTPidUr1",
        "outputId": "c91d1bd9-7892-4b7b-9d35-ba6cf1e17062"
      },
      "execution_count": null,
      "outputs": [
        {
          "output_type": "stream",
          "name": "stdout",
          "text": [
            "Class=0, n=13000 (0.706%)\n",
            "Class=1, n=13000 (0.706%)\n",
            "Class=2, n=13000 (0.706%)\n",
            "Class=3, n=13000 (0.706%)\n"
          ]
        },
        {
          "output_type": "display_data",
          "data": {
            "text/plain": [
              "<Figure size 640x480 with 1 Axes>"
            ],
            "image/png": "[encoded data removed]"
          },
          "metadata": {}
        }
      ]
    },
    {
      "cell_type": "code",
      "source": [
        "#X_train, X_test, y_train, y_test = train_test_split(X_resampled, y_resampled, test_size = 0.25, random_state = 42)\n",
        "\n",
        "scaler = StandardScaler()\n",
        "X_train = scaler.fit_transform(X_train)\n",
        "X_test = scaler.transform(X_test)\n",
        "\n",
        "factor = pd.factorize(df['Dx_Anemia'])\n",
        "df.niveles = factor[0]\n",
        "definitions = factor[1]\n",
        "\n",
        "classifier = RandomForestClassifier(n_estimators = 100, criterion = 'entropy', random_state = 42)\n",
        "modelo =classifier.fit(X_train, y_train)\n",
        "feature_importances_over = modelo.feature_importances_\n",
        "y_pred = modelo.predict(X_test)\n",
        "print(accuracy_score(y_test,y_pred))"
      ],
      "metadata": {
        "colab": {
          "base_uri": "https://localhost:8080/"
        },
        "id": "YESLn9KN468h",
        "outputId": "47b22306-60c5-4d14-ab16-60ed03d06073"
      },
      "execution_count": null,
      "outputs": [
        {
          "output_type": "stream",
          "name": "stdout",
          "text": [
            "0.4654615384615385\n"
          ]
        }
      ]
    },
    {
      "cell_type": "code",
      "source": [
        "conf_matrix = confusion_matrix(y_test, y_pred)\n",
        "plt.figure(figsize=(9, 6))\n",
        "sns.heatmap(conf_matrix, annot=True, fmt=\"d\");\n",
        "plt.title(\"Confusion matrix\")\n",
        "plt.ylabel('class')\n",
        "plt.xlabel('Predicted class')\n",
        "plt.show()\n",
        "print(classification_report(y_test, y_pred))"
      ],
      "metadata": {
        "colab": {
          "base_uri": "https://localhost:8080/",
          "height": 755
        },
        "id": "r99iS7O2PsIe",
        "outputId": "7f240d64-6126-479b-a46b-7f6f76d84d2f"
      },
      "execution_count": null,
      "outputs": [
        {
          "output_type": "display_data",
          "data": {
            "text/plain": [
              "<Figure size 900x600 with 2 Axes>"
            ],
            "image/png": "[encoded data removed]"
          },
          "metadata": {}
        },
        {
          "output_type": "stream",
          "name": "stdout",
          "text": [
            "              precision    recall  f1-score   support\n",
            "\n",
            "           0       0.41      0.44      0.42     13000\n",
            "           1       0.39      0.38      0.38     13000\n",
            "           2       0.83      0.55      0.66     13000\n",
            "           3       0.38      0.50      0.43     13000\n",
            "\n",
            "    accuracy                           0.47     52000\n",
            "   macro avg       0.50      0.47      0.48     52000\n",
            "weighted avg       0.50      0.47      0.48     52000\n",
            "\n"
          ]
        }
      ]
    },
    {
      "cell_type": "code",
      "source": [
        "X_train, X_test, y_train, y_test = train_test_split(X_resampled, y_resampled, test_size = 0.25, random_state = 42)\n",
        "\n",
        "scaler = StandardScaler()\n",
        "X_train = scaler.fit_transform(X_train)\n",
        "X_test = scaler.transform(X_test)\n",
        "\n",
        "factor = pd.factorize(df['Dx_Anemia'])\n",
        "df.niveles = factor[0]\n",
        "definitions = factor[1]\n",
        "\n",
        "classifier = RandomForestClassifier(n_estimators = 1000, criterion = 'entropy', random_state = 42)\n",
        "modelo =classifier.fit(X_train, y_train)\n",
        "feature_importances_under = modelo.feature_importances_\n",
        "y_pred = modelo.predict(X_test)\n",
        "print(accuracy_score(y_test,y_pred))"
      ],
      "metadata": {
        "colab": {
          "base_uri": "https://localhost:8080/"
        },
        "id": "8MOjwrEGPO4W",
        "outputId": "86f5594b-a3f5-4842-8ffc-b437d084d8d3"
      },
      "execution_count": null,
      "outputs": [
        {
          "output_type": "stream",
          "name": "stdout",
          "text": [
            "0.6626333333333333\n"
          ]
        }
      ]
    },
    {
      "cell_type": "code",
      "source": [
        "conf_matrix = confusion_matrix(y_test, y_pred)\n",
        "plt.figure(figsize=(9, 6))\n",
        "sns.heatmap(conf_matrix, annot=True, fmt=\"d\");\n",
        "plt.title(\"Confusion matrix\")\n",
        "plt.ylabel('class')\n",
        "plt.xlabel('Predicted class')\n",
        "plt.show()\n",
        "print(classification_report(y_test, y_pred))"
      ],
      "metadata": {
        "id": "t131nXoY5Dk0"
      },
      "execution_count": null,
      "outputs": []
    },
    {
      "cell_type": "code",
      "source": [
        "general_model_report(y_test,y_pred)"
      ],
      "metadata": {
        "colab": {
          "base_uri": "https://localhost:8080/"
        },
        "id": "bHKNJIazRAVJ",
        "outputId": "1914208d-6f73-4419-f867-f7ca5de99aa2"
      },
      "execution_count": null,
      "outputs": [
        {
          "output_type": "stream",
          "name": "stdout",
          "text": [
            "Accuracy =  0.6626333333333333\n",
            "Precision =  0.6649312525442451\n",
            "Recall =  0.6626333333333333\n",
            "F1-score =  0.6621914596780853\n"
          ]
        }
      ]
    },
    {
      "cell_type": "code",
      "source": [
        "generate_roc_curve(modelo, X_test, y_test)"
      ],
      "metadata": {
        "colab": {
          "base_uri": "https://localhost:8080/",
          "height": 718
        },
        "id": "7scqkBGRTsF4",
        "outputId": "a895cf52-e920-48e1-e41e-100a8563e5ac"
      },
      "execution_count": null,
      "outputs": [
        {
          "output_type": "display_data",
          "data": {
            "text/plain": [
              "<Figure size 800x800 with 1 Axes>"
            ],
            "image/png": "[encoded data removed]"
          },
          "metadata": {}
        }
      ]
    },
    {
      "cell_type": "markdown",
      "source": [
        "##Arbol de Decision"
      ],
      "metadata": {
        "id": "xOEhf7g1VySQ"
      }
    },
    {
      "cell_type": "code",
      "source": [
        "from sklearn.tree import DecisionTreeClassifier\n",
        "\n",
        "#X, y = dataset_final.iloc[:, :-1], dataset_final.iloc[:, -1]\n",
        "#oversample = SMOTE()\n",
        "#X, y = oversample.fit_resample(X,y)\n",
        "\n",
        "#X_train, X_test, y_train, y_test = train_test_split(X_resampled, y_resampled, test_size = 0.25, random_state = 21)\n",
        "\n",
        "dtr = DecisionTreeClassifier()\n",
        "arbolito = dtr.fit(X_train, y_train)\n",
        "y_pred_arbolito = arbolito.predict(X_test)\n",
        "\n",
        "reversefactor = dict(zip(range(7),definitions))\n",
        "y_test = np.vectorize(reversefactor.get)(y_test)\n",
        "y_pred_arbolito = np.vectorize(reversefactor.get)(y_pred)\n",
        "\n",
        "conf_matrix = confusion_matrix(y_test, y_pred_arbolito)\n",
        "plt.figure(figsize=(9, 6))\n",
        "sns.heatmap(conf_matrix, annot=True, fmt=\"d\");\n",
        "plt.title(\"Confusion matrix\")\n",
        "plt.ylabel('class')\n",
        "plt.xlabel('Predicted class')\n",
        "plt.show()\n",
        "print(classification_report(y_test, y_pred_arbolito))"
      ],
      "metadata": {
        "colab": {
          "base_uri": "https://localhost:8080/",
          "height": 755
        },
        "id": "mx7lKhW1Vxsu",
        "outputId": "d33e1452-916c-4693-f09b-420b418c298f"
      },
      "execution_count": null,
      "outputs": [
        {
          "output_type": "display_data",
          "data": {
            "text/plain": [
              "<Figure size 900x600 with 2 Axes>"
            ],
            "image/png": "[encoded data removed]"
          },
          "metadata": {}
        },
        {
          "output_type": "stream",
          "name": "stdout",
          "text": [
            "                 precision    recall  f1-score   support\n",
            "\n",
            "    Anemia Leve       0.61      0.51      0.55      7528\n",
            "Anemia Moderada       0.95      0.95      0.95      7424\n",
            "  Anemia Severa       0.58      0.62      0.60      7564\n",
            "         Normal       0.53      0.58      0.55      7484\n",
            "\n",
            "       accuracy                           0.66     30000\n",
            "      macro avg       0.67      0.66      0.66     30000\n",
            "   weighted avg       0.66      0.66      0.66     30000\n",
            "\n"
          ]
        }
      ]
    },
    {
      "cell_type": "code",
      "source": [
        "general_model_report(y_test,y_pred_arbolito)"
      ],
      "metadata": {
        "colab": {
          "base_uri": "https://localhost:8080/"
        },
        "id": "AB3s4QS7XD6F",
        "outputId": "239b81d0-8ffd-44c3-bca8-5ffe45876e0d"
      },
      "execution_count": null,
      "outputs": [
        {
          "output_type": "stream",
          "name": "stdout",
          "text": [
            "Accuracy =  0.519163763066202\n",
            "Precision =  0.5142674654775513\n",
            "Recall =  0.519163763066202\n",
            "F1-score =  0.5140501486602367\n"
          ]
        }
      ]
    },
    {
      "cell_type": "markdown",
      "source": [
        "##SVM"
      ],
      "metadata": {
        "id": "7Ayy3HY-X1In"
      }
    },
    {
      "cell_type": "code",
      "source": [
        "from sklearn.svm import SVC\n",
        "from sklearn.metrics import accuracy_score, classification_report, confusion_matrix\n",
        "from sklearn.model_selection import GridSearchCV\n",
        "from sklearn.preprocessing import StandardScaler\n",
        "from sklearn.model_selection import train_test_split\n",
        "\n",
        "#X, y = dataset_final.iloc[:, :-1], dataset_final.iloc[:, -1]\n",
        "#oversample = SMOTE()\n",
        "#X, y = oversample.fit_resample(X,y)\n",
        "\n",
        "#X_train, X_test, y_train, y_test = train_test_split(X_resampled, y_resampled, test_size = 0.25, random_state = 21)\n",
        "\n",
        "scaler = StandardScaler()\n",
        "X_train = scaler.fit_transform(X_train)\n",
        "X_test = scaler.transform(X_test)\n",
        "\n",
        "vectorcito = SVC(random_state=21)\n",
        "\n",
        "vectorcito.fit(X_train, y_train)\n",
        "\n",
        "y_pred_vectorcito = vectorcito.predict(X_test)\n",
        "\n",
        "general_model_report(y_test,y_pred_vectorcito)"
      ],
      "metadata": {
        "id": "aH4aCB3NYQJq"
      },
      "execution_count": null,
      "outputs": []
    },
    {
      "cell_type": "code",
      "source": [
        "conf_matrix = confusion_matrix(y_test, y_pred_vectorcito)\n",
        "plt.figure(figsize=(9, 6))\n",
        "sns.heatmap(conf_matrix, annot=True, fmt=\"d\");\n",
        "plt.title(\"Confusion matrix\")\n",
        "plt.ylabel('class')\n",
        "plt.xlabel('Predicted class')\n",
        "plt.show()\n",
        "print(classification_report(y_test, y_pred_vectorcito))"
      ],
      "metadata": {
        "colab": {
          "base_uri": "https://localhost:8080/",
          "height": 755
        },
        "id": "PFbE6gFNYtIs",
        "outputId": "6d3ca83f-aa01-40bb-b034-1728bbdb8b85"
      },
      "execution_count": null,
      "outputs": [
        {
          "output_type": "display_data",
          "data": {
            "text/plain": [
              "<Figure size 900x600 with 2 Axes>"
            ],
            "image/png": "[encoded data removed]"
          },
          "metadata": {}
        },
        {
          "output_type": "stream",
          "name": "stdout",
          "text": [
            "              precision    recall  f1-score   support\n",
            "\n",
            "           0       0.40      0.41      0.41       137\n",
            "           1       0.49      0.34      0.40       154\n",
            "           2       0.78      0.76      0.77       130\n",
            "           3       0.55      0.73      0.63       153\n",
            "\n",
            "    accuracy                           0.56       574\n",
            "   macro avg       0.56      0.56      0.55       574\n",
            "weighted avg       0.55      0.56      0.55       574\n",
            "\n"
          ]
        }
      ]
    },
    {
      "cell_type": "markdown",
      "source": [
        "##Regresión Logistica"
      ],
      "metadata": {
        "id": "Q72aMwbLkp2Q"
      }
    },
    {
      "cell_type": "code",
      "source": [
        "from sklearn.linear_model import LogisticRegression\n",
        "\n",
        "#X, y = dataset_final.iloc[:, :-1], dataset_final.iloc[:, -1]\n",
        "#oversample = SMOTE()\n",
        "#X, y = oversample.fit_resample(X,y)\n",
        "\n",
        "#X_train, X_test, y_train, y_test = train_test_split(X_resampled, y_resampled, test_size = 0.25, random_state = 21)\n",
        "\n",
        "scaler = StandardScaler()\n",
        "X_train = scaler.fit_transform(X_train)\n",
        "X_test = scaler.transform(X_test)\n",
        "\n",
        "logistico_tactico = LogisticRegression(max_iter=1000).fit(X_train, y_train)\n",
        "y_pred_tactico = logistico_tactico.predict(X_test)\n",
        "\n",
        "conf_matrix = confusion_matrix(y_test, y_pred_tactico)\n",
        "plt.figure(figsize=(9, 6))\n",
        "sns.heatmap(conf_matrix, annot=True, fmt=\"d\");\n",
        "plt.title(\"Confusion matrix\")\n",
        "plt.ylabel('class')\n",
        "plt.xlabel('Predicted class')\n",
        "plt.show()\n",
        "print(classification_report(y_test, y_pred_tactico))"
      ],
      "metadata": {
        "colab": {
          "base_uri": "https://localhost:8080/",
          "height": 755
        },
        "id": "T3bzC1cHktA5",
        "outputId": "f95c3ce9-e604-4a45-e4f6-4ac4e3dfbeae"
      },
      "execution_count": null,
      "outputs": [
        {
          "output_type": "display_data",
          "data": {
            "text/plain": [
              "<Figure size 900x600 with 2 Axes>"
            ],
            "image/png": "[encoded data removed]"
          },
          "metadata": {}
        },
        {
          "output_type": "stream",
          "name": "stdout",
          "text": [
            "              precision    recall  f1-score   support\n",
            "\n",
            "           0       0.27      0.28      0.28       137\n",
            "           1       0.40      0.36      0.38       154\n",
            "           2       0.75      0.79      0.77       130\n",
            "           3       0.59      0.59      0.59       153\n",
            "\n",
            "    accuracy                           0.50       574\n",
            "   macro avg       0.50      0.51      0.50       574\n",
            "weighted avg       0.50      0.50      0.50       574\n",
            "\n"
          ]
        }
      ]
    },
    {
      "cell_type": "markdown",
      "source": [
        "##Naive Bayes"
      ],
      "metadata": {
        "id": "ADAV6Vpt8fVm"
      }
    },
    {
      "cell_type": "code",
      "source": [
        "from sklearn.naive_bayes import GaussianNB\n",
        "from sklearn.metrics import accuracy_score, classification_report, confusion_matrix"
      ],
      "metadata": {
        "id": "N7LTYzjx8cGJ"
      },
      "execution_count": null,
      "outputs": []
    },
    {
      "cell_type": "code",
      "source": [
        "naive_bayes_classifier = GaussianNB()\n",
        "naive_bayes_classifier.fit(X_train, y_train)\n",
        "y_pred = naive_bayes_classifier.predict(X_test)\n",
        "conf_matrix = confusion_matrix(y_test, y_pred)\n",
        "plt.figure(figsize=(9, 6))\n",
        "sns.heatmap(conf_matrix, annot=True, fmt=\"d\");\n",
        "plt.title(\"Confusion matrix\")\n",
        "plt.ylabel('class')\n",
        "plt.xlabel('Predicted class')\n",
        "plt.show()\n",
        "print(classification_report(y_test, y_pred))"
      ],
      "metadata": {
        "colab": {
          "base_uri": "https://localhost:8080/",
          "height": 245
        },
        "id": "qZDD1b1e8h3n",
        "outputId": "655bfd93-72e3-4354-8ef9-cabd50e0d28f"
      },
      "execution_count": null,
      "outputs": [
        {
          "output_type": "error",
          "ename": "NameError",
          "evalue": "ignored",
          "traceback": [
            "\u001b[0;31m---------------------------------------------------------------------------\u001b[0m",
            "\u001b[0;31mNameError\u001b[0m                                 Traceback (most recent call last)",
            "\u001b[0;32m<ipython-input-2-59745a3818dd>\u001b[0m in \u001b[0;36m<cell line: 2>\u001b[0;34m()\u001b[0m\n\u001b[1;32m      1\u001b[0m \u001b[0mnaive_bayes_classifier\u001b[0m \u001b[0;34m=\u001b[0m \u001b[0mGaussianNB\u001b[0m\u001b[0;34m(\u001b[0m\u001b[0;34m)\u001b[0m\u001b[0;34m\u001b[0m\u001b[0;34m\u001b[0m\u001b[0m\n\u001b[0;32m----> 2\u001b[0;31m \u001b[0mnaive_bayes_classifier\u001b[0m\u001b[0;34m.\u001b[0m\u001b[0mfit\u001b[0m\u001b[0;34m(\u001b[0m\u001b[0mX_train\u001b[0m\u001b[0;34m,\u001b[0m \u001b[0my_train\u001b[0m\u001b[0;34m)\u001b[0m\u001b[0;34m\u001b[0m\u001b[0;34m\u001b[0m\u001b[0m\n\u001b[0m\u001b[1;32m      3\u001b[0m \u001b[0my_pred\u001b[0m \u001b[0;34m=\u001b[0m \u001b[0mnaive_bayes_classifier\u001b[0m\u001b[0;34m.\u001b[0m\u001b[0mpredict\u001b[0m\u001b[0;34m(\u001b[0m\u001b[0mX_test\u001b[0m\u001b[0;34m)\u001b[0m\u001b[0;34m\u001b[0m\u001b[0;34m\u001b[0m\u001b[0m\n\u001b[1;32m      4\u001b[0m \u001b[0mconf_matrix\u001b[0m \u001b[0;34m=\u001b[0m \u001b[0mconfusion_matrix\u001b[0m\u001b[0;34m(\u001b[0m\u001b[0my_test\u001b[0m\u001b[0;34m,\u001b[0m \u001b[0my_pred\u001b[0m\u001b[0;34m)\u001b[0m\u001b[0;34m\u001b[0m\u001b[0;34m\u001b[0m\u001b[0m\n\u001b[1;32m      5\u001b[0m \u001b[0mplt\u001b[0m\u001b[0;34m.\u001b[0m\u001b[0mfigure\u001b[0m\u001b[0;34m(\u001b[0m\u001b[0mfigsize\u001b[0m\u001b[0;34m=\u001b[0m\u001b[0;34m(\u001b[0m\u001b[0;36m9\u001b[0m\u001b[0;34m,\u001b[0m \u001b[0;36m6\u001b[0m\u001b[0;34m)\u001b[0m\u001b[0;34m)\u001b[0m\u001b[0;34m\u001b[0m\u001b[0;34m\u001b[0m\u001b[0m\n",
            "\u001b[0;31mNameError\u001b[0m: name 'X_train' is not defined"
          ]
        }
      ]
    }
  ]
}